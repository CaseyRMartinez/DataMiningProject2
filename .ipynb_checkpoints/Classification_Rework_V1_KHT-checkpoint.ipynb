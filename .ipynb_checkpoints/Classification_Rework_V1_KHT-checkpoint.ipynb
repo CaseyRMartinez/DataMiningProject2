{
 "cells": [
  {
   "cell_type": "markdown",
   "metadata": {},
   "source": [
    "# <center> Project 2 - Classification of Wind Turbine Alarms and Power Performance</center>\n",
    "\n",
    "## <center> MSDS 7331 Data Mining - Section 401 </center> \n",
    "### <center> Team:  Sarah Fite, Sheri Loftin, Casey Martinez, Kyle Thomas </center>\n",
    "\n",
    "\n",
    "\n",
    "# Imports and Data\n",
    "\n",
    "For this project, we continue to examine data provided by Siemens, the wind turbine manufacturer, and Pattern Energy, the owner/operator (Casey Martinez's employer).  For this project we analyze this dataset using both Logistics Regression and Support Vector Machines (SVM).\n",
    "\n",
    "The background of this data and the business understanding behind it can be found as part of Project 1 at: https://github.com/CaseyRMartinez/DataMiningProject1/blob/master/DataMiningProject1_V5.ipynb"
   ]
  },
  {
   "cell_type": "code",
   "execution_count": 1,
   "metadata": {},
   "outputs": [],
   "source": [
    "import pandas as pd\n",
    "import numpy as np\n",
    "import os\n",
    "# import matplotlib.pyplot as plt\n",
    "import warnings\n",
    "import sklearn\n",
    "# import seaborn as sns\n",
    "warnings.simplefilter('ignore', DeprecationWarning)\n",
    "warnings.simplefilter('ignore', FutureWarning)\n",
    "from sklearn.metrics import accuracy_score, confusion_matrix\n",
    "from sklearn.model_selection import train_test_split\n",
    "from sklearn.preprocessing import Imputer\n",
    "from sklearn import preprocessing\n",
    "from sklearn import metrics as mt\n",
    "from sklearn.model_selection import GridSearchCV\n",
    "from sklearn.metrics import classification_report\n",
    "from sklearn.model_selection import ShuffleSplit\n",
    "from sklearn.model_selection import cross_val_score\n",
    "from matplotlib import pyplot\n",
    "from sklearn import svm\n",
    "from sklearn import tree\n",
    "import matplotlib.pyplot as plt\n",
    "# import pydotplus as plt\n",
    "import six\n",
    "# from sklearn.tree import export_graphviz"
   ]
  },
  {
   "cell_type": "markdown",
   "metadata": {},
   "source": [
    "To start, we will first look at the alarm data and one quarter worth of wind farm supervisory control and data acquisition (SCADA) system data.  This SCADA data is specifically used for performance monitoring of large utility-scale wind turbines."
   ]
  },
  {
   "cell_type": "code",
   "execution_count": 2,
   "metadata": {},
   "outputs": [
    {
     "name": "stdout",
     "output_type": "stream",
     "text": [
      "DF scada is:  (52462, 1291)\n"
     ]
    },
    {
     "name": "stderr",
     "output_type": "stream",
     "text": [
      "/home/kyle/anaconda3/lib/python3.6/site-packages/ipykernel_launcher.py:61: RuntimeWarning: divide by zero encountered in log\n"
     ]
    }
   ],
   "source": [
    "path = \"/home/kyle/Documents/thomaskh522@gmail.com/SMU/DataMining/Classificaiton2/\"\n",
    "scada =  pd.read_csv(path + \"SCADAcombined2017_T014.csv\")\n",
    "alarms_desc = pd.read_csv(path + \"Siemens_Fault_Code_Descriptions.csv\")\n",
    "print(\"DF scada is: \", scada.shape)\n",
    "# scada.head()\n",
    "\n",
    "scada.dropna(thresh=10000,axis=1,inplace=True)\n",
    "\n",
    "colsdrop = ['StationId', 'CommunicationId', 'NeighbourId',\n",
    "           'NeighbourIdTwo', 'XPos', 'YPos', 'wtc_ActPower_min',\n",
    "           'wtc_ActPower_max', 'wtc_ActPower_stddev',\n",
    "           'wtc_AmpPhR_min', 'wtc_AmpPhR_max', 'wtc_AmpPhR_mean',\n",
    "           'wtc_AmpPhR_stddev', 'wtc_AmpPhS_min', 'wtc_AmpPhS_max',\n",
    "           'wtc_AmpPhS_mean', 'wtc_AmpPhS_stddev', 'wtc_AmpPhT_min',\n",
    "           'wtc_AmpPhT_max', 'wtc_AmpPhT_mean', 'wtc_AmpPhT_stddev',\n",
    "           'wtc_RawPower_min', 'wtc_RawPower_max', 'wtc_RawPower_mean',\n",
    "           'wtc_RawPower_stddev', 'wtc_GenRpm_mean',\n",
    "           'wtc_MainSRpm_mean', 'wtc_PitchRef_BladeA_mean',\n",
    "           'wtc_PitchRef_BladeB_mean', 'wtc_PitchRef_BladeC_mean','wtc_TwrHumid_mean', \n",
    "            'wtc_PitcPosA_mean','wtc_PitcPosB_mean', 'wtc_PitcPosC_mean','wtc_BoostKWh_endvalue',\n",
    "           'wtc_GeOilTmp_mean','wtc_HubTemp_mean','wtc_NacelTmp_mean','wtc_ConvWTmp_mean',\n",
    "           'wtc_MainBTmp_mean','WindDir_Angle_3D_Avg','WindDir_Angle_3D_Std','WindDir_Angle_3D_Avg',\n",
    "           'WindDir_Angle_3D_Std']\n",
    "\n",
    "scada.drop(colsdrop,axis=1,inplace=True)\n",
    "#################\n",
    "# Merge data sets\n",
    "#################\n",
    "scada.dropna(inplace=True)\n",
    "scada['wtc_AlarmCde_endvalue'] = scada['wtc_AlarmCde_endvalue'].astype(int)\n",
    "\n",
    "df = scada.merge(alarms_desc, \n",
    "         left_on = 'wtc_AlarmCde_endvalue', \n",
    "         right_on=\"Code\",\n",
    "         how='left')\n",
    "\n",
    "# del alarms_desc\n",
    "\n",
    "df['TimeStamp'] = pd.to_datetime(df['TimeStamp'])\n",
    "df.set_index('TimeStamp', inplace=True)\n",
    "df.index\n",
    "\n",
    "df.dropna(inplace=True)\n",
    "######################\n",
    "# Create new variables\n",
    "######################\n",
    "\n",
    "# Rounded Wind Speed for GroupBy\n",
    "df['WindSpeed_adj'] = df['wtc_AcWindSp_mean'].round(1)\n",
    "\n",
    "# Wind changes at night\n",
    "df['HourOfDay'] = df.index.hour\n",
    "\n",
    "# Yaw Error\n",
    "df['YawError'] = df['wtc_YawPos_mean'] - df['WindDir_ICEFREE_D1_WVT']\n",
    "\n",
    "# Adding boost to ref set point\n",
    "df['BoostedRef'] = df['wtc_BoostAva_mean'] + df['wtc_PowerRef_endvalue']\n",
    "\n",
    "# Wind Sheer\n",
    "df['WindSheer1'] = np.log(df['WS_Thies_80m_Avg'] / df['WS_Thies_26m_Avg']) / np.log(80/26)\n",
    "# df['WindSheer2'] = np.log(df['WS_Thies_80m_Avg'] / df['WS_Thies_60m_Avg']) / np.log(80/60)\n",
    "\n",
    "# Fault Types\n",
    "df = df.rename(columns={'Fault Type': 'Fault_Type'})\n",
    "df['Fault_Type'] = df['Fault_Type'].replace('W','0')\n",
    "df['Fault_Type'] = df['Fault_Type'].astype(int)\n",
    "\n",
    "# Boosted Power Delta\n",
    "df['PowerDelta'] = df['BoostedRef'] - df['wtc_ActPower_mean']\n",
    "\n",
    "available = (df['Fault_Type'] != 1) & (df['wtc_ScInOper_timeon'] == 600)\n",
    "df['Available'] = [1 if x == True else 0 for x in available]\n",
    "\n",
    "# Icing\n",
    "icing = (df['AirTC_3m_Avg'] < 3) & (abs(df['WS_ICEFREE_Avg'] - df['WS_Thies_80m_Avg']) > 1)\n",
    "df['Icing'] = [1 if x == True else 0 for x in icing]\n",
    "\n",
    "# Air Density\n",
    "df['Air_density'] = (df['BP_mbar_76m_Avg']*100)/((df['AirTC_3m_Avg']+273.15)*287.05)\n",
    "\n",
    "# Air Density adjusted Wind Speed\n",
    "df['AdjTurbineWS'] = df['wtc_AcWindSp_mean']*(np.power(df['Air_density'],(1/3)))\n",
    "\n",
    "# Turbulence\n",
    "df['TurbulenceMet'] = df['WS_Thies_80m_Std'] / df['WS_Thies_80m_Avg']\n",
    "df['TurbulenceTurbine'] = df['wtc_AcWindSp_stddev'] / df['wtc_AcWindSp_mean']\n",
    "\n",
    "# df['MainBearingFault'] = [1 if x == 64038 else 0 for x in df['Code']]\n",
    "\n",
    "df.dropna(inplace=True)\n",
    "\n",
    "# Calculating Derate Conditions\n",
    "derate = (df['PowerDelta'] < 0) & (df['Available'] == 1) & (df['BoostedRef'] < 2300) #df['BoostedRef'].max())\n",
    "df['Derated'] = [1 if x == True else 0 for x in derate]\n",
    "\n",
    "# Use cleaned data set for calculating expected energy\n",
    "clean = (df['Available'] == 1) & (df['wtc_PowerRef_endvalue'] == 2300) & (df['Icing'] == 0) & (df['wtc_BoostAva_mean'] == 0)\n",
    "df_clean = df[clean]"
   ]
  },
  {
   "cell_type": "code",
   "execution_count": 3,
   "metadata": {},
   "outputs": [],
   "source": [
    "low_thresh = 5\n",
    "high_thresh = 11\n",
    "veryhigh_thresh = 13\n",
    "\n",
    "df_clean_low = df_clean[df_clean['wtc_AcWindSp_mean'] <= low_thresh]\n",
    "df_clean_mid = df_clean[(df_clean['wtc_AcWindSp_mean'] > low_thresh) & (df_clean['wtc_AcWindSp_mean'] <= high_thresh)]\n",
    "# df_clean_high = df_clean[df_clean['wtc_AcWindSp_mean'] > high_thresh]\n",
    "df_clean_high = df_clean[(df_clean['wtc_AcWindSp_mean'] > high_thresh) & (df_clean['wtc_AcWindSp_mean'] <= veryhigh_thresh)]\n",
    "df_clean_veryhigh = df_clean[df_clean['wtc_AcWindSp_mean'] > veryhigh_thresh]"
   ]
  },
  {
   "cell_type": "code",
   "execution_count": 7,
   "metadata": {},
   "outputs": [],
   "source": [
    "low_5th = df_clean_low.groupby('WindSpeed_adj').quantile(0.05)\n",
    "mid_5th = df_clean_mid.groupby('WindSpeed_adj').quantile(0.05)\n",
    "high_5th = df_clean_high.groupby('WindSpeed_adj').quantile(0.05)\n",
    "veryhigh_5th = df_clean_veryhigh.groupby('WindSpeed_adj').quantile(0.05)\n",
    "low_median = df_clean_low.groupby('WindSpeed_adj').median()\n",
    "mid_median = df_clean_mid.groupby('WindSpeed_adj').median()\n",
    "high_median = df_clean_high.groupby('WindSpeed_adj').median()\n",
    "veryhigh_median = df_clean_veryhigh.groupby('WindSpeed_adj').median()"
   ]
  },
  {
   "cell_type": "code",
   "execution_count": 8,
   "metadata": {},
   "outputs": [
    {
     "name": "stderr",
     "output_type": "stream",
     "text": [
      "/home/kyle/anaconda3/lib/python3.6/site-packages/ipykernel_launcher.py:48: SettingWithCopyWarning: \n",
      "A value is trying to be set on a copy of a slice from a DataFrame.\n",
      "Try using .loc[row_indexer,col_indexer] = value instead\n",
      "\n",
      "See the caveats in the documentation: http://pandas.pydata.org/pandas-docs/stable/indexing.html#indexing-view-versus-copy\n"
     ]
    }
   ],
   "source": [
    "# low\n",
    "from numpy.polynomial import polynomial as P\n",
    "from numpy.polynomial.polynomial import polyval\n",
    "\n",
    "degree = 2\n",
    "\n",
    "# 5th quantile\n",
    "xdata2 = low_5th.index.values\n",
    "ydata2 = low_5th['wtc_ActPower_mean'].values\n",
    "\n",
    "low_5th_c, stats2 = P.polyfit(xdata2, ydata2,degree,full=True)\n",
    "\n",
    "# mid\n",
    "\n",
    "degree = 5\n",
    "\n",
    "# 5th quantile\n",
    "xdata2 = mid_5th.index.values\n",
    "ydata2 = mid_5th['wtc_ActPower_mean'].values\n",
    "\n",
    "mid_5th_c, stats2 = P.polyfit(xdata2, ydata2,degree,full=True)\n",
    "\n",
    "# high\n",
    "\n",
    "degree = 5\n",
    "\n",
    "# 5th quantile\n",
    "xdata2 = high_5th.index.values\n",
    "ydata2 = high_5th['wtc_ActPower_mean'].values\n",
    "\n",
    "high_5th_c, stats2 = P.polyfit(xdata2, ydata2,degree,full=True)\n",
    "\n",
    "def ExpectedCalc5th(wind):\n",
    "    if wind <= low_thresh:\n",
    "        y = polyval(wind,low_5th_c)\n",
    "        return y\n",
    "    elif (wind > low_thresh) & (wind <= high_thresh):\n",
    "        y = polyval(wind,mid_5th_c)\n",
    "        return y\n",
    "    elif (wind > high_thresh) & (wind <= veryhigh_thresh):\n",
    "        y = polyval(wind,high_5th_c)\n",
    "        return y\n",
    "    else:\n",
    "        y = veryhigh_median['wtc_ActPower_mean'].median()\n",
    "        return y\n",
    "    \n",
    "\n",
    "df_clean['ExpectedEnergy_5th'] = df_clean['wtc_AcWindSp_mean'].map(ExpectedCalc5th)\n",
    "df['ExpectedEnergy_5th'] = df['wtc_AcWindSp_mean'].map(ExpectedCalc5th)"
   ]
  },
  {
   "cell_type": "code",
   "execution_count": 9,
   "metadata": {},
   "outputs": [
    {
     "data": {
      "image/png": "[encoded data removed]",
      "text/plain": [
       "<matplotlib.figure.Figure at 0x7fbe0be77320>"
      ]
     },
     "metadata": {},
     "output_type": "display_data"
    }
   ],
   "source": [
    "# Plot expected energy on clean data\n",
    "\n",
    "# x1 = df_clean['wtc_AcWindSp_mean']\n",
    "# y1 = df_clean['ExpectedEnergy_median'] \n",
    "\n",
    "x2 = df_clean['wtc_AcWindSp_mean']\n",
    "y2 = df_clean['wtc_ActPower_mean'] \n",
    "\n",
    "x3 = df_clean['wtc_AcWindSp_mean']\n",
    "y3 = df_clean['ExpectedEnergy_5th'] \n",
    "\n",
    "plt.figure(figsize=(20, 10))\n",
    "plt.rc('xtick', labelsize=20)    # fontsize of the tick labels\n",
    "plt.rc('font', size=20)          # controls default text sizes\n",
    "plt.rc('axes', titlesize=20)     # fontsize of the axes title\n",
    "plt.rc('axes', labelsize=20)    # fontsize of the x and y labels\n",
    "plt.rc('ytick', labelsize=20)    # fontsize of the tick labels\n",
    "plt.rc('legend', fontsize=20)    # legend fontsize\n",
    "plt.rc('figure', titlesize=30)  # fontsize of the figure title\n",
    "\n",
    "plt.scatter(x2, y2,alpha=0.3)#, c=c)\n",
    "# plt.scatter(x1,y1,alpha = 0.5, c='g')\n",
    "plt.scatter(x3,y3,alpha = 0.5, c='r')\n",
    "\n",
    "plt.title(\"Clean Power Curve\")\n",
    "plt.xlabel('Wind Speed')\n",
    "plt.ylabel('Power')\n",
    "# plt.legend()\n",
    "plt.show()"
   ]
  },
  {
   "cell_type": "markdown",
   "metadata": {},
   "source": [
    "# IF WE KEEP THE ABOVE GRAPH IT NEEDS A PARAGRAPH ON WHAT IT IS AND WHY IT IS INTERESTING "
   ]
  },
  {
   "cell_type": "markdown",
   "metadata": {},
   "source": [
    "### Turbine Performance Classification\n",
    "The goal of our classificaiton reports was to determine if a wind turbine was underperforming. In order to do this, we calculated the historical fifth percentile of energy output (low end of energy production). If a turbine was less than or equal to this value then it is deemed to be under performing. "
   ]
  },
  {
   "cell_type": "code",
   "execution_count": 10,
   "metadata": {},
   "outputs": [
    {
     "name": "stdout",
     "output_type": "stream",
     "text": [
      "Percent of Under Performance Data: 26.33926019095535 %\n"
     ]
    }
   ],
   "source": [
    "# Make labels\n",
    "# insipred by: https://stackoverflow.com/questions/26886653/pandas-create-new-column-based-on-values-from-other-columns\n",
    "\n",
    "def make_class(row):\n",
    "    if row[\"wtc_ActPower_mean\"] <= row[\"ExpectedEnergy_5th\"]:\n",
    "        return \"1\"\n",
    "    else:\n",
    "        return \"0\"\n",
    "\n",
    "df[\"Underperformance\"] = df.apply(lambda x: make_class(x), axis=1)\n",
    "df['Underperformance'] = df['Underperformance'].astype(int)\n",
    "\n",
    "percent = (df['Underperformance'].sum() / len(df))*100\n",
    "print('Percent of Under Performance Data:',percent,\"%\")"
   ]
  },
  {
   "cell_type": "markdown",
   "metadata": {},
   "source": [
    "## Classification: Preprocessing of Data\n",
    "\n",
    "According to several references, many classificaiton models benefit from data scaling. Specifically, it can speed up the training process significantly for certain models (such as support vector machines), and it can prevent certain features from becoming more important than others do the differnce in the scale of their values.\n",
    "\n",
    "SciKitLearn has some built in functions to expedite this processs. First, however, before this process can begin, the variables must be encoded from the string class variable into a numeric variable that can be interpreted by SciKitLearn."
   ]
  },
  {
   "cell_type": "code",
   "execution_count": 12,
   "metadata": {},
   "outputs": [
    {
     "data": {
      "text/plain": [
       "Index(['BoostedRef', 'WindSheer1', 'wtc_AcWindSp_mean', 'wtc_NacelPos_mean',\n",
       "       'wtc_ScInOper_timeon', 'WS_Thies_80m_Avg', 'WS_Thies_60m_Avg',\n",
       "       'WS_ICEFREE_Avg', 'BP_mbar_76m_Avg', 'AirTC_3m_Avg', 'Icing',\n",
       "       'Air_density'],\n",
       "      dtype='object')"
      ]
     },
     "execution_count": 12,
     "metadata": {},
     "output_type": "execute_result"
    }
   ],
   "source": [
    "#Encode the labels (examples found on SKLearn website... need to find address)\n",
    "le = preprocessing.LabelEncoder()\n",
    "le.fit(list(df[\"Underperformance\"].unique()))\n",
    "df[\"target\"] = le.transform(df[\"Underperformance\"])\n",
    "df = df.replace([np.inf, -np.inf], np.nan).dropna()\n",
    "\n",
    "\n",
    "\n",
    "#Now the other variables used to train the model need to scaled. First, however, un-need variables need to be dropped.\n",
    "y = df[\"target\"]\n",
    "\n",
    "keepcols = ['BoostedRef', 'WindSheer1',\n",
    "            'wtc_AcWindSp_mean','wtc_NacelPos_mean','wtc_ScInOper_timeon', \n",
    "            'WS_Thies_80m_Avg', 'WS_Thies_60m_Avg', 'WS_ICEFREE_Avg',\n",
    "           'BP_mbar_76m_Avg', 'AirTC_3m_Avg','Icing','Air_density']\n",
    "\n",
    "data = df[keepcols]\n",
    "\n",
    "\n",
    "X = preprocessing.scale(data) \n",
    "\n",
    "data.columns"
   ]
  },
  {
   "cell_type": "markdown",
   "metadata": {},
   "source": [
    "# Modeling and Evaluation 1\n",
    "# *FOR RESUBMISSION*\n",
    "\n",
    "## WE NEED MORE EXPLINATION ON WHY ACCURACY IS THE BEST METRIC!\n",
    "\n",
    "The goal of our classificaiton models was to predict if a wind turbine was under performing based on its operating conditions. This is binary response, either a wind turbine is underperforming or it is not. For Pattern Energy it is important that accuracy of the model be as high as possible. They want to identify any turbine that could be under performing and then do a more indepth analysis on the identified turbines before taking corrective acction. Therefore, we will be evaluating each model using the accuracy metric. While there are some disadvantages to using accuracy (most notabley, it ignores the cost associated with misclassificaiton). However, since each under performing wind turbine will be further examined this is of minimal concern to Pattern. It is more important to them that any turbine that could be under performing be identified for futher investigation.\n",
    "\n",
    "\n",
    "# Modeling and Evaluation 1\n",
    "# *FOR RESUBMISSION*\n",
    "\n",
    "For our classificaiton models the data was split into traing and test data. A simple 80/20 split was used. This means that 80 percent of the data set was used to train the classification models, and 20 percent was used for testing purposes. This simple approach was used to increase training times.\n",
    "\n",
    "## NEW SECTION (needs review for accuracy)\n",
    "Since accuracy is so important to Pattern Energy, the creation of testing and validation data sets are very important. We wanted to be sure that our results would be representative and useful to Pattern. As a result we opted to use 10 fold cross validation. This will split the data into smaller data sets that can be used for testing and training. The model will essentially be trained on 90% of the data, and use 10 percent for validation. However, since we will iterate through all of the data sets for both testing and training we know the resultsing models will have seen all of the data, and will have been tested on all of the data. This allows us to avoid bias in our models and avoid over fitting.\n",
    "\n",
    "To acomplish this we will be using several methods within SciKit Learn. Specifically, we will be using teh cross_val_score helper function **NEEDS MORE HERE AS WELL AS REVIEW TO THE ABOVE**\n",
    "\n",
    "We will also be using \"GridSearchCV\" which allows us to specify the CV method we wish to apply while using a grid serach to find the best hyper-parameters to use in our models. \n",
    "\n",
    "Please note that we still split our data into an 80/20 split before implementing cross validation. This means that 80 percent of out training data will then be split into 10 sub-units (for 10 fold CV). We will then cycle through each of these sub units and use 9 for trianing and 1 for validation until all units have been used for both training and validation purposes. Finally, when we do a final comparison of the model, we can use the test data (the 20 percent from the initial splitting of testing and training data). This means that our models will have never seen this testing data before and give an accurate representation of the performance of the model."
   ]
  },
  {
   "cell_type": "code",
   "execution_count": 19,
   "metadata": {},
   "outputs": [],
   "source": [
    "# Initial splitting of the data.\n",
    "from sklearn.model_selection import cross_val_score\n",
    "X_train, X_test, y_train, y_test = train_test_split(X, y, test_size=0.2)"
   ]
  },
  {
   "cell_type": "markdown",
   "metadata": {},
   "source": [
    "# [Modeling and Evaluation 3]\n",
    "# Classification Task: Predicting Underperformance\n",
    "\n",
    "## KNN Approach\n",
    "\n",
    "The goal of this classification model was to predict turbine under performance using a KNN approach. This information would be helpful to identify if a turbine is under performing using historical data. \n",
    "\n",
    "Two different approaches were used here. First, we ran a simple KNN using different K values. The goal was to see how the defaults for the KNN classifer performed on our data while only chaning the K value. This revealed that adding an increasing number of neighbors did not increase the accuracy of the classifer. We used this information to limit the number of neighbors in the grid search to decrease training time.\n",
    "\n",
    "Then we did a intensive grid search to see the maximum performance that could be gained from this classifier. The intensive grid search did not have much of an impact on accuracy even though 30 different KNN classiferes were trained and tested.\n",
    "\n",
    "The best model had the following hyper-paremters:\n",
    "* **Metric** - Manhattan. This indicates that Manhattan distance was used to calculate distance.\n",
    "* **K** - 5. This indicates that the optimal number of neights to use \n",
    "* **Weights** - Distance. this indicates that optimal performance was acheived when closer neighbors had more influce on the model (rather than all neighbors having the same influce).\n",
    "\n",
    "### Results of KNN Classifier\n",
    "The best model has an accuarcy of 92.8 percent.\n",
    "\n",
    "### Feature Importance\n",
    "Feature importance was determined in the mini-project. We opted to keep all the same variables that we deemed most important from the mini-project. However, we could attempt to determine which variables are the most important for KNN classificaiton. Looking at the literature, it does not appear that variable importance is a tool used with KNN (https://www.r-bloggers.com/simulated-annealing-feature-selection/)\n",
    "\n",
    "It could be possible to do a leave one out type analysis with KNN. In this instance you would run a KNN analysis with all but one feature, and then calculate the accuracy. Do this for all feautres in the dataset. The model that has the worst accuracy could mean that the most important feature was dropped from the model. \n",
    "\n",
    "I will attempt to do try this method using the model that was selected via the grid search. The top three most important features (according to this method) are show below with the accuracy of the KNN classifier without their inclusion. Remember that the base accuracy was 92.8 percent.\n",
    "\n",
    "1. \t**wtc_ScInOper_timeon** \t0.907939\n",
    "2. \t**wtc_AcWindSp_mean** \t0.910321\n",
    "3. \t**BoostedRef** \t0.910798"
   ]
  },
  {
   "cell_type": "code",
   "execution_count": 44,
   "metadata": {},
   "outputs": [
    {
     "name": "stdout",
     "output_type": "stream",
     "text": [
      "Accuracy of classifier with 1 neighbors is: 0.91\n",
      "Accuracy of classifier with 2 neighbors is: 0.92\n",
      "Accuracy of classifier with 3 neighbors is: 0.92\n",
      "Accuracy of classifier with 4 neighbors is: 0.92\n",
      "Accuracy of classifier with 5 neighbors is: 0.92\n",
      "Accuracy of classifier with 6 neighbors is: 0.92\n",
      "Accuracy of classifier with 7 neighbors is: 0.92\n",
      "Accuracy of classifier with 8 neighbors is: 0.92\n",
      "Accuracy of classifier with 9 neighbors is: 0.92\n",
      "Accuracy of classifier with 10 neighbors is: 0.92\n"
     ]
    }
   ],
   "source": [
    "for x in range(1,11):\n",
    "    K=x\n",
    "    clf = KNeighborsClassifier(n_neighbors=K, weights='uniform', metric='euclidean')\n",
    "    clf.fit(X_train,y_train)\n",
    "    p = clf.predict(X_test)\n",
    "    a = accuracy_score(p,y_test)\n",
    "    print('Accuracy of classifier with %d neighbors is: %.2f'%(K,a))\n",
    "# I was getting 92% accuracy just through some basic KNN... I don't think we will get much better."
   ]
  },
  {
   "cell_type": "code",
   "execution_count": 18,
   "metadata": {
    "scrolled": true
   },
   "outputs": [
    {
     "name": "stdout",
     "output_type": "stream",
     "text": [
      "Best parameters set found on development set:\n",
      "\n",
      "{'metric': 'manhattan', 'n_neighbors': 5, 'weights': 'distance'}\n",
      "\n",
      "Detailed classification report:\n",
      "\n",
      "             precision    recall  f1-score   support\n",
      "\n",
      "          0       0.93      0.97      0.95      7827\n",
      "          1       0.90      0.79      0.84      2666\n",
      "\n",
      "avg / total       0.92      0.92      0.92     10493\n",
      "\n",
      "\n",
      "Accuracy: 0.924711712570285\n",
      "\n"
     ]
    },
    {
     "ename": "NameError",
     "evalue": "name 'clf' is not defined",
     "output_type": "error",
     "traceback": [
      "\u001b[0;31m---------------------------------------------------------------------------\u001b[0m",
      "\u001b[0;31mNameError\u001b[0m                                 Traceback (most recent call last)",
      "\u001b[0;32m<ipython-input-18-27a297627d4b>\u001b[0m in \u001b[0;36m<module>\u001b[0;34m()\u001b[0m\n\u001b[1;32m     33\u001b[0m \u001b[0;34m\u001b[0m\u001b[0m\n\u001b[1;32m     34\u001b[0m \u001b[0mprint\u001b[0m\u001b[0;34m(\u001b[0m\u001b[0;34m)\u001b[0m\u001b[0;34m\u001b[0m\u001b[0m\n\u001b[0;32m---> 35\u001b[0;31m \u001b[0mmeans\u001b[0m \u001b[0;34m=\u001b[0m \u001b[0mclf\u001b[0m\u001b[0;34m.\u001b[0m\u001b[0mcv_results_\u001b[0m\u001b[0;34m[\u001b[0m\u001b[0;34m'mean_test_score'\u001b[0m\u001b[0;34m]\u001b[0m\u001b[0;34m\u001b[0m\u001b[0m\n\u001b[0m\u001b[1;32m     36\u001b[0m \u001b[0mstds\u001b[0m \u001b[0;34m=\u001b[0m \u001b[0mclf\u001b[0m\u001b[0;34m.\u001b[0m\u001b[0mcv_results_\u001b[0m\u001b[0;34m[\u001b[0m\u001b[0;34m'std_test_score'\u001b[0m\u001b[0;34m]\u001b[0m\u001b[0;34m\u001b[0m\u001b[0m\n\u001b[1;32m     37\u001b[0m \u001b[0;34m\u001b[0m\u001b[0m\n",
      "\u001b[0;31mNameError\u001b[0m: name 'clf' is not defined"
     ]
    }
   ],
   "source": [
    "from sklearn.neighbors import KNeighborsClassifier\n",
    "from sklearn.grid_search import GridSearchCV\n",
    "from sklearn.model_selection import cross_val_score\n",
    "\n",
    "k = list(range(1,6)) # search up to 5 neighbors\n",
    "w = ['uniform', 'distance']\n",
    "m = ['euclidean', 'minkowski', 'manhattan']\n",
    "parameter_grid = {'n_neighbors': k, 'weights' : w, 'metric': m}\n",
    "\n",
    "knn = KNeighborsClassifier()\n",
    "\n",
    "# NOTE THIS IS NEW. I ADDED A 10 fold CV here\n",
    "g_seach = GridSearchCV(knn, param_grid=parameter_grid, scoring='accuracy', cv=10)\n",
    "# scores = cross_val_score(g_seach, X, y, cv=10)\n",
    "# scores\n",
    "\n",
    "# FROM FIRST SUBMISSION\n",
    "\n",
    "g_seach.fit(X_train, y_train)\n",
    "print(\"Best parameters set found on development set:\")\n",
    "print()\n",
    "print(g_seach.best_params_)\n",
    "print()\n",
    "\n",
    "print(\"Detailed classification report:\")\n",
    "print()\n",
    "\n",
    "y_true, y_pred = y_test, g_seach.predict(X_test)\n",
    "acc = accuracy_score(y_test,y_pred)\n",
    "print(classification_report(y_true, y_pred))\n",
    "print()\n",
    "print(\"Accuracy:\", acc)\n",
    "\n",
    "print()\n"
   ]
  },
  {
   "cell_type": "code",
   "execution_count": 26,
   "metadata": {},
   "outputs": [
    {
     "data": {
      "text/plain": [
       "[mean: 0.90579, std: 0.00431, params: {'metric': 'euclidean', 'n_neighbors': 1, 'weights': 'uniform'},\n",
       " mean: 0.90579, std: 0.00431, params: {'metric': 'euclidean', 'n_neighbors': 1, 'weights': 'distance'},\n",
       " mean: 0.91694, std: 0.00231, params: {'metric': 'euclidean', 'n_neighbors': 2, 'weights': 'uniform'},\n",
       " mean: 0.90579, std: 0.00431, params: {'metric': 'euclidean', 'n_neighbors': 2, 'weights': 'distance'},\n",
       " mean: 0.91740, std: 0.00256, params: {'metric': 'euclidean', 'n_neighbors': 3, 'weights': 'uniform'},\n",
       " mean: 0.91821, std: 0.00253, params: {'metric': 'euclidean', 'n_neighbors': 3, 'weights': 'distance'},\n",
       " mean: 0.91871, std: 0.00351, params: {'metric': 'euclidean', 'n_neighbors': 4, 'weights': 'uniform'},\n",
       " mean: 0.91875, std: 0.00242, params: {'metric': 'euclidean', 'n_neighbors': 4, 'weights': 'distance'},\n",
       " mean: 0.91828, std: 0.00391, params: {'metric': 'euclidean', 'n_neighbors': 5, 'weights': 'uniform'},\n",
       " mean: 0.92028, std: 0.00344, params: {'metric': 'euclidean', 'n_neighbors': 5, 'weights': 'distance'},\n",
       " mean: 0.90579, std: 0.00431, params: {'metric': 'minkowski', 'n_neighbors': 1, 'weights': 'uniform'},\n",
       " mean: 0.90579, std: 0.00431, params: {'metric': 'minkowski', 'n_neighbors': 1, 'weights': 'distance'},\n",
       " mean: 0.91694, std: 0.00231, params: {'metric': 'minkowski', 'n_neighbors': 2, 'weights': 'uniform'},\n",
       " mean: 0.90579, std: 0.00431, params: {'metric': 'minkowski', 'n_neighbors': 2, 'weights': 'distance'},\n",
       " mean: 0.91740, std: 0.00256, params: {'metric': 'minkowski', 'n_neighbors': 3, 'weights': 'uniform'},\n",
       " mean: 0.91821, std: 0.00253, params: {'metric': 'minkowski', 'n_neighbors': 3, 'weights': 'distance'},\n",
       " mean: 0.91871, std: 0.00351, params: {'metric': 'minkowski', 'n_neighbors': 4, 'weights': 'uniform'},\n",
       " mean: 0.91875, std: 0.00242, params: {'metric': 'minkowski', 'n_neighbors': 4, 'weights': 'distance'},\n",
       " mean: 0.91828, std: 0.00391, params: {'metric': 'minkowski', 'n_neighbors': 5, 'weights': 'uniform'},\n",
       " mean: 0.92028, std: 0.00344, params: {'metric': 'minkowski', 'n_neighbors': 5, 'weights': 'distance'},\n",
       " mean: 0.90784, std: 0.00304, params: {'metric': 'manhattan', 'n_neighbors': 1, 'weights': 'uniform'},\n",
       " mean: 0.90784, std: 0.00304, params: {'metric': 'manhattan', 'n_neighbors': 1, 'weights': 'distance'},\n",
       " mean: 0.91687, std: 0.00292, params: {'metric': 'manhattan', 'n_neighbors': 2, 'weights': 'uniform'},\n",
       " mean: 0.90784, std: 0.00304, params: {'metric': 'manhattan', 'n_neighbors': 2, 'weights': 'distance'},\n",
       " mean: 0.91868, std: 0.00387, params: {'metric': 'manhattan', 'n_neighbors': 3, 'weights': 'uniform'},\n",
       " mean: 0.91952, std: 0.00381, params: {'metric': 'manhattan', 'n_neighbors': 3, 'weights': 'distance'},\n",
       " mean: 0.92078, std: 0.00246, params: {'metric': 'manhattan', 'n_neighbors': 4, 'weights': 'uniform'},\n",
       " mean: 0.92052, std: 0.00404, params: {'metric': 'manhattan', 'n_neighbors': 4, 'weights': 'distance'},\n",
       " mean: 0.92154, std: 0.00409, params: {'metric': 'manhattan', 'n_neighbors': 5, 'weights': 'uniform'},\n",
       " mean: 0.92319, std: 0.00385, params: {'metric': 'manhattan', 'n_neighbors': 5, 'weights': 'distance'}]"
      ]
     },
     "execution_count": 26,
     "metadata": {},
     "output_type": "execute_result"
    }
   ],
   "source": [
    "# means = g_seach.cv_results_['mean_test_score']\n",
    "# stds = g_seach.cv_results_['std_test_score']\n",
    "\n",
    "# for mean, std, params in zip(means, stds, clf.cv_results_['params']):\n",
    "#     print(\"%0.3f (+/-%0.03f) for %r\"% (mean, std * 2, params))\n",
    "# print()\n",
    "\n",
    "g_seach.grid_scores_"
   ]
  },
  {
   "cell_type": "code",
   "execution_count": 32,
   "metadata": {},
   "outputs": [
    {
     "name": "stdout",
     "output_type": "stream",
     "text": [
      "CV used during grid search:  10\n"
     ]
    }
   ],
   "source": [
    "print(\"CV used during grid search: \", g_seach.cv)"
   ]
  },
  {
   "cell_type": "markdown",
   "metadata": {},
   "source": [
    "### KNN Feature Importance"
   ]
  },
  {
   "cell_type": "code",
   "execution_count": 22,
   "metadata": {
    "collapsed": true
   },
   "outputs": [],
   "source": [
    "from sklearn.neighbors import KNeighborsClassifier\n",
    "model = KNeighborsClassifier(n_neighbors=5, weights='distance', metric='manhattan')\n",
    "model.fit(X_train,y_train)\n",
    "p = model.predict(X_test)\n",
    "a = accuracy_score(p,y_test)"
   ]
  },
  {
   "cell_type": "code",
   "execution_count": 41,
   "metadata": {},
   "outputs": [
    {
     "name": "stdout",
     "output_type": "stream",
     "text": [
      "Accuracy for model with variable:  BoostedRef dropped is:  0.9107976746402363\n",
      "Accuracy for model with variable:  WindSheer1 dropped is:  0.928237872867626\n",
      "Accuracy for model with variable:  wtc_AcWindSp_mean dropped is:  0.910321166491947\n",
      "Accuracy for model with variable:  wtc_NacelPos_mean dropped is:  0.9249976174592586\n",
      "Accuracy for model with variable:  wtc_ScInOper_timeon dropped is:  0.9079386257505003\n",
      "Accuracy for model with variable:  WS_Thies_80m_Avg dropped is:  0.9326217478318879\n",
      "Accuracy for model with variable:  WS_Thies_60m_Avg dropped is:  0.9322405413132565\n",
      "Accuracy for model with variable:  WS_ICEFREE_Avg dropped is:  0.9314781282759935\n",
      "Accuracy for model with variable:  BP_mbar_76m_Avg dropped is:  0.9260459353854951\n",
      "Accuracy for model with variable:  AirTC_3m_Avg dropped is:  0.9315734299056514\n",
      "Accuracy for model with variable:  Icing dropped is:  0.9286190793862575\n",
      "Accuracy for model with variable:  Air_density dropped is:  0.9310016201277042\n"
     ]
    }
   ],
   "source": [
    "# Feature importance was calculated after reviewing this Stack Overflow question:\n",
    "# https://stackoverflow.com/questions/42088336/how-to-get-the-most-contributing-feature-in-knn-classifier-sklearn\n",
    "import numpy as np\n",
    "from sklearn.model_selection import cross_val_score\n",
    "from sklearn.neighbors import KNeighborsClassifier\n",
    "\n",
    "keepcols = ['BoostedRef', 'WindSheer1',\n",
    "            'wtc_AcWindSp_mean','wtc_NacelPos_mean','wtc_ScInOper_timeon', \n",
    "            'WS_Thies_80m_Avg', 'WS_Thies_60m_Avg', 'WS_ICEFREE_Avg',\n",
    "           'BP_mbar_76m_Avg', 'AirTC_3m_Avg','Icing','Air_density']\n",
    "\n",
    "important_features = pd.DataFrame(columns=[\"Variable_Dropped\", \"Accuracy\"])\n",
    "\n",
    "for x in keepcols:\n",
    "    #set up the variables\n",
    "    y = df[\"target\"]\n",
    "    cycle_data = df[keepcols]\n",
    "    cycle_data = cycle_data.drop(x, axis=1)\n",
    "    X = preprocessing.scale(cycle_data)\n",
    "    \n",
    "    #make sure to keep the sample splitting so that value can be compared\n",
    "    X_train, X_test, y_train, y_test = train_test_split(X, y, test_size=0.2, random_state = 1)\n",
    "    \n",
    "    #create the model\n",
    "    model = KNeighborsClassifier(n_neighbors=5, weights='distance', metric='manhattan')\n",
    "    model.fit(X_train,y_train)\n",
    "    p = model.predict(X_test)\n",
    "    a = accuracy_score(p,y_test)\n",
    "    \n",
    "    #print the results\n",
    "    print(\"Accuracy for model with variable: \", x, \"dropped is: \", a)\n",
    "    \n",
    "    #append to output dataset for later manipulation\n",
    "    important_features = important_features.append({\"Variable_Dropped\": x, \"Accuracy\": a}, ignore_index=True)\n"
   ]
  },
  {
   "cell_type": "code",
   "execution_count": 44,
   "metadata": {},
   "outputs": [
    {
     "name": "stdout",
     "output_type": "stream",
     "text": [
      "The most important features are:\n",
      "\n"
     ]
    },
    {
     "data": {
      "text/html": [
       "<div>\n",
       "<style scoped>\n",
       "    .dataframe tbody tr th:only-of-type {\n",
       "        vertical-align: middle;\n",
       "    }\n",
       "\n",
       "    .dataframe tbody tr th {\n",
       "        vertical-align: top;\n",
       "    }\n",
       "\n",
       "    .dataframe thead th {\n",
       "        text-align: right;\n",
       "    }\n",
       "</style>\n",
       "<table border=\"1\" class=\"dataframe\">\n",
       "  <thead>\n",
       "    <tr style=\"text-align: right;\">\n",
       "      <th></th>\n",
       "      <th>Variable_Dropped</th>\n",
       "      <th>Accuracy</th>\n",
       "    </tr>\n",
       "  </thead>\n",
       "  <tbody>\n",
       "    <tr>\n",
       "      <th>4</th>\n",
       "      <td>wtc_ScInOper_timeon</td>\n",
       "      <td>0.907939</td>\n",
       "    </tr>\n",
       "    <tr>\n",
       "      <th>2</th>\n",
       "      <td>wtc_AcWindSp_mean</td>\n",
       "      <td>0.910321</td>\n",
       "    </tr>\n",
       "    <tr>\n",
       "      <th>0</th>\n",
       "      <td>BoostedRef</td>\n",
       "      <td>0.910798</td>\n",
       "    </tr>\n",
       "    <tr>\n",
       "      <th>3</th>\n",
       "      <td>wtc_NacelPos_mean</td>\n",
       "      <td>0.924998</td>\n",
       "    </tr>\n",
       "    <tr>\n",
       "      <th>8</th>\n",
       "      <td>BP_mbar_76m_Avg</td>\n",
       "      <td>0.926046</td>\n",
       "    </tr>\n",
       "    <tr>\n",
       "      <th>1</th>\n",
       "      <td>WindSheer1</td>\n",
       "      <td>0.928238</td>\n",
       "    </tr>\n",
       "    <tr>\n",
       "      <th>10</th>\n",
       "      <td>Icing</td>\n",
       "      <td>0.928619</td>\n",
       "    </tr>\n",
       "    <tr>\n",
       "      <th>11</th>\n",
       "      <td>Air_density</td>\n",
       "      <td>0.931002</td>\n",
       "    </tr>\n",
       "    <tr>\n",
       "      <th>7</th>\n",
       "      <td>WS_ICEFREE_Avg</td>\n",
       "      <td>0.931478</td>\n",
       "    </tr>\n",
       "    <tr>\n",
       "      <th>9</th>\n",
       "      <td>AirTC_3m_Avg</td>\n",
       "      <td>0.931573</td>\n",
       "    </tr>\n",
       "    <tr>\n",
       "      <th>6</th>\n",
       "      <td>WS_Thies_60m_Avg</td>\n",
       "      <td>0.932241</td>\n",
       "    </tr>\n",
       "    <tr>\n",
       "      <th>5</th>\n",
       "      <td>WS_Thies_80m_Avg</td>\n",
       "      <td>0.932622</td>\n",
       "    </tr>\n",
       "  </tbody>\n",
       "</table>\n",
       "</div>"
      ],
      "text/plain": [
       "       Variable_Dropped  Accuracy\n",
       "4   wtc_ScInOper_timeon  0.907939\n",
       "2     wtc_AcWindSp_mean  0.910321\n",
       "0            BoostedRef  0.910798\n",
       "3     wtc_NacelPos_mean  0.924998\n",
       "8       BP_mbar_76m_Avg  0.926046\n",
       "1            WindSheer1  0.928238\n",
       "10                Icing  0.928619\n",
       "11          Air_density  0.931002\n",
       "7        WS_ICEFREE_Avg  0.931478\n",
       "9          AirTC_3m_Avg  0.931573\n",
       "6      WS_Thies_60m_Avg  0.932241\n",
       "5      WS_Thies_80m_Avg  0.932622"
      ]
     },
     "execution_count": 44,
     "metadata": {},
     "output_type": "execute_result"
    }
   ],
   "source": [
    "print(\"The most important features are:\")\n",
    "print()\n",
    "important_features.sort_values(by=[\"Accuracy\"])"
   ]
  },
  {
   "cell_type": "markdown",
   "metadata": {},
   "source": [
    "## SVM Approach\n",
    "This model was repurposed from the Classification mini-project. However, the data set is now larger (an entire year's worth of data). The goal is the same, to predict poor performing turbines. "
   ]
  },
  {
   "cell_type": "markdown",
   "metadata": {},
   "source": [
    "### Model Creation and Parameter Optimization With Grid Search\n",
    "\n",
    "Running the SVC classifier within SciKit Learn proved to be to costly computationally. As a result, we proceeded with a differnt SVM Classifier. Specifically, we use the SGDClassifier which utilized stochastic gradient descent and greatly increased training rates.\n",
    "\n",
    "Since there are many possible parameters that can be put into the classifer, we ran through various alphas (or a penalty term), learning rates, and learning rate schedules to find the strongest possible model based on the input parameters. This was done using a grid search.\n",
    "\n",
    "http://scikit-learn.org/stable/auto_examples/model_selection/plot_grid_search_digits.html\n",
    "The best SGDClassifer had the following attributes: \n",
    "\n",
    "* **Alpha** - 1e-05\n",
    "* **Eta0**  - 0.5\n",
    "* **Learning rate** - 'invscaling'\n",
    "\n",
    "## Results of SVM Classifier\n",
    "The resulting model had a 89.12 percent. This is very similar accuarcy to our previous model (a sligh decrease which can easily be explained by different in training data). However, the hyper parameters change significantly between this model and the model from the mini-project."
   ]
  },
  {
   "cell_type": "code",
   "execution_count": 13,
   "metadata": {
    "scrolled": true
   },
   "outputs": [
    {
     "name": "stdout",
     "output_type": "stream",
     "text": [
      "Best parameters set found on development set:\n",
      "\n",
      "{'alpha': 1e-05, 'eta0': 0.5, 'learning_rate': 'invscaling'}\n",
      "\n",
      "Grid scores on development set:\n",
      "\n",
      "0.845 (+/-0.003) for {'alpha': 0.1, 'eta0': 0.01, 'learning_rate': 'constant'}\n",
      "0.844 (+/-0.004) for {'alpha': 0.1, 'eta0': 0.01, 'learning_rate': 'optimal'}\n",
      "0.844 (+/-0.004) for {'alpha': 0.1, 'eta0': 0.01, 'learning_rate': 'invscaling'}\n",
      "0.827 (+/-0.043) for {'alpha': 0.1, 'eta0': 0.1, 'learning_rate': 'constant'}\n",
      "0.844 (+/-0.004) for {'alpha': 0.1, 'eta0': 0.1, 'learning_rate': 'optimal'}\n",
      "0.845 (+/-0.004) for {'alpha': 0.1, 'eta0': 0.1, 'learning_rate': 'invscaling'}\n",
      "0.756 (+/-0.131) for {'alpha': 0.1, 'eta0': 0.5, 'learning_rate': 'constant'}\n",
      "0.844 (+/-0.004) for {'alpha': 0.1, 'eta0': 0.5, 'learning_rate': 'optimal'}\n",
      "0.845 (+/-0.004) for {'alpha': 0.1, 'eta0': 0.5, 'learning_rate': 'invscaling'}\n",
      "0.691 (+/-0.129) for {'alpha': 0.1, 'eta0': 1.0, 'learning_rate': 'constant'}\n",
      "0.844 (+/-0.004) for {'alpha': 0.1, 'eta0': 1.0, 'learning_rate': 'optimal'}\n",
      "0.845 (+/-0.005) for {'alpha': 0.1, 'eta0': 1.0, 'learning_rate': 'invscaling'}\n",
      "0.876 (+/-0.009) for {'alpha': 0.01, 'eta0': 0.01, 'learning_rate': 'constant'}\n",
      "0.864 (+/-0.022) for {'alpha': 0.01, 'eta0': 0.01, 'learning_rate': 'optimal'}\n",
      "0.845 (+/-0.004) for {'alpha': 0.01, 'eta0': 0.01, 'learning_rate': 'invscaling'}\n",
      "0.871 (+/-0.016) for {'alpha': 0.01, 'eta0': 0.1, 'learning_rate': 'constant'}\n",
      "0.858 (+/-0.006) for {'alpha': 0.01, 'eta0': 0.1, 'learning_rate': 'optimal'}\n",
      "0.850 (+/-0.003) for {'alpha': 0.01, 'eta0': 0.1, 'learning_rate': 'invscaling'}\n",
      "0.793 (+/-0.153) for {'alpha': 0.01, 'eta0': 0.5, 'learning_rate': 'constant'}\n",
      "0.863 (+/-0.013) for {'alpha': 0.01, 'eta0': 0.5, 'learning_rate': 'optimal'}\n",
      "0.858 (+/-0.017) for {'alpha': 0.01, 'eta0': 0.5, 'learning_rate': 'invscaling'}\n",
      "0.753 (+/-0.063) for {'alpha': 0.01, 'eta0': 1.0, 'learning_rate': 'constant'}\n",
      "0.864 (+/-0.009) for {'alpha': 0.01, 'eta0': 1.0, 'learning_rate': 'optimal'}\n",
      "0.874 (+/-0.002) for {'alpha': 0.01, 'eta0': 1.0, 'learning_rate': 'invscaling'}\n",
      "0.892 (+/-0.007) for {'alpha': 0.001, 'eta0': 0.01, 'learning_rate': 'constant'}\n",
      "0.890 (+/-0.009) for {'alpha': 0.001, 'eta0': 0.01, 'learning_rate': 'optimal'}\n",
      "0.845 (+/-0.004) for {'alpha': 0.001, 'eta0': 0.01, 'learning_rate': 'invscaling'}\n",
      "0.858 (+/-0.038) for {'alpha': 0.001, 'eta0': 0.1, 'learning_rate': 'constant'}\n",
      "0.891 (+/-0.004) for {'alpha': 0.001, 'eta0': 0.1, 'learning_rate': 'optimal'}\n",
      "0.874 (+/-0.004) for {'alpha': 0.001, 'eta0': 0.1, 'learning_rate': 'invscaling'}\n",
      "0.829 (+/-0.039) for {'alpha': 0.001, 'eta0': 0.5, 'learning_rate': 'constant'}\n",
      "0.882 (+/-0.006) for {'alpha': 0.001, 'eta0': 0.5, 'learning_rate': 'optimal'}\n",
      "0.890 (+/-0.003) for {'alpha': 0.001, 'eta0': 0.5, 'learning_rate': 'invscaling'}\n",
      "0.813 (+/-0.049) for {'alpha': 0.001, 'eta0': 1.0, 'learning_rate': 'constant'}\n",
      "0.889 (+/-0.016) for {'alpha': 0.001, 'eta0': 1.0, 'learning_rate': 'optimal'}\n",
      "0.889 (+/-0.006) for {'alpha': 0.001, 'eta0': 1.0, 'learning_rate': 'invscaling'}\n",
      "0.890 (+/-0.005) for {'alpha': 0.0001, 'eta0': 0.01, 'learning_rate': 'constant'}\n",
      "0.858 (+/-0.057) for {'alpha': 0.0001, 'eta0': 0.01, 'learning_rate': 'optimal'}\n",
      "0.845 (+/-0.004) for {'alpha': 0.0001, 'eta0': 0.01, 'learning_rate': 'invscaling'}\n",
      "0.879 (+/-0.010) for {'alpha': 0.0001, 'eta0': 0.1, 'learning_rate': 'constant'}\n",
      "0.877 (+/-0.017) for {'alpha': 0.0001, 'eta0': 0.1, 'learning_rate': 'optimal'}\n",
      "0.878 (+/-0.004) for {'alpha': 0.0001, 'eta0': 0.1, 'learning_rate': 'invscaling'}\n",
      "0.862 (+/-0.025) for {'alpha': 0.0001, 'eta0': 0.5, 'learning_rate': 'constant'}\n",
      "0.868 (+/-0.034) for {'alpha': 0.0001, 'eta0': 0.5, 'learning_rate': 'optimal'}\n",
      "0.893 (+/-0.007) for {'alpha': 0.0001, 'eta0': 0.5, 'learning_rate': 'invscaling'}\n",
      "0.859 (+/-0.041) for {'alpha': 0.0001, 'eta0': 1.0, 'learning_rate': 'constant'}\n",
      "0.864 (+/-0.048) for {'alpha': 0.0001, 'eta0': 1.0, 'learning_rate': 'optimal'}\n",
      "0.887 (+/-0.008) for {'alpha': 0.0001, 'eta0': 1.0, 'learning_rate': 'invscaling'}\n",
      "0.894 (+/-0.005) for {'alpha': 1e-05, 'eta0': 0.01, 'learning_rate': 'constant'}\n",
      "0.834 (+/-0.072) for {'alpha': 1e-05, 'eta0': 0.01, 'learning_rate': 'optimal'}\n",
      "0.845 (+/-0.003) for {'alpha': 1e-05, 'eta0': 0.01, 'learning_rate': 'invscaling'}\n",
      "0.856 (+/-0.044) for {'alpha': 1e-05, 'eta0': 0.1, 'learning_rate': 'constant'}\n",
      "0.812 (+/-0.064) for {'alpha': 1e-05, 'eta0': 0.1, 'learning_rate': 'optimal'}\n",
      "0.874 (+/-0.005) for {'alpha': 1e-05, 'eta0': 0.1, 'learning_rate': 'invscaling'}\n",
      "0.843 (+/-0.034) for {'alpha': 1e-05, 'eta0': 0.5, 'learning_rate': 'constant'}\n",
      "0.829 (+/-0.044) for {'alpha': 1e-05, 'eta0': 0.5, 'learning_rate': 'optimal'}\n",
      "0.895 (+/-0.003) for {'alpha': 1e-05, 'eta0': 0.5, 'learning_rate': 'invscaling'}\n",
      "0.862 (+/-0.060) for {'alpha': 1e-05, 'eta0': 1.0, 'learning_rate': 'constant'}\n",
      "0.857 (+/-0.054) for {'alpha': 1e-05, 'eta0': 1.0, 'learning_rate': 'optimal'}\n",
      "0.887 (+/-0.004) for {'alpha': 1e-05, 'eta0': 1.0, 'learning_rate': 'invscaling'}\n",
      "0.892 (+/-0.008) for {'alpha': 1e-06, 'eta0': 0.01, 'learning_rate': 'constant'}\n",
      "0.827 (+/-0.080) for {'alpha': 1e-06, 'eta0': 0.01, 'learning_rate': 'optimal'}\n",
      "0.845 (+/-0.004) for {'alpha': 1e-06, 'eta0': 0.01, 'learning_rate': 'invscaling'}\n",
      "0.847 (+/-0.006) for {'alpha': 1e-06, 'eta0': 0.1, 'learning_rate': 'constant'}\n",
      "0.798 (+/-0.068) for {'alpha': 1e-06, 'eta0': 0.1, 'learning_rate': 'optimal'}\n",
      "0.877 (+/-0.006) for {'alpha': 1e-06, 'eta0': 0.1, 'learning_rate': 'invscaling'}\n",
      "0.852 (+/-0.026) for {'alpha': 1e-06, 'eta0': 0.5, 'learning_rate': 'constant'}\n",
      "0.827 (+/-0.085) for {'alpha': 1e-06, 'eta0': 0.5, 'learning_rate': 'optimal'}\n",
      "0.892 (+/-0.008) for {'alpha': 1e-06, 'eta0': 0.5, 'learning_rate': 'invscaling'}\n",
      "0.807 (+/-0.063) for {'alpha': 1e-06, 'eta0': 1.0, 'learning_rate': 'constant'}\n",
      "0.795 (+/-0.042) for {'alpha': 1e-06, 'eta0': 1.0, 'learning_rate': 'optimal'}\n",
      "0.891 (+/-0.002) for {'alpha': 1e-06, 'eta0': 1.0, 'learning_rate': 'invscaling'}\n",
      "\n",
      "Detailed classification report:\n",
      "\n",
      "             precision    recall  f1-score   support\n",
      "\n",
      "          0       0.88      0.98      0.93      7628\n",
      "          1       0.93      0.65      0.77      2865\n",
      "\n",
      "avg / total       0.90      0.89      0.88     10493\n",
      "\n",
      "\n",
      "Accuracy: 0.8912608405603736\n"
     ]
    }
   ],
   "source": [
    "# Thanks to sklearn for a great example: \n",
    "#http://scikit-learn.org/stable/auto_examples/model_selection/plot_grid_search_digits.html\n",
    "from sklearn import linear_model\n",
    "\n",
    "# Set the parameters by cross-validation\n",
    "clist = [0.1, 1, 10, 100]\n",
    "tuned_parameters = [#{'kernel': ['rbf'], 'C': clist},\n",
    "                    {'kernel': ['linear'], 'C': clist}\n",
    "#                     {'kernel': ['poly'], 'C': clist},\n",
    "#                     {'kernel': ['sigmoid'], 'C': clist}\n",
    "                   ]\n",
    "\n",
    "alphas = 10.0**-np.arange(1,7)\n",
    "tp = [{'alpha':alphas, 'learning_rate':['constant', 'optimal', 'invscaling'], 'eta0': [0.01, 0.1, 0.5, 1.0]}]\n",
    "\n",
    "clf = GridSearchCV(linear_model.SGDClassifier(), tp)\n",
    "clf.fit(X_train, y_train)\n",
    "print(\"Best parameters set found on development set:\")\n",
    "print()\n",
    "print(clf.best_params_)\n",
    "print()\n",
    "print(\"Grid scores on development set:\")\n",
    "print()\n",
    "means = clf.cv_results_['mean_test_score']\n",
    "stds = clf.cv_results_['std_test_score']\n",
    "for mean, std, params in zip(means, stds, clf.cv_results_['params']):\n",
    "    print(\"%0.3f (+/-%0.03f) for %r\"\n",
    "          % (mean, std * 2, params))\n",
    "print()\n",
    "\n",
    "print(\"Detailed classification report:\")\n",
    "print()\n",
    "# print(\"The model is trained on the full development set.\")\n",
    "# print(\"The scores are computed on the full evaluation set.\")\n",
    "# print()\n",
    "y_true, y_pred = y_test, clf.predict(X_test)\n",
    "acc = accuracy_score(y_test,y_pred)\n",
    "print(classification_report(y_true, y_pred))\n",
    "print()\n",
    "print(\"Accuracy:\", acc)"
   ]
  },
  {
   "cell_type": "markdown",
   "metadata": {},
   "source": [
    "### SVM Feature Importance and Coefficent Interpretation\n",
    "Since we used a linear SVM we can use the coefficents of the classfier to determine feature importance as it is part of the interpretation of the coefficients.\n",
    "\n",
    "The coefficent of each support vector tells us its impact on the predicted class. Taking a dot product of a point with the coefficents will tell us the classificaiton of the point. Thus positive values tend to push a point toward the positive class, and negative coefficeints push to the negative classificaiton. Thus large values, either positive or negative, have more influce on the model. A plot of this information is shown below. Blue values indicate that the coefficient if positive, red indicate that it is negative.\n",
    "\n",
    "The top three most influential vectors are:\n",
    "\n",
    "1. wtc_ScInOper_timeon\n",
    "2. wtc_AcWindSp_mean\n",
    "3. BoostedRef\n"
   ]
  },
  {
   "cell_type": "code",
   "execution_count": 77,
   "metadata": {
    "collapsed": true
   },
   "outputs": [],
   "source": [
    "from sklearn.linear_model import SGDClassifier\n",
    "svm_model = SGDClassifier(alpha=1e-05, eta0=0.5, learning_rate='invscaling')\n",
    "svm_model.fit(X_train, y_train)\n",
    "\n",
    "test = svm_model.coef_\n",
    "my_zip = list(zip(keepcols, test.tolist()[0]))\n",
    "svm_features = pd.DataFrame.from_records(my_zip)"
   ]
  },
  {
   "cell_type": "code",
   "execution_count": 98,
   "metadata": {},
   "outputs": [
    {
     "data": {
      "text/plain": [
       "Text(0,0.5,'SVM Coefficients')"
      ]
     },
     "execution_count": 98,
     "metadata": {},
     "output_type": "execute_result"
    },
    {
     "data": {
      "image/png": "[encoded data removed]",
      "text/plain": [
       "<matplotlib.figure.Figure at 0x7fc7711c8dd8>"
      ]
     },
     "metadata": {},
     "output_type": "display_data"
    }
   ],
   "source": [
    "plt.figure(figsize=(12,12))\n",
    "colors = ['red' if c < 0 else 'blue' for c in svm_features[1]]\n",
    "plt.bar(svm_features[0], svm_features[1], color=colors)\n",
    "plt.xticks(rotation='vertical')\n",
    "plt.title(\"Feature Importance from SVM Coefficients\", fontsize=20)\n",
    "plt.xlabel(\"Feature\")\n",
    "plt.ylabel(\"SVM Coefficients\")"
   ]
  },
  {
   "cell_type": "code",
   "execution_count": 110,
   "metadata": {},
   "outputs": [
    {
     "data": {
      "text/plain": [
       "9     0.018883\n",
       "3     0.023848\n",
       "10    0.043363\n",
       "8     0.084013\n",
       "1     0.225038\n",
       "7     0.297244\n",
       "5     0.304193\n",
       "6     0.707417\n",
       "0     0.809709\n",
       "2     1.000857\n",
       "4     2.539049\n",
       "Name: 1, dtype: float64"
      ]
     },
     "execution_count": 110,
     "metadata": {},
     "output_type": "execute_result"
    }
   ],
   "source": [
    "svm_features[1].apply(lambda x: abs(x)).sort_values()"
   ]
  },
  {
   "cell_type": "code",
   "execution_count": 113,
   "metadata": {},
   "outputs": [
    {
     "data": {
      "text/plain": [
       "4    wtc_ScInOper_timeon\n",
       "2      wtc_AcWindSp_mean\n",
       "0             BoostedRef\n",
       "Name: 0, dtype: object"
      ]
     },
     "execution_count": 113,
     "metadata": {},
     "output_type": "execute_result"
    }
   ],
   "source": [
    "svm_features[0][[4,2,0]]"
   ]
  },
  {
   "cell_type": "markdown",
   "metadata": {},
   "source": [
    "## Random Forest Classifier\n",
    "\n",
    "The final model technique that we chose to utilise for classification of under performance was the random forest classifier. A random forest classifier was chosen as they are known for their excellent predictability and accuracy. Another strength of the random forest classifier is that they can score new data quickly once the classifier has been trained. \n",
    "\n",
    "\n",
    "### Classification Setup\n",
    "The classification is based on our definition of underperformance. Using the 26.8% of the data that shows underperformance, we have a boolean classification system. Then we setup the variables necessary to classify our data.\n",
    "\n",
    "The resulting model had an accuracy of 91.93 percent. "
   ]
  },
  {
   "cell_type": "code",
   "execution_count": 65,
   "metadata": {},
   "outputs": [
    {
     "data": {
      "text/plain": [
       "Index(['BoostedRef', 'WindSheer1', 'wtc_AcWindSp_mean', 'wtc_NacelPos_mean',\n",
       "       'wtc_ScInOper_timeon', 'WS_Thies_80m_Avg', 'WS_Thies_60m_Avg',\n",
       "       'WS_ICEFREE_Avg', 'BP_mbar_76m_Avg', 'AirTC_3m_Avg', 'Icing',\n",
       "       'Air_density'],\n",
       "      dtype='object')"
      ]
     },
     "execution_count": 65,
     "metadata": {},
     "output_type": "execute_result"
    }
   ],
   "source": [
    "#Encode the labels (examples found on SKLearn website... need to find address)\n",
    "le = preprocessing.LabelEncoder()\n",
    "le.fit(list(df[\"Underperformance\"].unique()))\n",
    "\n",
    "df[\"target\"] = le.transform(df[\"Underperformance\"])\n",
    "df = df.replace([np.inf, -np.inf], np.nan).dropna()\n",
    "\n",
    "\n",
    "\n",
    "#Now the other variables used to train the model need to scaled. \n",
    "#First, however, un-need variables need to be dropped.\n",
    "#classifier target is based on our determination of when the turbine is underperforming\n",
    "cl_target = df['target']\n",
    "\n",
    "\n",
    "classcols = ['BoostedRef', 'WindSheer1',\n",
    "            'wtc_AcWindSp_mean','wtc_NacelPos_mean','wtc_ScInOper_timeon', \n",
    "            'WS_Thies_80m_Avg', 'WS_Thies_60m_Avg', 'WS_ICEFREE_Avg',\n",
    "           'BP_mbar_76m_Avg', 'AirTC_3m_Avg','Icing','Air_density','target']\n",
    "\n",
    "cl_data = df[classcols]\n",
    "\n",
    "#regression target is based on the actual power output from the turbine\n",
    "y = df[\"wtc_ActPower_mean\"]\n",
    "\n",
    "keepcols = ['BoostedRef', 'WindSheer1',\n",
    "            'wtc_AcWindSp_mean','wtc_NacelPos_mean','wtc_ScInOper_timeon', \n",
    "            'WS_Thies_80m_Avg', 'WS_Thies_60m_Avg', 'WS_ICEFREE_Avg',\n",
    "           'BP_mbar_76m_Avg', 'AirTC_3m_Avg','Icing','Air_density']\n",
    "\n",
    "data = df[keepcols]\n",
    "\n",
    "\n",
    "X = preprocessing.scale(data) \n",
    "\n",
    "data.columns"
   ]
  },
  {
   "cell_type": "code",
   "execution_count": 66,
   "metadata": {},
   "outputs": [
    {
     "name": "stdout",
     "output_type": "stream",
     "text": [
      "Number of observations in the training data: 39398\n",
      "Number of observations in the test data: 13066\n"
     ]
    }
   ],
   "source": [
    "#Code from https://towardsdatascience.com/random-forest-in-python-24d0893d51c0\n",
    "# Our data set is divided into a test and training set, randomly\n",
    "df['is_train'] = np.random.uniform(0, 1, len(df)) <= .75\n",
    "\n",
    "# Create two new dataframes, one with the training rows, one with the test rows\n",
    "train, test = df[df['is_train']==True], df[df['is_train']==False]\n",
    "\n",
    "# Show the number of observations for the test and training dataframes\n",
    "print('Number of observations in the training data:', len(train))\n",
    "print('Number of observations in the test data:',len(test))"
   ]
  },
  {
   "cell_type": "code",
   "execution_count": 67,
   "metadata": {
    "collapsed": true,
    "scrolled": true
   },
   "outputs": [],
   "source": [
    "# Create a list of the feature column's names\n",
    "feat = df[keepcols]\n",
    "\n",
    "features = feat.columns\n",
    "# View features\n",
    "features\n",
    "\n",
    "#create target\n",
    "target = train['target']"
   ]
  },
  {
   "cell_type": "code",
   "execution_count": 68,
   "metadata": {
    "collapsed": true
   },
   "outputs": [],
   "source": [
    "#code from https://chrisalbon.com/machine_learning/trees_and_forests/random_forest_classifier_example/\n",
    "#load random forest classifier\n",
    "from sklearn.ensemble import RandomForestClassifier\n",
    "\n",
    "#set random seed\n",
    "np.random.seed(0)"
   ]
  },
  {
   "cell_type": "markdown",
   "metadata": {},
   "source": [
    "### Classification parameter change 1"
   ]
  },
  {
   "cell_type": "code",
   "execution_count": 69,
   "metadata": {},
   "outputs": [
    {
     "data": {
      "text/plain": [
       "RandomForestClassifier(bootstrap=True, class_weight=None, criterion='gini',\n",
       "            max_depth=10, max_features='auto', max_leaf_nodes=None,\n",
       "            min_impurity_decrease=0.0, min_impurity_split=None,\n",
       "            min_samples_leaf=1, min_samples_split=2,\n",
       "            min_weight_fraction_leaf=0.0, n_estimators=10, n_jobs=2,\n",
       "            oob_score=False, random_state=0, verbose=0, warm_start=False)"
      ]
     },
     "execution_count": 69,
     "metadata": {},
     "output_type": "execute_result"
    }
   ],
   "source": [
    "#train the random forest classifier\n",
    "#Try different parameters and compare\n",
    "\n",
    "#Parameter try 1\n",
    "clf = RandomForestClassifier(n_jobs=2, random_state=0, max_depth=10)\n",
    "\n",
    "clf.fit(train[features], target)"
   ]
  },
  {
   "cell_type": "code",
   "execution_count": 70,
   "metadata": {
    "collapsed": true
   },
   "outputs": [],
   "source": [
    "#Apply the classifier to the test data set\n",
    "y_pred = clf.predict(test[features])"
   ]
  },
  {
   "cell_type": "code",
   "execution_count": 71,
   "metadata": {},
   "outputs": [
    {
     "data": {
      "text/plain": [
       "array([[0.92896823, 0.07103177],\n",
       "       [0.96175837, 0.03824163],\n",
       "       [0.95202996, 0.04797004],\n",
       "       [0.94846957, 0.05153043],\n",
       "       [0.95202996, 0.04797004],\n",
       "       [0.9484496 , 0.0515504 ],\n",
       "       [0.47488479, 0.52511521],\n",
       "       [0.68446927, 0.31553073],\n",
       "       [0.02352941, 0.97647059],\n",
       "       [0.00821491, 0.99178509]])"
      ]
     },
     "execution_count": 71,
     "metadata": {},
     "output_type": "execute_result"
    }
   ],
   "source": [
    "# View the predicted probabilities of the first 10 observations\n",
    "clf.predict_proba(test[features])[0:10]"
   ]
  },
  {
   "cell_type": "code",
   "execution_count": 72,
   "metadata": {},
   "outputs": [
    {
     "data": {
      "text/plain": [
       "array([0, 0, 0, 0, 0, 0, 1, 0, 1, 1], dtype=int64)"
      ]
     },
     "execution_count": 72,
     "metadata": {},
     "output_type": "execute_result"
    }
   ],
   "source": [
    "preds = clf.predict(test[features])\n",
    "preds[0:10]"
   ]
  },
  {
   "cell_type": "code",
   "execution_count": 73,
   "metadata": {},
   "outputs": [
    {
     "data": {
      "text/html": [
       "<div>\n",
       "<style scoped>\n",
       "    .dataframe tbody tr th:only-of-type {\n",
       "        vertical-align: middle;\n",
       "    }\n",
       "\n",
       "    .dataframe tbody tr th {\n",
       "        vertical-align: top;\n",
       "    }\n",
       "\n",
       "    .dataframe thead th {\n",
       "        text-align: right;\n",
       "    }\n",
       "</style>\n",
       "<table border=\"1\" class=\"dataframe\">\n",
       "  <thead>\n",
       "    <tr style=\"text-align: right;\">\n",
       "      <th>Predicted Target</th>\n",
       "      <th>0</th>\n",
       "      <th>1</th>\n",
       "    </tr>\n",
       "    <tr>\n",
       "      <th>Actual Target</th>\n",
       "      <th></th>\n",
       "      <th></th>\n",
       "    </tr>\n",
       "  </thead>\n",
       "  <tbody>\n",
       "    <tr>\n",
       "      <th>0</th>\n",
       "      <td>9364</td>\n",
       "      <td>156</td>\n",
       "    </tr>\n",
       "    <tr>\n",
       "      <th>1</th>\n",
       "      <td>899</td>\n",
       "      <td>2647</td>\n",
       "    </tr>\n",
       "  </tbody>\n",
       "</table>\n",
       "</div>"
      ],
      "text/plain": [
       "Predicted Target     0     1\n",
       "Actual Target               \n",
       "0                 9364   156\n",
       "1                  899  2647"
      ]
     },
     "execution_count": 73,
     "metadata": {},
     "output_type": "execute_result"
    }
   ],
   "source": [
    "# Create confusion matrix\n",
    "pd.crosstab(test['target'], preds, rownames=['Actual Target'], colnames=['Predicted Target'])"
   ]
  },
  {
   "cell_type": "code",
   "execution_count": 74,
   "metadata": {},
   "outputs": [
    {
     "name": "stdout",
     "output_type": "stream",
     "text": [
      "Accuracy: 0.9192560844941069\n"
     ]
    }
   ],
   "source": [
    "from sklearn import metrics\n",
    "print(\"Accuracy:\",metrics.accuracy_score(test['target'], y_pred))"
   ]
  },
  {
   "cell_type": "markdown",
   "metadata": {},
   "source": [
    "### Results of Parameter Change 1\n",
    "The above table shows how our power classifications match up with the actual power recorded."
   ]
  },
  {
   "cell_type": "code",
   "execution_count": 75,
   "metadata": {},
   "outputs": [
    {
     "data": {
      "text/plain": [
       "[('BoostedRef', 0.16444588963252002),\n",
       " ('WindSheer1', 0.024392369733933484),\n",
       " ('wtc_AcWindSp_mean', 0.2627703278144814),\n",
       " ('wtc_NacelPos_mean', 0.018513250037489694),\n",
       " ('wtc_ScInOper_timeon', 0.3065831101016764),\n",
       " ('WS_Thies_80m_Avg', 0.05228906902318899),\n",
       " ('WS_Thies_60m_Avg', 0.0238233034948651),\n",
       " ('WS_ICEFREE_Avg', 0.07637059309573623),\n",
       " ('BP_mbar_76m_Avg', 0.0320114602041405),\n",
       " ('AirTC_3m_Avg', 0.01841538811976129),\n",
       " ('Icing', 0.0003607485888840122),\n",
       " ('Air_density', 0.02002449015332284)]"
      ]
     },
     "execution_count": 75,
     "metadata": {},
     "output_type": "execute_result"
    }
   ],
   "source": [
    "# View a list of the features and their importance scores\n",
    "list(zip(train[features], clf.feature_importances_))"
   ]
  },
  {
   "cell_type": "markdown",
   "metadata": {},
   "source": [
    "### Influential Features for Parameter Change 1\n",
    "The most influential features that helped predict underperformance were:  wtc_ScInOper_timeon at 31%, wtc_AcWindSp_mean at 26%, BoostedRef at 16%, and WS_ICEFREE_Avg at 8%."
   ]
  },
  {
   "cell_type": "code",
   "execution_count": 147,
   "metadata": {
    "scrolled": false
   },
   "outputs": [
    {
     "data": {
      "image/png": "[encoded data removed]",
      "text/plain": [
       "<Figure size 432x288 with 1 Axes>"
      ]
     },
     "metadata": {},
     "output_type": "display_data"
    }
   ],
   "source": [
    "#http://dataaspirant.com/2017/04/21/visualize-decision-tree-python-graphviz/\n",
    "# reminder\n",
    "# X = data\n",
    "# y = df.target\n",
    "\n",
    "pylab.bar (keepcols, clf.feature_importances_, 1/4)\n",
    "pylab.xticks(keepcols, rotation='vertical')\n",
    "pylab.ylabel('Importance'); pylab.xlabel('Variable'); pylab.title('Variable Importances');\n",
    "pylab.show()\n",
    "\n",
    "# import altair as alt\n",
    "# from vega_datasets import data\n",
    "# alt.renderers.enable('notebook')\n",
    "\n",
    "# alt.Chart(clf.feature_importances_).mark_bar().encode(\n",
    "#     y='Percentage Explained',\n",
    "#     x='train[features]')\n"
   ]
  },
  {
   "cell_type": "markdown",
   "metadata": {},
   "source": [
    "### Classification Parameter Change 2"
   ]
  },
  {
   "cell_type": "code",
   "execution_count": 91,
   "metadata": {},
   "outputs": [
    {
     "data": {
      "text/plain": [
       "RandomForestClassifier(bootstrap=True, class_weight=None, criterion='gini',\n",
       "            max_depth=10, max_features='auto', max_leaf_nodes=5,\n",
       "            min_impurity_decrease=0.0, min_impurity_split=None,\n",
       "            min_samples_leaf=1, min_samples_split=2,\n",
       "            min_weight_fraction_leaf=0.0, n_estimators=10, n_jobs=2,\n",
       "            oob_score=False, random_state=5, verbose=0, warm_start=False)"
      ]
     },
     "execution_count": 91,
     "metadata": {},
     "output_type": "execute_result"
    }
   ],
   "source": [
    "clf = RandomForestClassifier(n_jobs=2, random_state=5, max_depth=10, max_leaf_nodes=5)\n",
    "\n",
    "clf.fit(train[features], target)"
   ]
  },
  {
   "cell_type": "code",
   "execution_count": 92,
   "metadata": {},
   "outputs": [
    {
     "data": {
      "text/plain": [
       "array([0, 0, 0, ..., 1, 1, 1], dtype=int64)"
      ]
     },
     "execution_count": 92,
     "metadata": {},
     "output_type": "execute_result"
    }
   ],
   "source": [
    "#Apply the classifier to the test data set\n",
    "clf.predict(test[features])"
   ]
  },
  {
   "cell_type": "code",
   "execution_count": 93,
   "metadata": {},
   "outputs": [
    {
     "data": {
      "text/plain": [
       "array([[0.86582343, 0.13417657],\n",
       "       [0.86571961, 0.13428039],\n",
       "       [0.86571961, 0.13428039],\n",
       "       [0.86571961, 0.13428039],\n",
       "       [0.86571961, 0.13428039],\n",
       "       [0.86582343, 0.13417657],\n",
       "       [0.86582343, 0.13417657],\n",
       "       [0.86582343, 0.13417657],\n",
       "       [0.12030681, 0.87969319],\n",
       "       [0.12438387, 0.87561613]])"
      ]
     },
     "execution_count": 93,
     "metadata": {},
     "output_type": "execute_result"
    }
   ],
   "source": [
    "# View the predicted probabilities of the first 10 observations\n",
    "clf.predict_proba(test[features])[0:10]"
   ]
  },
  {
   "cell_type": "code",
   "execution_count": 94,
   "metadata": {},
   "outputs": [
    {
     "data": {
      "text/plain": [
       "array([0, 0, 0, 0, 0, 0, 0, 0, 1, 1], dtype=int64)"
      ]
     },
     "execution_count": 94,
     "metadata": {},
     "output_type": "execute_result"
    }
   ],
   "source": [
    "preds = clf.predict(test[features])\n",
    "preds[0:10]"
   ]
  },
  {
   "cell_type": "code",
   "execution_count": 95,
   "metadata": {},
   "outputs": [
    {
     "data": {
      "text/html": [
       "<div>\n",
       "<style scoped>\n",
       "    .dataframe tbody tr th:only-of-type {\n",
       "        vertical-align: middle;\n",
       "    }\n",
       "\n",
       "    .dataframe tbody tr th {\n",
       "        vertical-align: top;\n",
       "    }\n",
       "\n",
       "    .dataframe thead th {\n",
       "        text-align: right;\n",
       "    }\n",
       "</style>\n",
       "<table border=\"1\" class=\"dataframe\">\n",
       "  <thead>\n",
       "    <tr style=\"text-align: right;\">\n",
       "      <th>Predicted Target</th>\n",
       "      <th>0</th>\n",
       "      <th>1</th>\n",
       "    </tr>\n",
       "    <tr>\n",
       "      <th>Actual Target</th>\n",
       "      <th></th>\n",
       "      <th></th>\n",
       "    </tr>\n",
       "  </thead>\n",
       "  <tbody>\n",
       "    <tr>\n",
       "      <th>0</th>\n",
       "      <td>9448</td>\n",
       "      <td>72</td>\n",
       "    </tr>\n",
       "    <tr>\n",
       "      <th>1</th>\n",
       "      <td>1766</td>\n",
       "      <td>1780</td>\n",
       "    </tr>\n",
       "  </tbody>\n",
       "</table>\n",
       "</div>"
      ],
      "text/plain": [
       "Predicted Target     0     1\n",
       "Actual Target               \n",
       "0                 9448    72\n",
       "1                 1766  1780"
      ]
     },
     "execution_count": 95,
     "metadata": {},
     "output_type": "execute_result"
    }
   ],
   "source": [
    "# Create confusion matrix\n",
    "pd.crosstab(test['target'], preds, rownames=['Actual Target'], colnames=['Predicted Target'])"
   ]
  },
  {
   "cell_type": "code",
   "execution_count": 96,
   "metadata": {
    "collapsed": true
   },
   "outputs": [],
   "source": [
    "#Apply the classifier to the test data set\n",
    "y_pred = clf.predict(test[features])"
   ]
  },
  {
   "cell_type": "code",
   "execution_count": 97,
   "metadata": {},
   "outputs": [
    {
     "name": "stdout",
     "output_type": "stream",
     "text": [
      "Accuracy: 0.8593295576304913\n"
     ]
    }
   ],
   "source": [
    "print(\"Accuracy:\",metrics.accuracy_score(test['target'], y_pred))"
   ]
  },
  {
   "cell_type": "code",
   "execution_count": 98,
   "metadata": {},
   "outputs": [
    {
     "data": {
      "text/plain": [
       "[('BoostedRef', 0.04986159463817053),\n",
       " ('WindSheer1', 0.017747678338269575),\n",
       " ('wtc_AcWindSp_mean', 0.2723883088212099),\n",
       " ('wtc_NacelPos_mean', 0.004330952384310781),\n",
       " ('wtc_ScInOper_timeon', 0.4381380226880758),\n",
       " ('WS_Thies_80m_Avg', 0.02403731415710093),\n",
       " ('WS_Thies_60m_Avg', 0.07540872386723806),\n",
       " ('WS_ICEFREE_Avg', 0.09297746497538266),\n",
       " ('BP_mbar_76m_Avg', 0.02510994013024178),\n",
       " ('AirTC_3m_Avg', 0.0),\n",
       " ('Icing', 0.0),\n",
       " ('Air_density', 0.0)]"
      ]
     },
     "execution_count": 98,
     "metadata": {},
     "output_type": "execute_result"
    }
   ],
   "source": [
    "# View a list of the features and their importance scores\n",
    "list(zip(train[features], clf.feature_importances_))"
   ]
  },
  {
   "cell_type": "code",
   "execution_count": 145,
   "metadata": {},
   "outputs": [
    {
     "data": {
      "image/png": "[encoded data removed]",
      "text/plain": [
       "<Figure size 432x288 with 1 Axes>"
      ]
     },
     "metadata": {},
     "output_type": "display_data"
    }
   ],
   "source": [
    "pylab.bar (keepcols, clf.feature_importances_, 1/4)\n",
    "pylab.xticks(keepcols, rotation='vertical')\n",
    "pylab.ylabel('Importance'); pylab.xlabel('Variable'); pylab.title('Variable Importances');\n",
    "pylab.show()"
   ]
  },
  {
   "cell_type": "markdown",
   "metadata": {},
   "source": [
    "#### The above table shows how our power classifications match up with the actual power recorded. "
   ]
  },
  {
   "cell_type": "markdown",
   "metadata": {},
   "source": [
    "#### Influential Features For parameter option #2\n",
    "\n",
    "The most influential features that helped predict underperformance were:  wtc_ScInOper_timeon at 44%, wtc_AcWindSp_mean at 27%, WS_ICEFREE_Avg at 9%, and WS_Thies_60m_Avg at 7%."
   ]
  },
  {
   "cell_type": "markdown",
   "metadata": {},
   "source": [
    "### Parameter Change 3"
   ]
  },
  {
   "cell_type": "code",
   "execution_count": 100,
   "metadata": {},
   "outputs": [
    {
     "data": {
      "text/plain": [
       "RandomForestClassifier(bootstrap=True, class_weight=None, criterion='gini',\n",
       "            max_depth=15, max_features='auto', max_leaf_nodes=10,\n",
       "            min_impurity_decrease=0.0, min_impurity_split=None,\n",
       "            min_samples_leaf=1, min_samples_split=2,\n",
       "            min_weight_fraction_leaf=0.0, n_estimators=10, n_jobs=2,\n",
       "            oob_score=False, random_state=10, verbose=0, warm_start=False)"
      ]
     },
     "execution_count": 100,
     "metadata": {},
     "output_type": "execute_result"
    }
   ],
   "source": [
    "clf = RandomForestClassifier(n_jobs=2, random_state=10, max_depth=15, max_leaf_nodes=10)\n",
    "\n",
    "clf.fit(train[features], target)"
   ]
  },
  {
   "cell_type": "code",
   "execution_count": 101,
   "metadata": {},
   "outputs": [
    {
     "data": {
      "text/plain": [
       "array([0, 0, 0, ..., 1, 1, 1], dtype=int64)"
      ]
     },
     "execution_count": 101,
     "metadata": {},
     "output_type": "execute_result"
    }
   ],
   "source": [
    "#Apply the classifier to the test data set\n",
    "clf.predict(test[features])"
   ]
  },
  {
   "cell_type": "code",
   "execution_count": 102,
   "metadata": {},
   "outputs": [
    {
     "data": {
      "text/plain": [
       "array([[0.89028253, 0.10971747],\n",
       "       [0.87651187, 0.12348813],\n",
       "       [0.87651187, 0.12348813],\n",
       "       [0.86429562, 0.13570438],\n",
       "       [0.87651187, 0.12348813],\n",
       "       [0.87651187, 0.12348813],\n",
       "       [0.75193569, 0.24806431],\n",
       "       [0.84099295, 0.15900705],\n",
       "       [0.0667918 , 0.9332082 ],\n",
       "       [0.16398701, 0.83601299]])"
      ]
     },
     "execution_count": 102,
     "metadata": {},
     "output_type": "execute_result"
    }
   ],
   "source": [
    "# View the predicted probabilities of the first 10 observations\n",
    "clf.predict_proba(test[features])[0:10]"
   ]
  },
  {
   "cell_type": "code",
   "execution_count": 103,
   "metadata": {},
   "outputs": [
    {
     "data": {
      "text/plain": [
       "array([0, 0, 0, 0, 0, 0, 0, 0, 1, 1], dtype=int64)"
      ]
     },
     "execution_count": 103,
     "metadata": {},
     "output_type": "execute_result"
    }
   ],
   "source": [
    "preds = clf.predict(test[features])\n",
    "preds[0:10]"
   ]
  },
  {
   "cell_type": "code",
   "execution_count": 104,
   "metadata": {},
   "outputs": [
    {
     "data": {
      "text/html": [
       "<div>\n",
       "<style scoped>\n",
       "    .dataframe tbody tr th:only-of-type {\n",
       "        vertical-align: middle;\n",
       "    }\n",
       "\n",
       "    .dataframe tbody tr th {\n",
       "        vertical-align: top;\n",
       "    }\n",
       "\n",
       "    .dataframe thead th {\n",
       "        text-align: right;\n",
       "    }\n",
       "</style>\n",
       "<table border=\"1\" class=\"dataframe\">\n",
       "  <thead>\n",
       "    <tr style=\"text-align: right;\">\n",
       "      <th>Predicted Target</th>\n",
       "      <th>0</th>\n",
       "      <th>1</th>\n",
       "    </tr>\n",
       "    <tr>\n",
       "      <th>Actual Target</th>\n",
       "      <th></th>\n",
       "      <th></th>\n",
       "    </tr>\n",
       "  </thead>\n",
       "  <tbody>\n",
       "    <tr>\n",
       "      <th>0</th>\n",
       "      <td>9417</td>\n",
       "      <td>103</td>\n",
       "    </tr>\n",
       "    <tr>\n",
       "      <th>1</th>\n",
       "      <td>1319</td>\n",
       "      <td>2227</td>\n",
       "    </tr>\n",
       "  </tbody>\n",
       "</table>\n",
       "</div>"
      ],
      "text/plain": [
       "Predicted Target     0     1\n",
       "Actual Target               \n",
       "0                 9417   103\n",
       "1                 1319  2227"
      ]
     },
     "execution_count": 104,
     "metadata": {},
     "output_type": "execute_result"
    }
   ],
   "source": [
    "# Create confusion matrix\n",
    "pd.crosstab(test['target'], preds, rownames=['Actual Target'], colnames=['Predicted Target'])"
   ]
  },
  {
   "cell_type": "code",
   "execution_count": 105,
   "metadata": {},
   "outputs": [
    {
     "name": "stdout",
     "output_type": "stream",
     "text": [
      "Accuracy: 0.8911679167304455\n"
     ]
    }
   ],
   "source": [
    "#Apply the classifier to the test data set\n",
    "y_pred = clf.predict(test[features])\n",
    "\n",
    "print(\"Accuracy:\",metrics.accuracy_score(test['target'], y_pred))"
   ]
  },
  {
   "cell_type": "code",
   "execution_count": 106,
   "metadata": {},
   "outputs": [
    {
     "data": {
      "text/plain": [
       "[('BoostedRef', 0.11220410021871248),\n",
       " ('WindSheer1', 0.004630145597117373),\n",
       " ('wtc_AcWindSp_mean', 0.24653823222422497),\n",
       " ('wtc_NacelPos_mean', 0.008824448374224785),\n",
       " ('wtc_ScInOper_timeon', 0.39852225509995826),\n",
       " ('WS_Thies_80m_Avg', 0.06713619623570835),\n",
       " ('WS_Thies_60m_Avg', 0.06214813655927528),\n",
       " ('WS_ICEFREE_Avg', 0.05743721568482535),\n",
       " ('BP_mbar_76m_Avg', 0.037557327048976005),\n",
       " ('AirTC_3m_Avg', 0.0020180446879031035),\n",
       " ('Icing', 0.0),\n",
       " ('Air_density', 0.002983898269074011)]"
      ]
     },
     "execution_count": 106,
     "metadata": {},
     "output_type": "execute_result"
    }
   ],
   "source": [
    "# View a list of the features and their importance scores\n",
    "list(zip(train[features], clf.feature_importances_))"
   ]
  },
  {
   "cell_type": "markdown",
   "metadata": {},
   "source": [
    "#### The above table shows how our power classifications match up with the actual power recorded."
   ]
  },
  {
   "cell_type": "markdown",
   "metadata": {},
   "source": [
    "#### Import Features for Parameter Option 3\n",
    "The most influential features that helped predict underperformance were: wtc_ScInOper_timeon at 40%, wtc_AcWindSp_mean at 25%, BoostedRef at 11%, and WS_Thies_80m_Avg at 7%."
   ]
  },
  {
   "cell_type": "code",
   "execution_count": 146,
   "metadata": {},
   "outputs": [
    {
     "data": {
      "image/png": "[encoded data removed]",
      "text/plain": [
       "<Figure size 432x288 with 1 Axes>"
      ]
     },
     "metadata": {},
     "output_type": "display_data"
    }
   ],
   "source": [
    "# alt.Chart(clf.feature_importances_).mark_bar().encode(\n",
    "#     y='Percentage Explained',\n",
    "#     x='train[features]')\n",
    "pylab.bar (keepcols, clf.feature_importances_, 1/4)\n",
    "pylab.xticks(keepcols, rotation='vertical')\n",
    "pylab.ylabel('Importance'); pylab.xlabel('Variable'); pylab.title('Variable Importances');\n",
    "pylab.show()"
   ]
  },
  {
   "cell_type": "markdown",
   "metadata": {},
   "source": [
    "### Random Forest Influential Features: Summary\n",
    "\n",
    "With each parameter change, the accuracy changed significantly. \n",
    "\n",
    "* With Parameter set 1: the random_state is 0 and the max_depth is 10. This produced an accuracy of 92%.\n",
    "\n",
    "* With Parameter set 2: the random_state is 5, max_depth is 10, and max_nodes is 5. This produced an accuracy of 86%.\n",
    "\n",
    "* With Parameter set 3: the random_state is 10, max_depth is 15, and max_nodes is 10. This produced an accuracy of 89%.\n",
    "\n",
    "In addition to accuracy changes, the important features changed and their percentage of influence changed significantly. \n"
   ]
  },
  {
   "cell_type": "markdown",
   "metadata": {},
   "source": [
    "## Classification: Conclusion\n",
    "\n",
    "We trained and tested three different classifiers to predict if a wind turbine is under-performing or not. These models included K Nearest Neighbors, Support Vector Machine, and a Random Forest. We opted to compare the models based on accuracy. Below is a comparison of the models and the accuracy.\n",
    "\n",
    "* **SVM** - Accuracy: 89.12 Percent\n",
    "* **KNN** - Accuracy: 92.8 Percent\n",
    "* **Random Forest** - Accuracy: 91.93 Percent\n",
    "\n",
    "The KNN and Random Forest models perfromed very similarly. Strickly speaking, the KNN classifier had the best accuracy and using this metric alone it should be chosen as the best classificaiton model. However, for deployment purposes other metrics should be considered, such as run-time of the chosen model.\n",
    "\n",
    "**On Feature Importance**\n",
    "\n",
    "Time and again the most important features to each classification model were:\n",
    "1. stc_ScInOper_timeon\n",
    "2. wtc_Act_windSp_mean\n",
    "3. BootedRef\n",
    "\n",
    "This makes a great deal of since. The inoperable time has a huge impact on power output, and we based under performance on power output. Similarly, wind speed is the most important factor for power output (assuming that the wind turbine is healthy. And finally, BootedRef is a reference to the actual power output with some padding. Thus it makes sense that it would be incredibly important feature for the classificaiton models.\n",
    "\n",
    "### Are there statistical differences between the models? \n",
    "I wanted to look see if there was a difference between the worst performing classificaiton model (the SVM) and the best performing model (KNN). I figure that there would probably not be a differnce between the two close models, but I suspected that there was a statistical differnce between the two worst models. In order to compare them I compared the cross validation score (10 fold), and determined if there was a statistical difference between the two models at 95 percent confidence using a paired t-test.\n",
    "\n",
    "According to the code below there is not a statitical difference between the SVM and KNN models at 95 percent confidence."
   ]
  },
  {
   "cell_type": "code",
   "execution_count": 119,
   "metadata": {},
   "outputs": [
    {
     "name": "stdout",
     "output_type": "stream",
     "text": [
      "Range of: -0.021088940486474167 0.0063791721554672665\n",
      "0.8897522157561368 0.8823973315906335\n"
     ]
    }
   ],
   "source": [
    "#code borrowed from Class Unit 7 notebook\n",
    "from sklearn.model_selection import cross_val_score\n",
    "from sklearn.model_selection import StratifiedKFold\n",
    "\n",
    "cv=StratifiedKFold(n_splits=10)\n",
    "acc1 = cross_val_score(model, X, y=y, cv=cv)\n",
    "acc2 = cross_val_score(svm_model, X, y=y, cv=cv)\n",
    "\n",
    "t = 2.26 / np.sqrt(10)\n",
    "\n",
    "e = (1-acc1)-(1-acc2)\n",
    "# std1 = np.std(acc1)\n",
    "# std2 = np.std(acc2)\n",
    "stdtot = np.std(e)\n",
    "\n",
    "dbar = np.mean(e)\n",
    "print ('Range of:', dbar-t*stdtot,dbar+t*stdtot )\n",
    "print (np.mean(acc1), np.mean(acc2))"
   ]
  },
  {
   "cell_type": "markdown",
   "metadata": {},
   "source": [
    "# Regression Task - Prediciton of Power Output\n",
    "\n",
    "Energy output is of critical importance to a wind farm. Our group wanted to determine if we could predict power output using KNN regression, Random Forests, and a traiditonal regression apprach. \n",
    "\n",
    "\n",
    "## KNN Regression Approach\n",
    "Two different KNN Regressors were built. One using non-transformed data (that is using only the scaled data). Another model was built using the results of a Principal Component Analysis (PCA).\n",
    "\n",
    "\n",
    "## Attempt 1: KNN Regression using non transformed data\n",
    "KNN can also be used for prediciton continuous output by regressing on the nearest neighbors. We used the best classifier from the grid search to generate the hyper-parameters used by the regressor. The intial results were excellent. We acheived an R2 of 0.9274 indicating that the model could explain nearly 93 percent of the variation found in the data."
   ]
  },
  {
   "cell_type": "code",
   "execution_count": 14,
   "metadata": {
    "collapsed": true
   },
   "outputs": [],
   "source": [
    "y2 = df[\"wtc_ActPower_mean\"]\n",
    "\n",
    "keepcols = ['WindSheer1',\n",
    "            'wtc_AcWindSp_mean','wtc_NacelPos_mean','wtc_ScInOper_timeon', \n",
    "            'WS_Thies_80m_Avg', 'WS_Thies_60m_Avg', 'WS_ICEFREE_Avg',\n",
    "           'BP_mbar_76m_Avg', 'AirTC_3m_Avg','Icing','Air_density']\n",
    "\n",
    "data2 = df[keepcols]\n",
    "\n",
    "X_train2, X_test2, y_train2, y_test2 = train_test_split(data2, y2, test_size=0.2)"
   ]
  },
  {
   "cell_type": "code",
   "execution_count": 15,
   "metadata": {},
   "outputs": [
    {
     "data": {
      "text/plain": [
       "0.9273608641802736"
      ]
     },
     "execution_count": 15,
     "metadata": {},
     "output_type": "execute_result"
    }
   ],
   "source": [
    "from sklearn.neighbors import KNeighborsRegressor\n",
    "import matplotlib.pyplot as plt\n",
    "\n",
    "reg = KNeighborsRegressor(n_neighbors=5, metric='manhattan', weights='distance')\n",
    "\n",
    "reg.fit(X_train2, y_train2)\n",
    "pred2 = reg.predict(X_test2)\n",
    "\n",
    "reg.score(X_test2, y_test2)"
   ]
  },
  {
   "cell_type": "markdown",
   "metadata": {},
   "source": [
    "## Plotting Regression Results\n",
    "Two plots are shown below. The first is a scatter plot that shows test data plotted against wind speed. The second show the same scatter plot but with the predicted values plotted on top of the actual data. We can see that the KNN regressor does a good job maintaining the overall shape of the data. The regressor also does a good job predicting variables that do not follow the overall shape of power curve. "
   ]
  },
  {
   "cell_type": "code",
   "execution_count": 27,
   "metadata": {
    "scrolled": false
   },
   "outputs": [
    {
     "data": {
      "image/png": "[encoded data removed]",
      "text/plain": [
       "<matplotlib.figure.Figure at 0x7f02d5d3c080>"
      ]
     },
     "metadata": {},
     "output_type": "display_data"
    },
    {
     "name": "stdout",
     "output_type": "stream",
     "text": [
      "\n"
     ]
    },
    {
     "data": {
      "image/png": "[encoded data removed]",
      "text/plain": [
       "<matplotlib.figure.Figure at 0x7f02a542a748>"
      ]
     },
     "metadata": {},
     "output_type": "display_data"
    }
   ],
   "source": [
    "plt.figure(figsize=(10,10))\n",
    "plt.scatter(x=X_test2[\"wtc_AcWindSp_mean\"], y=y_test2)\n",
    "plt.axis('tight')\n",
    "plt.ylabel(\"Power Output (kW)\", fontsize=18)\n",
    "plt.xlabel(\"Wind Speed\", fontsize=18)\n",
    "plt.legend()\n",
    "plt.title(\"Power Outout vs Wind Speed (Raw Data)\", fontsize=20)\n",
    "plt.show()\n",
    "\n",
    "print()\n",
    "\n",
    "plt.figure(figsize=(10,10))\n",
    "plt.scatter(x=X_test2[\"wtc_AcWindSp_mean\"], y=y_test2)\n",
    "plt.scatter(X_test2[\"wtc_AcWindSp_mean\"], pred2)\n",
    "plt.ylabel(\"Power Output (kW)\", fontsize=20)\n",
    "plt.xlabel(\"Wind Speed\", fontsize=20)\n",
    "plt.axis('tight')\n",
    "plt.legend()\n",
    "plt.title(\"Power Outout vs Wind Speed with KNN Regression\", fontsize=20)\n",
    "plt.show()"
   ]
  },
  {
   "cell_type": "markdown",
   "metadata": {},
   "source": [
    "## KNN Regression Attempt 2 - Implementation of PCA\n",
    "PCA allowed us to reduce the features used in the KNN regression while maintaining a high R2 value. We did experience some interesting results. \n",
    "\n",
    "The first five principal components explaint over 99% of the variance in the data. However, the resulting KNN regression had an R2 of 0.8404. \n",
    "\n",
    "Using the first 6 principle components did not explain much more variance in the data, however, there was a large increase in model fit. The R2 increased to 0.9356 or a gain of 0.0952.\n",
    "\n",
    "This means that PCA KNN Regression yielded slightly better results with roughly half of the number of featuers using the same hyper parameters. However, this additional increase in model performance is not worth the decrease in interpretability from the regular model."
   ]
  },
  {
   "cell_type": "code",
   "execution_count": 85,
   "metadata": {},
   "outputs": [
    {
     "name": "stdout",
     "output_type": "stream",
     "text": [
      "[7.98850329e-01 1.94554726e-01 4.18285824e-03 1.87375758e-03\n",
      " 4.60097880e-04]\n",
      "0.9999217682499959\n"
     ]
    },
    {
     "data": {
      "text/plain": [
       "0.8404323116710646"
      ]
     },
     "execution_count": 85,
     "metadata": {},
     "output_type": "execute_result"
    }
   ],
   "source": [
    "# Using 5 Principal components\n",
    "from sklearn.decomposition import PCA\n",
    "\n",
    "pca2 = PCA(n_components=5) # there are 11 features\n",
    "pca2.fit(data2)\n",
    "\n",
    "pca_X_train2 = pca2.transform(X_train2)\n",
    "pca_X_test2 = pca2.transform(X_test2)\n",
    "\n",
    "\n",
    "print(pca2.explained_variance_ratio_)\n",
    "print(sum(pca2.explained_variance_ratio_))\n",
    "\n",
    "reg_pca = KNeighborsRegressor(n_neighbors=5, metric='manhattan', weights='distance')\n",
    "reg_pca.fit(pca_X_train2, y_train2)\n",
    "pred_pca = reg_pca.predict(pca_X_test2)\n",
    "\n",
    "reg_pca.score(pca_X_test2, y_test2)"
   ]
  },
  {
   "cell_type": "code",
   "execution_count": 86,
   "metadata": {},
   "outputs": [
    {
     "name": "stdout",
     "output_type": "stream",
     "text": [
      "[7.98850329e-01 1.94554726e-01 4.18285824e-03 1.87375758e-03\n",
      " 4.60097880e-04 7.32440830e-05]\n",
      "0.9999950123330369\n"
     ]
    },
    {
     "data": {
      "text/plain": [
       "0.9355962752996375"
      ]
     },
     "execution_count": 86,
     "metadata": {},
     "output_type": "execute_result"
    }
   ],
   "source": [
    "#Using 6 principal components\n",
    "from sklearn.decomposition import PCA\n",
    "\n",
    "pca2 = PCA(n_components=6) # there are  11 features\n",
    "pca2.fit(data2)\n",
    "\n",
    "pca_X_train2 = pca2.transform(X_train2)\n",
    "pca_X_test2 = pca2.transform(X_test2)\n",
    "\n",
    "\n",
    "print(pca2.explained_variance_ratio_)\n",
    "print(sum(pca2.explained_variance_ratio_))\n",
    "\n",
    "reg_pca = KNeighborsRegressor(n_neighbors=5, metric='manhattan', weights='distance')\n",
    "reg_pca.fit(pca_X_train2, y_train2)\n",
    "pred_pca = reg_pca.predict(pca_X_test2)\n",
    "\n",
    "reg_pca.score(pca_X_test2, y_test2)"
   ]
  },
  {
   "cell_type": "markdown",
   "metadata": {},
   "source": [
    "## Polynomial Regression\n",
    "\n",
    "During the mini-project we noticed that the fit of our data did not follow the overall shape of the training data as well as we would like. After talking to some subject matter experts at Pattern Energy it was determined that we should try to model the data using a polynomial relationship. \n",
    "\n",
    "This was done using some of the code from the 'EducationDataNC' notebooks where the CappedLinearRegression was used to limit predictions. "
   ]
  },
  {
   "cell_type": "code",
   "execution_count": 23,
   "metadata": {
    "collapsed": true
   },
   "outputs": [],
   "source": [
    "y = df_clean[\"wtc_ActPower_mean\"]\n",
    "\n",
    "dropcols = ['wtc_ActPower_mean','Description', 'Name','WindSheer1','PowerDelta','wtc_ActPower_stddev']\n",
    "\n",
    "X = df_clean.drop(dropcols, axis=1)\n",
    "\n",
    "from sklearn.model_selection import train_test_split\n",
    "X_train, X_test, y_train, y_test = train_test_split(X, y, test_size=0.2)"
   ]
  },
  {
   "cell_type": "code",
   "execution_count": 24,
   "metadata": {
    "collapsed": true
   },
   "outputs": [],
   "source": [
    "from sklearn.model_selection import ShuffleSplit\n",
    "cv = ShuffleSplit(n_splits=10, test_size=0.20, random_state=0)"
   ]
  },
  {
   "cell_type": "code",
   "execution_count": 25,
   "metadata": {
    "collapsed": true
   },
   "outputs": [],
   "source": [
    "from sklearn.preprocessing import PolynomialFeatures\n",
    "from sklearn.linear_model import LinearRegression\n",
    "from sklearn.pipeline import Pipeline\n",
    "\n",
    "class CappedLinearRegression(LinearRegression):\n",
    "    def predict(self, X):\n",
    "        return np.clip(super(CappedLinearRegression, self).predict(X), y.min(), y.max()) "
   ]
  },
  {
   "cell_type": "markdown",
   "metadata": {},
   "source": [
    "### Grid Search\n",
    "We opted to use a grid search to find the best hyper-paremeters for this model. The parameters adjusted were the degree polynomial for the transformation, if the model is to be normalized, and if the intercept is to be fit. This was done using a ten fold cross-validation with a 20/80 split for training and testing. The scoring parameter used is the R-squared.\n",
    "\n",
    "### Polynomrial Regression Results\n",
    "\n",
    "The grid search determined that a two degree polynomial resutled in the best fit. The resulting model perfromed execeptionally well with an R2 of 0.99 indicating that nearly all of the variation in the data can be explained by the model."
   ]
  },
  {
   "cell_type": "code",
   "execution_count": null,
   "metadata": {
    "collapsed": true
   },
   "outputs": [],
   "source": [
    "from sklearn.model_selection import GridSearchCV\n",
    "\n",
    "# Possible Parameters:\n",
    "    # 'memory',\n",
    "    #  'steps',\n",
    "    #  'poly',\n",
    "    #  'linear',\n",
    "    #  'poly__degree',\n",
    "    #  'poly__include_bias',\n",
    "    #  'poly__interaction_only',\n",
    "    #  'linear__copy_X',\n",
    "    #  'linear__fit_intercept',\n",
    "    #  'linear__n_jobs',\n",
    "    #  'linear__normalize'\n",
    "\n",
    "parameters = {'poly__degree':[2,3],\n",
    "              'linear__normalize':(True,False), \n",
    "              'linear__fit_intercept':(True,False)}\n",
    "\n",
    "model = Pipeline([('poly', PolynomialFeatures()),\n",
    "                      ('linear', CappedLinearRegression())])\n",
    "\n",
    "regGridSearch = GridSearchCV(estimator=model\n",
    "                   , verbose=3 #high number gives more description\n",
    "                   , param_grid=parameters\n",
    "                   , cv=cv\n",
    "                   , n_jobs=-1 # all CPUs\n",
    "                   , scoring='r2')\n",
    "\n",
    "#Perform hyperparameter search to find the best combination of parameters for our data\n",
    "# regGridSearch.fit(X, y) #UNCOMMENT TO RUN "
   ]
  },
  {
   "cell_type": "code",
   "execution_count": 29,
   "metadata": {},
   "outputs": [
    {
     "name": "stdout",
     "output_type": "stream",
     "text": [
      "Max R-squared:  0.990064169428\n"
     ]
    }
   ],
   "source": [
    "# Execute model with best parameters from Grid Search\n",
    "\n",
    "from sklearn.model_selection import cross_val_score\n",
    "\n",
    "model = Pipeline([('poly', PolynomialFeatures(degree=2, include_bias=True, interaction_only=False)),\n",
    "                  ('linear', CappedLinearRegression(copy_X=True, fit_intercept=True, n_jobs=-1, normalize=False))])\n",
    "model.fit(X, y)\n",
    "y_hat = model.predict(X)\n",
    "\n",
    "acc = cross_val_score(model, X, y, cv=cv,scoring='r2')\n",
    "print('Max R-squared: ',acc.max())"
   ]
  },
  {
   "cell_type": "code",
   "execution_count": 30,
   "metadata": {},
   "outputs": [
    {
     "data": {
      "image/png": "[encoded data removed]",
      "text/plain": [
       "<matplotlib.figure.Figure at 0x1c965bd7208>"
      ]
     },
     "metadata": {},
     "output_type": "display_data"
    }
   ],
   "source": [
    "plt.scatter(x=X[\"wtc_AcWindSp_mean\"], y=y, label='Actual')\n",
    "plt.scatter(x=X[\"wtc_AcWindSp_mean\"], y=y_hat, c='r', label='Predicted')\n",
    "plt.axis('tight')\n",
    "plt.legend()\n",
    "plt.title(\"Polynomial Regression\")\n",
    "plt.show()"
   ]
  },
  {
   "cell_type": "markdown",
   "metadata": {},
   "source": [
    "## Lasso Regression"
   ]
  },
  {
   "cell_type": "code",
   "execution_count": 27,
   "metadata": {},
   "outputs": [
    {
     "name": "stdout",
     "output_type": "stream",
     "text": [
      "Fitting 10 folds for each of 20 candidates, totalling 200 fits\n"
     ]
    },
    {
     "name": "stderr",
     "output_type": "stream",
     "text": [
      "[Parallel(n_jobs=-1)]: Done  16 tasks      | elapsed:    9.7s\n",
      "[Parallel(n_jobs=-1)]: Done 112 tasks      | elapsed:   13.7s\n",
      "[Parallel(n_jobs=-1)]: Done 200 out of 200 | elapsed:   16.0s finished\n"
     ]
    },
    {
     "data": {
      "text/plain": [
       "GridSearchCV(cv=ShuffleSplit(n_splits=10, random_state=0, test_size=0.2, train_size=None),\n",
       "       error_score='raise',\n",
       "       estimator=Lasso(alpha=1.0, copy_X=True, fit_intercept=True, max_iter=10000,\n",
       "   normalize=True, positive=False, precompute=True, random_state=0,\n",
       "   selection='cyclic', tol=0.0001, warm_start=False),\n",
       "       fit_params=None, iid=True, n_jobs=-1,\n",
       "       param_grid={'alpha': [0.001, 0.1, 1, 10, 20], 'selection': ['cyclic', 'random'], 'warm_start': [True, False]},\n",
       "       pre_dispatch='2*n_jobs', refit=True, return_train_score=True,\n",
       "       scoring='r2', verbose=3)"
      ]
     },
     "execution_count": 27,
     "metadata": {},
     "output_type": "execute_result"
    }
   ],
   "source": [
    "from sklearn.linear_model import Lasso\n",
    "from sklearn.model_selection import GridSearchCV\n",
    "\n",
    "model = Lasso(fit_intercept=True, normalize=True,copy_X=True\n",
    "          , max_iter=10000, precompute=True, tol=0.0001, random_state=0)\n",
    "\n",
    "#Test parameters \n",
    "alpha = [0.001, 0.1, 1, 10, 20]\n",
    "selection = ['cyclic','random']\n",
    "warm_start = [True, False]\n",
    "parameters = {'alpha': alpha, 'selection': selection, 'warm_start': warm_start}\n",
    "\n",
    "regGridSearch = GridSearchCV(estimator=model\n",
    "                   , verbose=3\n",
    "                   , param_grid=parameters\n",
    "                   , cv=cv\n",
    "                   , n_jobs=-1\n",
    "                   , scoring='r2')\n",
    "\n",
    "regGridSearch.fit(X, y)"
   ]
  },
  {
   "cell_type": "code",
   "execution_count": 35,
   "metadata": {},
   "outputs": [
    {
     "name": "stdout",
     "output_type": "stream",
     "text": [
      "Max R-squared:  0.963065209304\n"
     ]
    }
   ],
   "source": [
    "# Execute model with best parameters from Grid Search\n",
    "from sklearn.linear_model import Lasso\n",
    "from sklearn.model_selection import cross_val_score\n",
    "\n",
    "model = Lasso(alpha=1.0, copy_X=True, fit_intercept=True, max_iter=10000,\n",
    "   normalize=True, positive=False, precompute=True, random_state=0,\n",
    "   selection='cyclic', tol=0.0001, warm_start=False)\n",
    "\n",
    "model.fit(X, y)\n",
    "y_hat = model.predict(X)\n",
    "\n",
    "acc = cross_val_score(model, X, y, cv=3,scoring='r2')\n",
    "print('Max R-squared: ',acc.max())"
   ]
  },
  {
   "cell_type": "markdown",
   "metadata": {},
   "source": [
    "## Ridge Regression"
   ]
  },
  {
   "cell_type": "code",
   "execution_count": 29,
   "metadata": {},
   "outputs": [
    {
     "name": "stdout",
     "output_type": "stream",
     "text": [
      "Fitting 10 folds for each of 36 candidates, totalling 360 fits\n"
     ]
    },
    {
     "name": "stderr",
     "output_type": "stream",
     "text": [
      "[Parallel(n_jobs=-1)]: Done  16 tasks      | elapsed:   10.1s\n",
      "[Parallel(n_jobs=-1)]: Done 112 tasks      | elapsed:   33.8s\n",
      "[Parallel(n_jobs=-1)]: Done 272 tasks      | elapsed:   41.9s\n",
      "[Parallel(n_jobs=-1)]: Done 360 out of 360 | elapsed:   47.1s finished\n"
     ]
    },
    {
     "data": {
      "text/plain": [
       "GridSearchCV(cv=ShuffleSplit(n_splits=10, random_state=0, test_size=0.2, train_size=None),\n",
       "       error_score='raise',\n",
       "       estimator=Ridge(alpha=1.0, copy_X=True, fit_intercept=True, max_iter=1000,\n",
       "   normalize=True, random_state=0, solver='auto', tol=0.0001),\n",
       "       fit_params=None, iid=True, n_jobs=-1,\n",
       "       param_grid={'alpha': [0.001, 0.1, 1, 5, 10, 20], 'solver': ['svd', 'cholesky', 'lsqr', 'sparse_cg', 'sag', 'saga']},\n",
       "       pre_dispatch='2*n_jobs', refit=True, return_train_score=True,\n",
       "       scoring='r2', verbose=3)"
      ]
     },
     "execution_count": 29,
     "metadata": {},
     "output_type": "execute_result"
    }
   ],
   "source": [
    "from sklearn.linear_model import Ridge\n",
    "from sklearn.model_selection import GridSearchCV\n",
    "\n",
    "model = Ridge(fit_intercept=True, normalize=True,copy_X=True\n",
    "          , max_iter=1000, tol=0.0001, random_state=0)\n",
    "\n",
    "#Test parameters \n",
    "alpha = [0.001, 0.1, 1, 5, 10, 20]\n",
    "solver = [ 'svd', 'cholesky', 'lsqr', 'sparse_cg', 'sag', 'saga']\n",
    "parameters = {'alpha': alpha, 'solver': solver}\n",
    "\n",
    "regGridSearch = GridSearchCV(estimator=model\n",
    "                   , verbose=3\n",
    "                   , param_grid=parameters\n",
    "                   , cv=cv\n",
    "                   , n_jobs=-1\n",
    "                   , scoring='r2')\n",
    "\n",
    "regGridSearch.fit(X, y)"
   ]
  },
  {
   "cell_type": "code",
   "execution_count": 36,
   "metadata": {},
   "outputs": [
    {
     "name": "stdout",
     "output_type": "stream",
     "text": [
      "Max R-squared:  0.952737869926\n"
     ]
    }
   ],
   "source": [
    "# Execute model with best parameters from Grid Search\n",
    "from sklearn.linear_model import Ridge\n",
    "from sklearn.model_selection import cross_val_score\n",
    "\n",
    "model = Ridge(alpha=1.0, copy_X=True, fit_intercept=True, max_iter=1000,\n",
    "   normalize=True, random_state=0, solver='auto', tol=0.0001)\n",
    "\n",
    "model.fit(X, y)\n",
    "y_hat = model.predict(X)\n",
    "\n",
    "acc = cross_val_score(model, X, y, cv=3,scoring='r2')\n",
    "print('Max R-squared: ',acc.max())"
   ]
  },
  {
   "cell_type": "markdown",
   "metadata": {},
   "source": [
    "## ElasticNet Regression\n",
    "\n",
    "We are not sure why the ElasticNet version of linear regression gave negative R-square. "
   ]
  },
  {
   "cell_type": "code",
   "execution_count": 33,
   "metadata": {},
   "outputs": [
    {
     "name": "stdout",
     "output_type": "stream",
     "text": [
      "Fitting 10 folds for each of 96 candidates, totalling 960 fits\n"
     ]
    },
    {
     "name": "stderr",
     "output_type": "stream",
     "text": [
      "[Parallel(n_jobs=-1)]: Done  16 tasks      | elapsed:    9.5s\n",
      "[Parallel(n_jobs=-1)]: Done 112 tasks      | elapsed:   12.2s\n",
      "[Parallel(n_jobs=-1)]: Done 272 tasks      | elapsed:   16.8s\n",
      "[Parallel(n_jobs=-1)]: Done 496 tasks      | elapsed:   23.3s\n",
      "[Parallel(n_jobs=-1)]: Done 784 tasks      | elapsed:   31.6s\n",
      "[Parallel(n_jobs=-1)]: Done 960 out of 960 | elapsed:   36.9s finished\n"
     ]
    },
    {
     "data": {
      "text/plain": [
       "GridSearchCV(cv=ShuffleSplit(n_splits=10, random_state=0, test_size=0.2, train_size=None),\n",
       "       error_score='raise',\n",
       "       estimator=ElasticNet(alpha=1.0, copy_X=True, fit_intercept=True, l1_ratio=0.5,\n",
       "      max_iter=10000, normalize=True, positive=False, precompute=True,\n",
       "      random_state=0, selection='cyclic', tol=0.0001, warm_start=False),\n",
       "       fit_params=None, iid=True, n_jobs=-1,\n",
       "       param_grid={'l1_ratio': [0.001, 0.01, 0.1, 0.5, 0.75, 1], 'alpha': [0.001, 0.1, 1, 10], 'selection': ['cyclic', 'random'], 'warm_start': [True, False]},\n",
       "       pre_dispatch='2*n_jobs', refit=True, return_train_score=True,\n",
       "       scoring='r2', verbose=3)"
      ]
     },
     "execution_count": 33,
     "metadata": {},
     "output_type": "execute_result"
    }
   ],
   "source": [
    "from sklearn.model_selection import GridSearchCV\n",
    "from sklearn.linear_model import ElasticNet\n",
    "\n",
    "model = ElasticNet(fit_intercept=True, normalize=True, precompute=True, copy_X=True\n",
    "          , max_iter=10000, tol=0.0001, random_state=0)\n",
    " \n",
    "#Test parameters\n",
    "l1_ratio = [0.001, 0.01, 0.1, 0.5, 0.75, 1]\n",
    "alpha = [0.001, 0.1, 1, 10]\n",
    "selection = ['cyclic','random']\n",
    "warm_start = [True, False]\n",
    "parameters = {'l1_ratio': l1_ratio, 'alpha': alpha, 'selection': selection, 'warm_start': warm_start}\n",
    "\n",
    "regGridSearch = GridSearchCV(estimator=model\n",
    "                   , verbose=3\n",
    "                   , param_grid=parameters\n",
    "                   , cv=cv\n",
    "                   , n_jobs=-1\n",
    "                   , scoring='r2')\n",
    "\n",
    "regGridSearch.fit(X, y)"
   ]
  },
  {
   "cell_type": "code",
   "execution_count": 37,
   "metadata": {},
   "outputs": [
    {
     "name": "stdout",
     "output_type": "stream",
     "text": [
      "Max R-squared:  -0.0170456144688\n"
     ]
    }
   ],
   "source": [
    "# Executefrom sklearn.linear_model \n",
    "from sklearn.linear_model import ElasticNet\n",
    "from sklearn.model_selection import cross_val_score\n",
    "\n",
    "model = ElasticNet(alpha=1.0, copy_X=True, fit_intercept=True, l1_ratio=0.5,\n",
    "      max_iter=10000, normalize=True, positive=False, precompute=True,\n",
    "      random_state=0, selection='cyclic', tol=0.0001, warm_start=False)\n",
    "\n",
    "model.fit(X, y)\n",
    "y_hat = model.predict(X)\n",
    "\n",
    "acc = cross_val_score(model, X, y, cv=3,scoring='r2')\n",
    "print('Max R-squared: ',acc.max())"
   ]
  },
  {
   "cell_type": "markdown",
   "metadata": {},
   "source": [
    "## Random Forest Regression"
   ]
  },
  {
   "cell_type": "markdown",
   "metadata": {},
   "source": [
    "The regression target is based on the actual power output of the turbine, \"wtc_ActPower_mean\". We define a separate set of variables we wish to use to predict the power output."
   ]
  },
  {
   "cell_type": "code",
   "execution_count": 108,
   "metadata": {
    "scrolled": true
   },
   "outputs": [
    {
     "name": "stdout",
     "output_type": "stream",
     "text": [
      "[1554.1629999999998 1027.646 689.9637 ... -27.846870000000003 -27.76335\n",
      " -27.61562]\n",
      "[[1586.6570000000002 236.7694 1769.4520000000002 ... 1097.237 551.3526\n",
      "  932.595]]\n",
      "[[2138.28 309.7698 2302.3179999999998 ... 433.6547 1971.317 319.1144]]\n",
      "[[1586.6570000000002]\n",
      " [236.7694]\n",
      " [1769.4520000000002]\n",
      " ...\n",
      " [1097.237]\n",
      " [551.3526]\n",
      " [932.595]]\n",
      "[[2138.28]\n",
      " [309.7698]\n",
      " [2302.3179999999998]\n",
      " ...\n",
      " [433.6547]\n",
      " [1971.317]\n",
      " [319.1144]]\n"
     ]
    }
   ],
   "source": [
    "#Code from https://towardsdatascience.com/random-forest-in-python-24d0893d51c0\n",
    "y_a = np.array(y, dtype=pd.Series)\n",
    "print(y_a)\n",
    "\n",
    "train_y_a, test_y_a, train_data, test_data = train_test_split(y_a, data, test_size = 0.25, random_state = 42)\n",
    "train_y_r = np.atleast_2d(train_y_a)\n",
    "test_y_r = np.atleast_2d(test_y_a)\n",
    "print(train_y_r)\n",
    "print(test_y_r)\n",
    "train_y_s = train_y_r.reshape(-1,1)\n",
    "print(train_y_s)\n",
    "test_y_s = test_y_r.reshape(-1,1)\n",
    "print(test_y_s)"
   ]
  },
  {
   "cell_type": "code",
   "execution_count": 109,
   "metadata": {},
   "outputs": [
    {
     "name": "stdout",
     "output_type": "stream",
     "text": [
      "Training Features Shape: (39348, 1)\n",
      "Training Labels Shape: (39348, 12)\n",
      "Testing Features Shape: (13116, 1)\n",
      "Testing Labels Shape: (13116, 12)\n"
     ]
    }
   ],
   "source": [
    "print('Training Features Shape:', train_y_s.shape)\n",
    "print('Training Labels Shape:', train_data.shape)\n",
    "print('Testing Features Shape:', test_y_s.shape)\n",
    "print('Testing Labels Shape:', test_data.shape)"
   ]
  },
  {
   "cell_type": "markdown",
   "metadata": {},
   "source": [
    "### Regression parameters setting 1"
   ]
  },
  {
   "cell_type": "code",
   "execution_count": 117,
   "metadata": {
    "collapsed": true
   },
   "outputs": [],
   "source": [
    "from sklearn.ensemble import RandomForestRegressor\n",
    "\n",
    "# Instantiate model with 10 decision trees\n",
    "rf = RandomForestRegressor(n_estimators = 10, random_state = 42)\n"
   ]
  },
  {
   "cell_type": "code",
   "execution_count": 118,
   "metadata": {
    "collapsed": true
   },
   "outputs": [],
   "source": [
    "# Train the model on training data\n",
    "# rf.fit(train_y_s, train_data);\n",
    "rf.fit(train_data, train_y_a);"
   ]
  },
  {
   "cell_type": "code",
   "execution_count": 111,
   "metadata": {},
   "outputs": [
    {
     "name": "stdout",
     "output_type": "stream",
     "text": [
      "Mean Absolute Error: 58.4 kWh.\n"
     ]
    }
   ],
   "source": [
    "# Use the forest's predict method on the test data\n",
    "predictions = rf.predict(test_data)\n",
    "\n",
    "# Calculate the absolute errors\n",
    "errors = abs(predictions - test_y_a)\n",
    "\n",
    "# Print out the mean absolute error (mae)\n",
    "print('Mean Absolute Error:', round(np.mean(errors), 2), 'kWh.')"
   ]
  },
  {
   "cell_type": "code",
   "execution_count": 112,
   "metadata": {},
   "outputs": [
    {
     "name": "stdout",
     "output_type": "stream",
     "text": [
      "0.9833139688814232\n"
     ]
    }
   ],
   "source": [
    "score = rf.score(test_data, test_y_a)\n",
    "print(score)\n",
    "\n",
    "# http://scikit-learn.org/stable/modules/generated/sklearn.ensemble.RandomForestRegressor.html"
   ]
  },
  {
   "cell_type": "markdown",
   "metadata": {},
   "source": [
    "#### Results of Parameter Setting 1\n",
    "The results from the first choice in parameters (n_estimators=10 and the rest default) had a very high accuracy of 98.3%. With n_estimators set at 10 the regression will use a max of 10 trees. More trees increases accuracy but slows the code down."
   ]
  },
  {
   "cell_type": "markdown",
   "metadata": {},
   "source": [
    "### Regression parameters setting 2"
   ]
  },
  {
   "cell_type": "code",
   "execution_count": 119,
   "metadata": {
    "collapsed": true
   },
   "outputs": [],
   "source": [
    "# Instantiate model with 50 decision trees\n",
    "rf = RandomForestRegressor(n_estimators = 50, random_state = 42)"
   ]
  },
  {
   "cell_type": "code",
   "execution_count": 120,
   "metadata": {
    "collapsed": true
   },
   "outputs": [],
   "source": [
    "# Train the model on training data\n",
    "# rf.fit(train_y_s, train_data);\n",
    "rf.fit(train_data, train_y_a);"
   ]
  },
  {
   "cell_type": "code",
   "execution_count": 121,
   "metadata": {},
   "outputs": [
    {
     "name": "stdout",
     "output_type": "stream",
     "text": [
      "Mean Absolute Error: 55.68 kWh.\n"
     ]
    }
   ],
   "source": [
    "# Use the forest's predict method on the test data\n",
    "predictions = rf.predict(test_data)\n",
    "\n",
    "# Calculate the absolute errors\n",
    "errors = abs(predictions - test_y_a)\n",
    "\n",
    "# Print out the mean absolute error (mae)\n",
    "print('Mean Absolute Error:', round(np.mean(errors), 2), 'kWh.')"
   ]
  },
  {
   "cell_type": "code",
   "execution_count": 122,
   "metadata": {},
   "outputs": [
    {
     "name": "stdout",
     "output_type": "stream",
     "text": [
      "0.9846850572618667\n"
     ]
    }
   ],
   "source": [
    "score = rf.score(test_data, test_y_a)\n",
    "print(score)"
   ]
  },
  {
   "cell_type": "markdown",
   "metadata": {},
   "source": [
    "#### Results of Parameter Setting 2\n",
    "The results from the second choice in parameters (n_estimators=50 and the rest default) had a slightly higher accuracy of 98.4%. With n_estimators set at 50 the regression will use 50 trees. More trees increases accuracy but slows the code down."
   ]
  },
  {
   "cell_type": "markdown",
   "metadata": {},
   "source": [
    "### Regression parameters setting 3"
   ]
  },
  {
   "cell_type": "code",
   "execution_count": 128,
   "metadata": {
    "collapsed": true
   },
   "outputs": [],
   "source": [
    "# Instantiate model with 50 decision trees and with oob_score set to True\n",
    "rf = RandomForestRegressor(n_estimators = 50, max_features = .2, oob_score=True, random_state = 42)"
   ]
  },
  {
   "cell_type": "code",
   "execution_count": 129,
   "metadata": {
    "collapsed": true
   },
   "outputs": [],
   "source": [
    "# Train the model on training data\n",
    "# rf.fit(train_y_s, train_data);\n",
    "rf.fit(train_data, train_y_a);"
   ]
  },
  {
   "cell_type": "code",
   "execution_count": 130,
   "metadata": {},
   "outputs": [
    {
     "name": "stdout",
     "output_type": "stream",
     "text": [
      "Mean Absolute Error: 70.15 kWh.\n"
     ]
    }
   ],
   "source": [
    "# Use the forest's predict method on the test data\n",
    "predictions = rf.predict(test_data)\n",
    "\n",
    "# Calculate the absolute errors\n",
    "errors = abs(predictions - test_y_a)\n",
    "\n",
    "# Print out the mean absolute error (mae)\n",
    "print('Mean Absolute Error:', round(np.mean(errors), 2), 'kWh.')"
   ]
  },
  {
   "cell_type": "code",
   "execution_count": 131,
   "metadata": {},
   "outputs": [
    {
     "name": "stdout",
     "output_type": "stream",
     "text": [
      "0.9802697337763238\n"
     ]
    }
   ],
   "source": [
    "score = rf.score(test_data, test_y_a)\n",
    "print(score)"
   ]
  },
  {
   "cell_type": "markdown",
   "metadata": {},
   "source": [
    "#### Results of Parameter Setting 3\n",
    "The results from the third choice in parameters (n_estimators=50, max_features=20%, and oob_score set to true) had a slightly lower accuracy of 98.0%. With n_estimators set at 50 the regression will use 50 trees. More trees increases accuracy but slows the code down. Max_features limits the number of feartures that are allowed to try in each tree. Setting the oob_score at true tags each observation that is in different trees. Then for every tree that doesn't use a particular observation, it finds the maximum score."
   ]
  },
  {
   "cell_type": "code",
   "execution_count": 134,
   "metadata": {},
   "outputs": [
    {
     "name": "stdout",
     "output_type": "stream",
     "text": [
      "Mean Absolute Error: 55.68 kWh.\n"
     ]
    }
   ],
   "source": [
    "# Rerunning the second parameters for all future efforts\n",
    "\n",
    "# Instantiate model with 50 decision trees\n",
    "rf = RandomForestRegressor(n_estimators = 50, random_state = 42)\n",
    "\n",
    "# Train the model on training data\n",
    "rf.fit(train_data, train_y_a);\n",
    "\n",
    "# Use the forest's predict method on the test data\n",
    "predictions = rf.predict(test_data)\n",
    "\n",
    "# Calculate the absolute errors\n",
    "errors = abs(predictions - test_y_a)\n",
    "\n",
    "# Print out the mean absolute error (mae)\n",
    "print('Mean Absolute Error:', round(np.mean(errors), 2), 'kWh.')"
   ]
  },
  {
   "cell_type": "code",
   "execution_count": 135,
   "metadata": {},
   "outputs": [
    {
     "name": "stdout",
     "output_type": "stream",
     "text": [
      "0.9846850572618667\n"
     ]
    }
   ],
   "source": [
    "score = rf.score(test_data, test_y_a)\n",
    "print(score)"
   ]
  },
  {
   "cell_type": "code",
   "execution_count": 136,
   "metadata": {},
   "outputs": [
    {
     "name": "stdout",
     "output_type": "stream",
     "text": [
      "Variable: wtc_AcWindSp_mean    Importance: 0.87\n",
      "Variable: BoostedRef           Importance: 0.07\n",
      "Variable: wtc_ScInOper_timeon  Importance: 0.05\n",
      "Variable: WindSheer1           Importance: 0.0\n",
      "Variable: wtc_NacelPos_mean    Importance: 0.0\n",
      "Variable: WS_Thies_80m_Avg     Importance: 0.0\n",
      "Variable: WS_Thies_60m_Avg     Importance: 0.0\n",
      "Variable: WS_ICEFREE_Avg       Importance: 0.0\n",
      "Variable: BP_mbar_76m_Avg      Importance: 0.0\n",
      "Variable: AirTC_3m_Avg         Importance: 0.0\n",
      "Variable: Icing                Importance: 0.0\n",
      "Variable: Air_density          Importance: 0.0\n"
     ]
    }
   ],
   "source": [
    "# Get numerical feature importances\n",
    "importances = list(rf.feature_importances_)\n",
    "\n",
    "# List of tuples with variable and importance\n",
    "feature_importances = [(feature, round(importance, 2)) for feature, importance in zip(keepcols, importances)]\n",
    "\n",
    "# Sort the feature importances by most important first\n",
    "feature_importances = sorted(feature_importances, key = lambda x: x[1], reverse = True)\n",
    "\n",
    "\n",
    "# Print out the feature and importances \n",
    "[print('Variable: {:20} Importance: {}'.format(*pair)) for pair in feature_importances];"
   ]
  },
  {
   "cell_type": "code",
   "execution_count": 148,
   "metadata": {},
   "outputs": [
    {
     "data": {
      "image/png": "[encoded data removed]",
      "text/plain": [
       "<Figure size 432x288 with 1 Axes>"
      ]
     },
     "metadata": {},
     "output_type": "display_data"
    }
   ],
   "source": [
    "pylab.bar (keepcols, rf.feature_importances_, 1/4)\n",
    "\n",
    "pylab.xticks(keepcols, rotation='vertical')\n",
    "pylab.ylabel('Importance'); pylab.xlabel('Variable'); pylab.title('Variable Importances');\n",
    "pylab.show()"
   ]
  },
  {
   "cell_type": "markdown",
   "metadata": {},
   "source": [
    "Analyze the results using your chosen method of evaluation. Use\n",
    "visualizations of the results to bolster the analysis. Explain any visuals and analyze why\n",
    "they are interesting to someone that might use this model."
   ]
  },
  {
   "cell_type": "markdown",
   "metadata": {},
   "source": [
    "\n",
    "# Regression Models: Conclusion\n",
    "\n",
    "We chose three different regression techniques to predict the power production of a turbine. The three techniques utilized were K Nearest Neighbors regression, Random Forest Regression, and polynomial regression. We evaluated the performance of each model using the R-squared metric. The models and their associated R-squred is listed below.\n",
    "\n",
    "* **KNN Regression** - R-squared: 0.9274\n",
    "* **Random Forest** - R-squared: 0.9833\n",
    "* **Polynomial Regression** - R-squared: 0.99\n",
    "\n",
    "Using the R-squared metric the best model was the polynomial regression. Although the random-forest had a very similar R-squared. Both models should perform well when deployed in terms of speed. "
   ]
  },
  {
   "cell_type": "markdown",
   "metadata": {
    "collapsed": true
   },
   "source": [
    "# Deployment [5 Points]\n",
    "These models are very important to the company to find turbines that are underperforming. There are so many factors that affect turbine performance that the analysis is very difficult to do with traditional techniques. The best way to estimate the model value would be to calculate the cost savings of flagging turbines that need to be fixed. There is potentially a lot of money being wasted by not running the assets at their full potential. I would deploy the model as a residual time series after training the model on the first year of operation. This will capture the turbines presitine state and be able to show drifts downward due to gradual blade erosion. A threshold can be set to trigger an alarm after so many points beyond the threshold. The data presented in this report is being collected on a real time basis so no large changes in how data is collected is needed to take this model to production. "
   ]
  },
  {
   "cell_type": "markdown",
   "metadata": {},
   "source": [
    "# Exceptional Work [10 Points]\n",
    "* PCA Analysis for KNN Regression\n",
    "* Grid Search for KNN Classifier\n",
    "* Feature importance for KNN classification.\n",
    "* 6 regression models\n",
    "* Polynomial version of linear regression with pipeline"
   ]
  }
 ],
 "metadata": {
  "kernelspec": {
   "display_name": "Python 3",
   "language": "python",
   "name": "python3"
  },
  "language_info": {
   "codemirror_mode": {
    "name": "ipython",
    "version": 3
   },
   "file_extension": ".py",
   "mimetype": "text/x-python",
   "name": "python",
   "nbconvert_exporter": "python",
   "pygments_lexer": "ipython3",
   "version": "3.6.4"
  }
 },
 "nbformat": 4,
 "nbformat_minor": 2
}
