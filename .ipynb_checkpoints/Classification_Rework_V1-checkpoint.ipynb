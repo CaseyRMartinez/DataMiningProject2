{
 "cells": [
  {
   "cell_type": "markdown",
   "metadata": {},
   "source": [
    "# START CASEY'S NOTEBOOK"
   ]
  },
  {
   "cell_type": "markdown",
   "metadata": {},
   "source": [
    "# <center> Project 2 - Classification of Wind Turbine Alarms and Power Performance</center>\n",
    "\n",
    "## <center> MSDS 7331 Data Mining - Section 401 </center> \n",
    "### <center> Team:  Sarah Fite, Sheri Loftin, Casey Martinez, Kyle Thomas </center>\n",
    "\n",
    "\n",
    "\n",
    "# Imports and Data\n",
    "\n",
    "For this project, we continue to examine data provided by Siemens, the wind turbine manufacturer, and Pattern Energy, the owner/operator (Casey Martinez's employer).  For this project we analyze this dataset using both Logistics Regression and Support Vector Machines (SVM).\n",
    "\n",
    "The background of this data and the business understanding behind it can be found as part of Project 1 at: https://github.com/CaseyRMartinez/DataMiningProject1/blob/master/DataMiningProject1_V5.ipynb"
   ]
  },
  {
   "cell_type": "code",
   "execution_count": 1,
   "metadata": {
    "collapsed": true
   },
   "outputs": [],
   "source": [
    "import pandas as pd\n",
    "import numpy as np\n",
    "import os\n",
    "# import matplotlib.pyplot as plt\n",
    "import warnings\n",
    "import sklearn\n",
    "# import seaborn as sns\n",
    "warnings.simplefilter('ignore', DeprecationWarning)\n",
    "warnings.simplefilter('ignore', FutureWarning)\n",
    "from sklearn.metrics import accuracy_score, confusion_matrix\n",
    "from sklearn.model_selection import train_test_split\n",
    "from sklearn.preprocessing import Imputer\n",
    "from sklearn import preprocessing\n",
    "from sklearn import metrics as mt\n",
    "from sklearn.model_selection import GridSearchCV\n",
    "from sklearn.metrics import classification_report\n",
    "from sklearn.model_selection import ShuffleSplit\n",
    "from sklearn.model_selection import cross_val_score\n",
    "from matplotlib import pyplot\n",
    "from sklearn import svm\n",
    "from sklearn import tree\n",
    "import matplotlib.pyplot as plt\n",
    "# import pydotplus as plt\n",
    "import six\n",
    "# from sklearn.tree import export_graphviz"
   ]
  },
  {
   "cell_type": "markdown",
   "metadata": {},
   "source": [
    "To start, we will first look at the alarm data and one quarter worth of wind farm supervisory control and data acquisition (SCADA) system data.  This SCADA data is specifically used for performance monitoring of large utility-scale wind turbines."
   ]
  },
  {
   "cell_type": "code",
   "execution_count": 2,
   "metadata": {},
   "outputs": [
    {
     "name": "stdout",
     "output_type": "stream",
     "text": [
      "DF scada is:  (52462, 1291)\n"
     ]
    },
    {
     "name": "stderr",
     "output_type": "stream",
     "text": [
      "C:\\Users\\Casiano\\Anaconda3\\lib\\site-packages\\ipykernel_launcher.py:62: RuntimeWarning: divide by zero encountered in log\n"
     ]
    }
   ],
   "source": [
    "# path = \"/home/kyle/Documents/thomaskh522@gmail.com/SMU/DataMining/Classificaiton2/\"\n",
    "path = 'D:/PatternEnergy/'\n",
    "scada =  pd.read_csv(path + \"SCADAcombined2017_T014.csv\")\n",
    "alarms_desc = pd.read_csv(path + \"Siemens_Fault_Code_Descriptions.csv\")\n",
    "print(\"DF scada is: \", scada.shape)\n",
    "# scada.head()\n",
    "\n",
    "scada.dropna(thresh=10000,axis=1,inplace=True)\n",
    "\n",
    "colsdrop = ['StationId', 'CommunicationId', 'NeighbourId',\n",
    "           'NeighbourIdTwo', 'XPos', 'YPos', 'wtc_ActPower_min',\n",
    "           'wtc_ActPower_max', 'wtc_ActPower_stddev',\n",
    "           'wtc_AmpPhR_min', 'wtc_AmpPhR_max', 'wtc_AmpPhR_mean',\n",
    "           'wtc_AmpPhR_stddev', 'wtc_AmpPhS_min', 'wtc_AmpPhS_max',\n",
    "           'wtc_AmpPhS_mean', 'wtc_AmpPhS_stddev', 'wtc_AmpPhT_min',\n",
    "           'wtc_AmpPhT_max', 'wtc_AmpPhT_mean', 'wtc_AmpPhT_stddev',\n",
    "           'wtc_RawPower_min', 'wtc_RawPower_max', 'wtc_RawPower_mean',\n",
    "           'wtc_RawPower_stddev', 'wtc_GenRpm_mean',\n",
    "           'wtc_MainSRpm_mean', 'wtc_PitchRef_BladeA_mean',\n",
    "           'wtc_PitchRef_BladeB_mean', 'wtc_PitchRef_BladeC_mean','wtc_TwrHumid_mean', \n",
    "            'wtc_PitcPosA_mean','wtc_PitcPosB_mean', 'wtc_PitcPosC_mean','wtc_BoostKWh_endvalue',\n",
    "           'wtc_GeOilTmp_mean','wtc_HubTemp_mean','wtc_NacelTmp_mean','wtc_ConvWTmp_mean',\n",
    "           'wtc_MainBTmp_mean','WindDir_Angle_3D_Avg','WindDir_Angle_3D_Std','WindDir_Angle_3D_Avg',\n",
    "           'WindDir_Angle_3D_Std']\n",
    "\n",
    "scada.drop(colsdrop,axis=1,inplace=True)\n",
    "#################\n",
    "# Merge data sets\n",
    "#################\n",
    "scada.dropna(inplace=True)\n",
    "scada['wtc_AlarmCde_endvalue'] = scada['wtc_AlarmCde_endvalue'].astype(int)\n",
    "\n",
    "df = scada.merge(alarms_desc, \n",
    "         left_on = 'wtc_AlarmCde_endvalue', \n",
    "         right_on=\"Code\",\n",
    "         how='left')\n",
    "\n",
    "# del alarms_desc\n",
    "\n",
    "df['TimeStamp'] = pd.to_datetime(df['TimeStamp'])\n",
    "df.set_index('TimeStamp', inplace=True)\n",
    "df.index\n",
    "\n",
    "df.dropna(inplace=True)\n",
    "######################\n",
    "# Create new variables\n",
    "######################\n",
    "\n",
    "# Rounded Wind Speed for GroupBy\n",
    "df['WindSpeed_adj'] = df['wtc_AcWindSp_mean'].round(1)\n",
    "\n",
    "# Wind changes at night\n",
    "df['HourOfDay'] = df.index.hour\n",
    "\n",
    "# Yaw Error\n",
    "df['YawError'] = df['wtc_YawPos_mean'] - df['WindDir_ICEFREE_D1_WVT']\n",
    "\n",
    "# Adding boost to ref set point\n",
    "df['BoostedRef'] = df['wtc_BoostAva_mean'] + df['wtc_PowerRef_endvalue']\n",
    "\n",
    "# Wind Sheer\n",
    "df['WindSheer1'] = np.log(df['WS_Thies_80m_Avg'] / df['WS_Thies_26m_Avg']) / np.log(80/26)\n",
    "# df['WindSheer2'] = np.log(df['WS_Thies_80m_Avg'] / df['WS_Thies_60m_Avg']) / np.log(80/60)\n",
    "\n",
    "# Fault Types\n",
    "df = df.rename(columns={'Fault Type': 'Fault_Type'})\n",
    "df['Fault_Type'] = df['Fault_Type'].replace('W','0')\n",
    "df['Fault_Type'] = df['Fault_Type'].astype(int)\n",
    "\n",
    "# Boosted Power Delta\n",
    "df['PowerDelta'] = df['BoostedRef'] - df['wtc_ActPower_mean']\n",
    "\n",
    "available = (df['Fault_Type'] != 1) & (df['wtc_ScInOper_timeon'] == 600)\n",
    "df['Available'] = [1 if x == True else 0 for x in available]\n",
    "\n",
    "# Icing\n",
    "icing = (df['AirTC_3m_Avg'] < 3) & (abs(df['WS_ICEFREE_Avg'] - df['WS_Thies_80m_Avg']) > 1)\n",
    "df['Icing'] = [1 if x == True else 0 for x in icing]\n",
    "\n",
    "# Air Density\n",
    "df['Air_density'] = (df['BP_mbar_76m_Avg']*100)/((df['AirTC_3m_Avg']+273.15)*287.05)\n",
    "\n",
    "# Air Density adjusted Wind Speed\n",
    "df['AdjTurbineWS'] = df['wtc_AcWindSp_mean']*(np.power(df['Air_density'],(1/3)))\n",
    "\n",
    "# Turbulence\n",
    "df['TurbulenceMet'] = df['WS_Thies_80m_Std'] / df['WS_Thies_80m_Avg']\n",
    "df['TurbulenceTurbine'] = df['wtc_AcWindSp_stddev'] / df['wtc_AcWindSp_mean']\n",
    "\n",
    "# df['MainBearingFault'] = [1 if x == 64038 else 0 for x in df['Code']]\n",
    "\n",
    "df.dropna(inplace=True)\n",
    "\n",
    "# Calculating Derate Conditions\n",
    "derate = (df['PowerDelta'] < 0) & (df['Available'] == 1) & (df['BoostedRef'] < 2300) #df['BoostedRef'].max())\n",
    "df['Derated'] = [1 if x == True else 0 for x in derate]\n",
    "\n",
    "# Use cleaned data set for calculating expected energy\n",
    "clean = (df['Available'] == 1) & (df['wtc_PowerRef_endvalue'] == 2300) & (df['Icing'] == 0) & (df['wtc_BoostAva_mean'] == 0)\n",
    "df_clean = df[clean]"
   ]
  },
  {
   "cell_type": "code",
   "execution_count": 3,
   "metadata": {
    "collapsed": true
   },
   "outputs": [],
   "source": [
    "low_thresh = 5\n",
    "high_thresh = 11\n",
    "veryhigh_thresh = 13\n",
    "\n",
    "df_clean_low = df_clean[df_clean['wtc_AcWindSp_mean'] <= low_thresh]\n",
    "df_clean_mid = df_clean[(df_clean['wtc_AcWindSp_mean'] > low_thresh) & (df_clean['wtc_AcWindSp_mean'] <= high_thresh)]\n",
    "# df_clean_high = df_clean[df_clean['wtc_AcWindSp_mean'] > high_thresh]\n",
    "df_clean_high = df_clean[(df_clean['wtc_AcWindSp_mean'] > high_thresh) & (df_clean['wtc_AcWindSp_mean'] <= veryhigh_thresh)]\n",
    "df_clean_veryhigh = df_clean[df_clean['wtc_AcWindSp_mean'] > veryhigh_thresh]"
   ]
  },
  {
   "cell_type": "code",
   "execution_count": 4,
   "metadata": {
    "collapsed": true
   },
   "outputs": [],
   "source": [
    "low_5th = df_clean_low.groupby('WindSpeed_adj').quantile(0.05)\n",
    "mid_5th = df_clean_mid.groupby('WindSpeed_adj').quantile(0.05)\n",
    "high_5th = df_clean_high.groupby('WindSpeed_adj').quantile(0.05)\n",
    "veryhigh_5th = df_clean_veryhigh.groupby('WindSpeed_adj').quantile(0.05)"
   ]
  },
  {
   "cell_type": "code",
   "execution_count": 5,
   "metadata": {},
   "outputs": [
    {
     "name": "stderr",
     "output_type": "stream",
     "text": [
      "C:\\Users\\Casiano\\Anaconda3\\lib\\site-packages\\ipykernel_launcher.py:48: SettingWithCopyWarning: \n",
      "A value is trying to be set on a copy of a slice from a DataFrame.\n",
      "Try using .loc[row_indexer,col_indexer] = value instead\n",
      "\n",
      "See the caveats in the documentation: http://pandas.pydata.org/pandas-docs/stable/indexing.html#indexing-view-versus-copy\n"
     ]
    }
   ],
   "source": [
    "# low\n",
    "from numpy.polynomial import polynomial as P\n",
    "from numpy.polynomial.polynomial import polyval\n",
    "\n",
    "degree = 2\n",
    "\n",
    "# 5th quantile\n",
    "xdata2 = low_5th.index.values\n",
    "ydata2 = low_5th['wtc_ActPower_mean'].values\n",
    "\n",
    "low_5th_c, stats2 = P.polyfit(xdata2, ydata2,degree,full=True)\n",
    "\n",
    "# mid\n",
    "\n",
    "degree = 5\n",
    "\n",
    "# 5th quantile\n",
    "xdata2 = mid_5th.index.values\n",
    "ydata2 = mid_5th['wtc_ActPower_mean'].values\n",
    "\n",
    "mid_5th_c, stats2 = P.polyfit(xdata2, ydata2,degree,full=True)\n",
    "\n",
    "# high\n",
    "\n",
    "degree = 5\n",
    "\n",
    "# 5th quantile\n",
    "xdata2 = high_5th.index.values\n",
    "ydata2 = high_5th['wtc_ActPower_mean'].values\n",
    "\n",
    "high_5th_c, stats2 = P.polyfit(xdata2, ydata2,degree,full=True)\n",
    "\n",
    "def ExpectedCalc5th(wind):\n",
    "    if wind <= low_thresh:\n",
    "        y = polyval(wind,low_5th_c)\n",
    "        return y\n",
    "    elif (wind > low_thresh) & (wind <= high_thresh):\n",
    "        y = polyval(wind,mid_5th_c)\n",
    "        return y\n",
    "    elif (wind > high_thresh) & (wind <= veryhigh_thresh):\n",
    "        y = polyval(wind,high_5th_c)\n",
    "        return y\n",
    "    else:\n",
    "        y = veryhigh_5th['wtc_ActPower_mean'].median()\n",
    "        return y\n",
    "    \n",
    "\n",
    "df_clean['ExpectedEnergy_5th'] = df_clean['wtc_AcWindSp_mean'].map(ExpectedCalc5th)\n",
    "df['ExpectedEnergy_5th'] = df['wtc_AcWindSp_mean'].map(ExpectedCalc5th)"
   ]
  },
  {
   "cell_type": "code",
   "execution_count": 6,
   "metadata": {},
   "outputs": [
    {
     "data": {
      "image/png": "[encoded data removed]",
      "text/plain": [
       "<matplotlib.figure.Figure at 0x1384d2bb208>"
      ]
     },
     "metadata": {},
     "output_type": "display_data"
    }
   ],
   "source": [
    "# Plot expected energy on clean data\n",
    "\n",
    "# x1 = df_clean['wtc_AcWindSp_mean']\n",
    "# y1 = df_clean['ExpectedEnergy_median'] \n",
    "\n",
    "x2 = df_clean['wtc_AcWindSp_mean']\n",
    "y2 = df_clean['wtc_ActPower_mean'] \n",
    "\n",
    "x3 = df_clean['wtc_AcWindSp_mean']\n",
    "y3 = df_clean['ExpectedEnergy_5th'] \n",
    "\n",
    "plt.figure(figsize=(20, 10))\n",
    "plt.rc('xtick', labelsize=20)    # fontsize of the tick labels\n",
    "plt.rc('font', size=20)          # controls default text sizes\n",
    "plt.rc('axes', titlesize=20)     # fontsize of the axes title\n",
    "plt.rc('axes', labelsize=20)    # fontsize of the x and y labels\n",
    "plt.rc('ytick', labelsize=20)    # fontsize of the tick labels\n",
    "plt.rc('legend', fontsize=20)    # legend fontsize\n",
    "plt.rc('figure', titlesize=30)  # fontsize of the figure title\n",
    "\n",
    "plt.scatter(x2, y2,alpha=0.3)#, c=c)\n",
    "# plt.scatter(x1,y1,alpha = 0.5, c='g')\n",
    "plt.scatter(x3,y3,alpha = 0.5, c='r')\n",
    "\n",
    "plt.title(\"Clean Power Curve\")\n",
    "plt.xlabel('Wind Speed')\n",
    "plt.ylabel('Power')\n",
    "# plt.legend()\n",
    "plt.show()"
   ]
  },
  {
   "cell_type": "markdown",
   "metadata": {},
   "source": [
    "### Turbine Performance Classification\n",
    "The goal of our classificaiton reports was to determine if a wind turbine was underperforming. In order to do this, we calculated the historical fifth percentile of energy output (low end of energy production). If a turbine was less than or equal to this value then it is deemed to be under performing. "
   ]
  },
  {
   "cell_type": "code",
   "execution_count": 7,
   "metadata": {},
   "outputs": [
    {
     "name": "stdout",
     "output_type": "stream",
     "text": [
      "Percent of Under Performance Data: 25.9809806948 %\n"
     ]
    }
   ],
   "source": [
    "# Make labels\n",
    "# insipred by: https://stackoverflow.com/questions/26886653/pandas-create-new-column-based-on-values-from-other-columns\n",
    "\n",
    "def make_class(row):\n",
    "    if row[\"wtc_ActPower_mean\"] <= row[\"ExpectedEnergy_5th\"]:\n",
    "        return \"1\"\n",
    "    else:\n",
    "        return \"0\"\n",
    "\n",
    "df[\"Underperformance\"] = df.apply(lambda x: make_class(x), axis=1)\n",
    "df['Underperformance'] = df['Underperformance'].astype(int)\n",
    "\n",
    "percent = (df['Underperformance'].sum() / len(df))*100\n",
    "print('Percent of Under Performance Data:',percent,\"%\")"
   ]
  },
  {
   "cell_type": "markdown",
   "metadata": {},
   "source": [
    "## Classification: Preprocessing of Data\n",
    "\n",
    "According to several references, many classificaiton models benefit from data scaling. Specifically, it can speed up the training process significantly for certain models (such as support vector machines), and it can prevent certain features from becoming more important than others do the differnce in the scale of their values.\n",
    "\n",
    "SciKitLearn has some built in functions to expedite this processs. First, however, before this process can begin, the variables must be encoded from the string class variable into a numeric variable that can be interpreted by SciKitLearn."
   ]
  },
  {
   "cell_type": "code",
   "execution_count": 8,
   "metadata": {},
   "outputs": [
    {
     "data": {
      "text/plain": [
       "Index(['BoostedRef', 'WindSheer1', 'wtc_AcWindSp_mean', 'wtc_NacelPos_mean',\n",
       "       'wtc_ScInOper_timeon', 'WS_Thies_80m_Avg', 'WS_Thies_60m_Avg',\n",
       "       'WS_ICEFREE_Avg', 'BP_mbar_76m_Avg', 'AirTC_3m_Avg', 'Icing',\n",
       "       'Air_density'],\n",
       "      dtype='object')"
      ]
     },
     "execution_count": 8,
     "metadata": {},
     "output_type": "execute_result"
    }
   ],
   "source": [
    "#Encode the labels (examples found on SKLearn website... need to find address)\n",
    "le = preprocessing.LabelEncoder()\n",
    "le.fit(list(df[\"Underperformance\"].unique()))\n",
    "df[\"target\"] = le.transform(df[\"Underperformance\"])\n",
    "df = df.replace([np.inf, -np.inf], np.nan).dropna()\n",
    "\n",
    "\n",
    "\n",
    "#Now the other variables used to train the model need to scaled. First, however, un-need variables need to be dropped.\n",
    "y = df[\"target\"]\n",
    "\n",
    "keepcols = ['BoostedRef', 'WindSheer1',\n",
    "            'wtc_AcWindSp_mean','wtc_NacelPos_mean','wtc_ScInOper_timeon', \n",
    "            'WS_Thies_80m_Avg', 'WS_Thies_60m_Avg', 'WS_ICEFREE_Avg',\n",
    "           'BP_mbar_76m_Avg', 'AirTC_3m_Avg','Icing','Air_density']\n",
    "\n",
    "data = df[keepcols]\n",
    "\n",
    "\n",
    "X = preprocessing.scale(data) \n",
    "\n",
    "data.columns"
   ]
  },
  {
   "cell_type": "markdown",
   "metadata": {},
   "source": [
    "# [Modeling and Evaluation (1 of 2 sections) - 70 points]\n",
    "# Classification Task: Predicting Underperformance\n",
    "\n",
    "The goal of our classificaiton models was to predict if a wind turbine was under performing based on its operating conditions. This is binary response, either a wind turbine is underperforming or it is not. For Pattern Energy it is important that accuracy of the model be as high as possible. They want to identify any turbine that could be under performing and then do a more indepth analysis on the identified turbines before taking corrective acction. Therefore, we will be evaluating each model using the accuracy metric. While there are some disadvantages to using accuracy (most notabley, it ignores the cost associated with misclassificaiton). However, since each under performing wind turbine will be further examined this is of minimal concern to Pattern. It is more important to them that any turbine that could be under performing be identified for futher investigation.\n",
    "\n",
    "For our classificaiton models the data was split into traing and test data. A simple 80/20 split was used. This means that 80 percent of the data set was used to train the classification models, and 20 percent was used for testing purposes. This simple approach was used to increase training times.\n",
    "\n",
    "\n",
    "## KNN Approach\n",
    "\n",
    "The goal of this classification model was to predict turbine under performance using a KNN approach. This information would be helpful to identify if a turbine is under performing using historical data. \n",
    "\n",
    "Two different approaches were used here. First, we ran a simple KNN using different K values. The goal was to see how the defaults for the KNN classifer performed on our data while only chaning the K value. This revealed that adding an increasing number of neighbors did not increase the accuracy of the classifer. We used this information to limit the number of neighbors in the grid search to decrease training time.\n",
    "\n",
    "Then we did a intensive grid search to see the maximum performance that could be gained from this classifier. The intensive grid search did not have much of an impact on accuracy even though 30 different KNN classiferes were trained and tested.\n",
    "\n",
    "The best model had the following hyper-paremters:\n",
    "* **Metric** - Manhattan. This indicates that Manhattan distance was used to calculate distance.\n",
    "* **K** - 5. This indicates that the optimal number of neights to use \n",
    "* **Weights** - Distance. this indicates that optimal performance was acheived when closer neighbors had more influce on the model (rather than all neighbors having the same influce).\n",
    "\n",
    "### Results of KNN Classifier\n",
    "The best model has an accuarcy of 92.8 percent.\n",
    "\n",
    "### Feature Importance\n",
    "Feature importance was determined in the mini-project. We opted to keep all the same variables that we deemed most important from the mini-project. However, we could attempt to determine which variables are the most important for KNN classificaiton. Looking at the literature, it does not appear that variable importance is a tool used with KNN (https://www.r-bloggers.com/simulated-annealing-feature-selection/)\n",
    "\n",
    "It could be possible to do a leave one out type analysis with KNN. In this instance you would run a KNN analysis with all but one feature, and then calculate the accuracy. Do this for all feautres in the dataset. The model that has the worst accuracy could mean that the most important feature was dropped from the model. \n",
    "\n",
    "I will attempt to do try this method using the model that was selected via the grid search. The top three most important features (according to this method) are show below with the accuracy of the KNN classifier without their inclusion. Remember that the base accuracy was 92.8 percent.\n",
    "\n",
    "1. \t**wtc_ScInOper_timeon** \t0.907939\n",
    "2. \t**wtc_AcWindSp_mean** \t0.910321\n",
    "3. \t**BoostedRef** \t0.910798\n"
   ]
  },
  {
   "cell_type": "code",
   "execution_count": 9,
   "metadata": {
    "collapsed": true
   },
   "outputs": [],
   "source": [
    "from sklearn.model_selection import ShuffleSplit\n",
    "cv = ShuffleSplit(n_splits=10, test_size=0.20, random_state=0)\n",
    "\n",
    "X_train, X_test, y_train, y_test = train_test_split(X, y, test_size=0.2, random_state=1)"
   ]
  },
  {
   "cell_type": "code",
   "execution_count": 10,
   "metadata": {},
   "outputs": [
    {
     "name": "stdout",
     "output_type": "stream",
     "text": [
      "Accuracy of classifier with 1 neighbors is: 0.91\n",
      "Accuracy of classifier with 2 neighbors is: 0.92\n",
      "Accuracy of classifier with 3 neighbors is: 0.92\n",
      "Accuracy of classifier with 4 neighbors is: 0.92\n",
      "Accuracy of classifier with 5 neighbors is: 0.92\n",
      "Accuracy of classifier with 6 neighbors is: 0.92\n",
      "Accuracy of classifier with 7 neighbors is: 0.92\n",
      "Accuracy of classifier with 8 neighbors is: 0.92\n",
      "Accuracy of classifier with 9 neighbors is: 0.92\n",
      "Accuracy of classifier with 10 neighbors is: 0.92\n"
     ]
    }
   ],
   "source": [
    "from sklearn.neighbors import KNeighborsClassifier\n",
    "\n",
    "for x in range(1,11):\n",
    "    K=x\n",
    "    clf = KNeighborsClassifier(n_neighbors=K, weights='uniform', metric='euclidean')\n",
    "    clf.fit(X_train,y_train)\n",
    "    p = clf.predict(X_test)\n",
    "    a = accuracy_score(p,y_test)\n",
    "    print('Accuracy of classifier with %d neighbors is: %.2f'%(K,a))\n",
    "# I was getting 92% accuracy just through some basic KNN... I don't think we will get much better."
   ]
  },
  {
   "cell_type": "code",
   "execution_count": 11,
   "metadata": {
    "scrolled": true
   },
   "outputs": [
    {
     "name": "stdout",
     "output_type": "stream",
     "text": [
      "Best parameters set found on development set:\n",
      "\n",
      "{'metric': 'manhattan', 'n_neighbors': 5, 'weights': 'distance'}\n",
      "\n",
      "Detailed classification report:\n",
      "\n",
      "             precision    recall  f1-score   support\n",
      "\n",
      "          0       0.93      0.98      0.95      7773\n",
      "          1       0.92      0.78      0.85      2720\n",
      "\n",
      "avg / total       0.93      0.93      0.92     10493\n",
      "\n",
      "\n",
      "Accuracy: 0.925950633756\n"
     ]
    }
   ],
   "source": [
    "from sklearn.neighbors import KNeighborsClassifier\n",
    "from sklearn.grid_search import GridSearchCV\n",
    "\n",
    "k = list(range(1,6)) # search up to 5 neighbors\n",
    "w = ['uniform', 'distance']\n",
    "m = ['euclidean', 'minkowski', 'manhattan']\n",
    "parameter_grid = {'n_neighbors': k, 'weights' : w, 'metric': m}\n",
    "\n",
    "knn = KNeighborsClassifier()\n",
    "\n",
    "g_search = GridSearchCV(knn, param_grid=parameter_grid, scoring='accuracy', n_jobs=-1, cv=3)\n",
    "g_search.fit(X_train, y_train)\n",
    "print(\"Best parameters set found on development set:\")\n",
    "print()\n",
    "print(g_search.best_params_)\n",
    "print()\n",
    "\n",
    "print(\"Detailed classification report:\")\n",
    "print()\n",
    "\n",
    "y_true, y_pred = y_test, g_search.predict(X_test)\n",
    "acc = accuracy_score(y_test,y_pred)\n",
    "print(classification_report(y_true, y_pred))\n",
    "print()\n",
    "print(\"Accuracy:\", acc)\n",
    "\n"
   ]
  },
  {
   "cell_type": "markdown",
   "metadata": {},
   "source": [
    "### KNN Feature Importance"
   ]
  },
  {
   "cell_type": "code",
   "execution_count": 12,
   "metadata": {},
   "outputs": [
    {
     "name": "stdout",
     "output_type": "stream",
     "text": [
      "0.925950633756\n"
     ]
    }
   ],
   "source": [
    "from sklearn.neighbors import KNeighborsClassifier\n",
    "model = KNeighborsClassifier(n_neighbors=5, weights='distance', metric='manhattan')\n",
    "model.fit(X_train,y_train)\n",
    "p = model.predict(X_test)\n",
    "a = accuracy_score(p,y_test)\n",
    "print(a)"
   ]
  },
  {
   "cell_type": "code",
   "execution_count": 13,
   "metadata": {},
   "outputs": [
    {
     "name": "stdout",
     "output_type": "stream",
     "text": [
      "Accuracy for model with variable:  BoostedRef dropped is:  0.908510435528\n",
      "Accuracy for model with variable:  WindSheer1 dropped is:  0.92747545983\n",
      "Accuracy for model with variable:  wtc_AcWindSp_mean dropped is:  0.899361479081\n",
      "Accuracy for model with variable:  wtc_NacelPos_mean dropped is:  0.923091584866\n",
      "Accuracy for model with variable:  wtc_ScInOper_timeon dropped is:  0.90803392738\n",
      "Accuracy for model with variable:  BP_mbar_76m_Avg dropped is:  0.926045935385\n",
      "Accuracy for model with variable:  Air_density dropped is:  0.92204326694\n"
     ]
    }
   ],
   "source": [
    "# Feature importance was calculated after reviewing this Stack Overflow question:\n",
    "# https://stackoverflow.com/questions/42088336/how-to-get-the-most-contributing-feature-in-knn-classifier-sklearn\n",
    "import numpy as np\n",
    "from sklearn.model_selection import cross_val_score\n",
    "from sklearn.neighbors import KNeighborsClassifier\n",
    "\n",
    "keepcols = ['BoostedRef', 'WindSheer1',\n",
    "            'wtc_AcWindSp_mean','wtc_NacelPos_mean','wtc_ScInOper_timeon', \n",
    "#             'WS_Thies_80m_Avg', 'WS_Thies_60m_Avg', 'WS_ICEFREE_Avg',\n",
    "           'BP_mbar_76m_Avg', \n",
    "#             'AirTC_3m_Avg',\n",
    "#             'Icing',\n",
    "            'Air_density']\n",
    "\n",
    "important_features = pd.DataFrame(columns=[\"Variable_Dropped\", \"Accuracy\"])\n",
    "\n",
    "for x in keepcols:\n",
    "    #set up the variables\n",
    "    y = df[\"target\"]\n",
    "    cycle_data = df[keepcols]\n",
    "    cycle_data = cycle_data.drop(x, axis=1)\n",
    "    X = preprocessing.scale(cycle_data)\n",
    "    \n",
    "    #make sure to keep the sample splitting so that value can be compared\n",
    "    X_train, X_test, y_train, y_test = train_test_split(X, y, test_size=0.2, random_state = 1)\n",
    "    \n",
    "    #create the model\n",
    "    model = KNeighborsClassifier(n_neighbors=5, weights='distance', metric='manhattan')\n",
    "    model.fit(X_train,y_train)\n",
    "    p = model.predict(X_test)\n",
    "    a = accuracy_score(p,y_test)\n",
    "    \n",
    "    #print the results\n",
    "    print(\"Accuracy for model with variable: \", x, \"dropped is: \", a)\n",
    "    \n",
    "    #append to output dataset for later manipulation\n",
    "    important_features = important_features.append({\"Variable_Dropped\": x, \"Accuracy\": a}, ignore_index=True)\n"
   ]
  },
  {
   "cell_type": "code",
   "execution_count": 14,
   "metadata": {},
   "outputs": [
    {
     "name": "stdout",
     "output_type": "stream",
     "text": [
      "The most important features are:\n",
      "\n"
     ]
    },
    {
     "data": {
      "text/html": [
       "<div>\n",
       "<style scoped>\n",
       "    .dataframe tbody tr th:only-of-type {\n",
       "        vertical-align: middle;\n",
       "    }\n",
       "\n",
       "    .dataframe tbody tr th {\n",
       "        vertical-align: top;\n",
       "    }\n",
       "\n",
       "    .dataframe thead th {\n",
       "        text-align: right;\n",
       "    }\n",
       "</style>\n",
       "<table border=\"1\" class=\"dataframe\">\n",
       "  <thead>\n",
       "    <tr style=\"text-align: right;\">\n",
       "      <th></th>\n",
       "      <th>Variable_Dropped</th>\n",
       "      <th>Accuracy</th>\n",
       "    </tr>\n",
       "  </thead>\n",
       "  <tbody>\n",
       "    <tr>\n",
       "      <th>1</th>\n",
       "      <td>WindSheer1</td>\n",
       "      <td>0.927475</td>\n",
       "    </tr>\n",
       "    <tr>\n",
       "      <th>5</th>\n",
       "      <td>BP_mbar_76m_Avg</td>\n",
       "      <td>0.926046</td>\n",
       "    </tr>\n",
       "    <tr>\n",
       "      <th>3</th>\n",
       "      <td>wtc_NacelPos_mean</td>\n",
       "      <td>0.923092</td>\n",
       "    </tr>\n",
       "    <tr>\n",
       "      <th>6</th>\n",
       "      <td>Air_density</td>\n",
       "      <td>0.922043</td>\n",
       "    </tr>\n",
       "    <tr>\n",
       "      <th>0</th>\n",
       "      <td>BoostedRef</td>\n",
       "      <td>0.908510</td>\n",
       "    </tr>\n",
       "    <tr>\n",
       "      <th>4</th>\n",
       "      <td>wtc_ScInOper_timeon</td>\n",
       "      <td>0.908034</td>\n",
       "    </tr>\n",
       "    <tr>\n",
       "      <th>2</th>\n",
       "      <td>wtc_AcWindSp_mean</td>\n",
       "      <td>0.899361</td>\n",
       "    </tr>\n",
       "  </tbody>\n",
       "</table>\n",
       "</div>"
      ],
      "text/plain": [
       "      Variable_Dropped  Accuracy\n",
       "1           WindSheer1  0.927475\n",
       "5      BP_mbar_76m_Avg  0.926046\n",
       "3    wtc_NacelPos_mean  0.923092\n",
       "6          Air_density  0.922043\n",
       "0           BoostedRef  0.908510\n",
       "4  wtc_ScInOper_timeon  0.908034\n",
       "2    wtc_AcWindSp_mean  0.899361"
      ]
     },
     "execution_count": 14,
     "metadata": {},
     "output_type": "execute_result"
    }
   ],
   "source": [
    "print(\"The most important features are:\")\n",
    "print()\n",
    "important_features.sort_values(by=[\"Accuracy\"], ascending=False)"
   ]
  },
  {
   "cell_type": "markdown",
   "metadata": {},
   "source": [
    "## SVM Approach\n",
    "This model was repurposed from the Classification mini-project. However, the data set is now larger (an entire year's worth of data). The goal is the same, to predict poor performing turbines. "
   ]
  },
  {
   "cell_type": "markdown",
   "metadata": {},
   "source": [
    "### Model Creation and Parameter Optimization With Grid Search\n",
    "\n",
    "Running the SVC classifier within SciKit Learn proved to be to costly computationally. As a result, we proceeded with a differnt SVM Classifier. Specifically, we use the SGDClassifier which utilized stochastic gradient descent and greatly increased training rates.\n",
    "\n",
    "Since there are many possible parameters that can be put into the classifer, we ran through various alphas (or a penalty term), learning rates, and learning rate schedules to find the strongest possible model based on the input parameters. This was done using a grid search.\n",
    "\n",
    "http://scikit-learn.org/stable/auto_examples/model_selection/plot_grid_search_digits.html\n",
    "The best SGDClassifer had the following attributes: \n",
    "\n",
    "* **Alpha** - 1e-05\n",
    "* **Eta0**  - 0.5\n",
    "* **Learning rate** - 'invscaling'\n",
    "\n",
    "## Results of SVM Classifier\n",
    "The resulting model had a 89.12 percent. This is very similar accuarcy to our previous model (a sligh decrease which can easily be explained by different in training data). However, the hyper parameters change significantly between this model and the model from the mini-project."
   ]
  },
  {
   "cell_type": "code",
   "execution_count": 15,
   "metadata": {
    "scrolled": true
   },
   "outputs": [
    {
     "name": "stdout",
     "output_type": "stream",
     "text": [
      "Best parameters set found on development set:\n",
      "\n",
      "{'alpha': 1.0000000000000001e-05, 'eta0': 0.01, 'learning_rate': 'constant'}\n",
      "\n",
      "Grid scores on development set:\n",
      "\n"
     ]
    },
    {
     "ename": "AttributeError",
     "evalue": "'GridSearchCV' object has no attribute 'cv_results_'",
     "output_type": "error",
     "traceback": [
      "\u001b[1;31m---------------------------------------------------------------------------\u001b[0m",
      "\u001b[1;31mAttributeError\u001b[0m                            Traceback (most recent call last)",
      "\u001b[1;32m<ipython-input-15-9ae2261b7147>\u001b[0m in \u001b[0;36m<module>\u001b[1;34m()\u001b[0m\n\u001b[0;32m     22\u001b[0m \u001b[0mprint\u001b[0m\u001b[1;33m(\u001b[0m\u001b[1;34m\"Grid scores on development set:\"\u001b[0m\u001b[1;33m)\u001b[0m\u001b[1;33m\u001b[0m\u001b[0m\n\u001b[0;32m     23\u001b[0m \u001b[0mprint\u001b[0m\u001b[1;33m(\u001b[0m\u001b[1;33m)\u001b[0m\u001b[1;33m\u001b[0m\u001b[0m\n\u001b[1;32m---> 24\u001b[1;33m \u001b[0mmeans\u001b[0m \u001b[1;33m=\u001b[0m \u001b[0mclf\u001b[0m\u001b[1;33m.\u001b[0m\u001b[0mcv_results_\u001b[0m\u001b[1;33m[\u001b[0m\u001b[1;34m'mean_test_score'\u001b[0m\u001b[1;33m]\u001b[0m\u001b[1;33m\u001b[0m\u001b[0m\n\u001b[0m\u001b[0;32m     25\u001b[0m \u001b[0mstds\u001b[0m \u001b[1;33m=\u001b[0m \u001b[0mclf\u001b[0m\u001b[1;33m.\u001b[0m\u001b[0mcv_results_\u001b[0m\u001b[1;33m[\u001b[0m\u001b[1;34m'std_test_score'\u001b[0m\u001b[1;33m]\u001b[0m\u001b[1;33m\u001b[0m\u001b[0m\n\u001b[0;32m     26\u001b[0m \u001b[1;32mfor\u001b[0m \u001b[0mmean\u001b[0m\u001b[1;33m,\u001b[0m \u001b[0mstd\u001b[0m\u001b[1;33m,\u001b[0m \u001b[0mparams\u001b[0m \u001b[1;32min\u001b[0m \u001b[0mzip\u001b[0m\u001b[1;33m(\u001b[0m\u001b[0mmeans\u001b[0m\u001b[1;33m,\u001b[0m \u001b[0mstds\u001b[0m\u001b[1;33m,\u001b[0m \u001b[0mclf\u001b[0m\u001b[1;33m.\u001b[0m\u001b[0mcv_results_\u001b[0m\u001b[1;33m[\u001b[0m\u001b[1;34m'params'\u001b[0m\u001b[1;33m]\u001b[0m\u001b[1;33m)\u001b[0m\u001b[1;33m:\u001b[0m\u001b[1;33m\u001b[0m\u001b[0m\n",
      "\u001b[1;31mAttributeError\u001b[0m: 'GridSearchCV' object has no attribute 'cv_results_'"
     ]
    }
   ],
   "source": [
    "# Thanks to sklearn for a great example: \n",
    "#http://scikit-learn.org/stable/auto_examples/model_selection/plot_grid_search_digits.html\n",
    "from sklearn import linear_model\n",
    "\n",
    "# Set the parameters by cross-validation\n",
    "clist = [0.1, 1, 10, 100]\n",
    "tuned_parameters = [#{'kernel': ['rbf'], 'C': clist},\n",
    "                    {'kernel': ['linear'], 'C': clist}\n",
    "#                     {'kernel': ['poly'], 'C': clist},\n",
    "#                     {'kernel': ['sigmoid'], 'C': clist}\n",
    "                   ]\n",
    "\n",
    "alphas = 10.0**-np.arange(1,7)\n",
    "tp = [{'alpha':alphas, 'learning_rate':['constant', 'optimal', 'invscaling'], 'eta0': [0.01, 0.1, 0.5, 1.0]}]\n",
    "\n",
    "clf = GridSearchCV(linear_model.SGDClassifier(), tp)\n",
    "clf.fit(X_train, y_train)\n",
    "print(\"Best parameters set found on development set:\")\n",
    "print()\n",
    "print(clf.best_params_)\n",
    "print()\n",
    "print(\"Grid scores on development set:\")\n",
    "print()\n",
    "means = clf.cv_results_['mean_test_score']\n",
    "stds = clf.cv_results_['std_test_score']\n",
    "for mean, std, params in zip(means, stds, clf.cv_results_['params']):\n",
    "    print(\"%0.3f (+/-%0.03f) for %r\"\n",
    "          % (mean, std * 2, params))\n",
    "print()\n",
    "\n",
    "print(\"Detailed classification report:\")\n",
    "print()\n",
    "# print(\"The model is trained on the full development set.\")\n",
    "# print(\"The scores are computed on the full evaluation set.\")\n",
    "# print()\n",
    "y_true, y_pred = y_test, clf.predict(X_test)\n",
    "acc = accuracy_score(y_test,y_pred)\n",
    "print(classification_report(y_true, y_pred))\n",
    "print()\n",
    "print(\"Accuracy:\", acc)"
   ]
  },
  {
   "cell_type": "markdown",
   "metadata": {},
   "source": [
    "### SVM Feature Importance and Coefficent Interpretation\n",
    "Since we used a linear SVM we can use the coefficents of the classfier to determine feature importance as it is part of the interpretation of the coefficients.\n",
    "\n",
    "The coefficent of each support vector tells us its impact on the predicted class. Taking a dot product of a point with the coefficents will tell us the classificaiton of the point. Thus positive values tend to push a point toward the positive class, and negative coefficeints push to the negative classificaiton. Thus large values, either positive or negative, have more influce on the model. A plot of this information is shown below. Blue values indicate that the coefficient if positive, red indicate that it is negative.\n",
    "\n",
    "The top three most influential vectors are:\n",
    "\n",
    "1. wtc_ScInOper_timeon\n",
    "2. wtc_AcWindSp_mean\n",
    "3. BoostedRef\n"
   ]
  },
  {
   "cell_type": "code",
   "execution_count": null,
   "metadata": {
    "collapsed": true
   },
   "outputs": [],
   "source": [
    "from sklearn.linear_model import SGDClassifier\n",
    "svm_model = SGDClassifier(alpha=1e-05, eta0=0.5, learning_rate='invscaling')\n",
    "svm_model.fit(X_train, y_train)\n",
    "\n",
    "test = svm_model.coef_\n",
    "my_zip = list(zip(keepcols, test.tolist()[0]))\n",
    "svm_features = pd.DataFrame.from_records(my_zip)"
   ]
  },
  {
   "cell_type": "code",
   "execution_count": null,
   "metadata": {
    "collapsed": true
   },
   "outputs": [],
   "source": [
    "plt.figure(figsize=(12,12))\n",
    "colors = ['red' if c < 0 else 'blue' for c in svm_features[1]]\n",
    "plt.bar(svm_features[0], svm_features[1], color=colors)\n",
    "plt.xticks(rotation='vertical')\n",
    "plt.title(\"Feature Importance from SVM Coefficients\", fontsize=20)\n",
    "plt.xlabel(\"Feature\")\n",
    "plt.ylabel(\"SVM Coefficients\")"
   ]
  },
  {
   "cell_type": "code",
   "execution_count": null,
   "metadata": {
    "collapsed": true
   },
   "outputs": [],
   "source": [
    "svm_features[1].apply(lambda x: abs(x)).sort_values()"
   ]
  },
  {
   "cell_type": "code",
   "execution_count": null,
   "metadata": {
    "collapsed": true
   },
   "outputs": [],
   "source": [
    "svm_features[0][[4,2,0]]"
   ]
  },
  {
   "cell_type": "markdown",
   "metadata": {},
   "source": [
    "## Random Forest Classifier\n",
    "\n",
    "The final model technique that we chose to utilise for classification of under performance was the random forest classifier. A random forest classifier was chosen as they are known for their excellent predictability and accuracy. Another strength of the random forest classifier is that they can score new data quickly once the classifier has been trained. \n",
    "\n",
    "\n",
    "### Classification Setup\n",
    "The classification is based on our definition of underperformance. Using the 26.8% of the data that shows underperformance, we have a boolean classification system. Then we setup the variables necessary to classify our data.\n",
    "\n",
    "The resulting model had an accuracy of 91.93 percent. "
   ]
  },
  {
   "cell_type": "code",
   "execution_count": null,
   "metadata": {
    "collapsed": true
   },
   "outputs": [],
   "source": [
    "#Encode the labels (examples found on SKLearn website... need to find address)\n",
    "le = preprocessing.LabelEncoder()\n",
    "le.fit(list(df[\"Underperformance\"].unique()))\n",
    "\n",
    "df[\"target\"] = le.transform(df[\"Underperformance\"])\n",
    "df = df.replace([np.inf, -np.inf], np.nan).dropna()\n",
    "\n",
    "\n",
    "\n",
    "#Now the other variables used to train the model need to scaled. \n",
    "#First, however, un-need variables need to be dropped.\n",
    "#classifier target is based on our determination of when the turbine is underperforming\n",
    "cl_target = df['target']\n",
    "\n",
    "\n",
    "classcols = ['BoostedRef', 'WindSheer1',\n",
    "            'wtc_AcWindSp_mean','wtc_NacelPos_mean','wtc_ScInOper_timeon', \n",
    "            'WS_Thies_80m_Avg', 'WS_Thies_60m_Avg', 'WS_ICEFREE_Avg',\n",
    "           'BP_mbar_76m_Avg', 'AirTC_3m_Avg','Icing','Air_density','target']\n",
    "\n",
    "cl_data = df[classcols]\n",
    "\n",
    "#regression target is based on the actual power output from the turbine\n",
    "y = df[\"wtc_ActPower_mean\"]\n",
    "\n",
    "keepcols = ['BoostedRef', 'WindSheer1',\n",
    "            'wtc_AcWindSp_mean','wtc_NacelPos_mean','wtc_ScInOper_timeon', \n",
    "            'WS_Thies_80m_Avg', 'WS_Thies_60m_Avg', 'WS_ICEFREE_Avg',\n",
    "           'BP_mbar_76m_Avg', 'AirTC_3m_Avg','Icing','Air_density']\n",
    "\n",
    "data = df[keepcols]\n",
    "\n",
    "\n",
    "X = preprocessing.scale(data) \n",
    "\n",
    "data.columns"
   ]
  },
  {
   "cell_type": "code",
   "execution_count": null,
   "metadata": {
    "collapsed": true
   },
   "outputs": [],
   "source": [
    "#Code from https://towardsdatascience.com/random-forest-in-python-24d0893d51c0\n",
    "# Our data set is divided into a test and training set, randomly\n",
    "df['is_train'] = np.random.uniform(0, 1, len(df)) <= .75\n",
    "\n",
    "# Create two new dataframes, one with the training rows, one with the test rows\n",
    "train, test = df[df['is_train']==True], df[df['is_train']==False]\n",
    "\n",
    "# Show the number of observations for the test and training dataframes\n",
    "print('Number of observations in the training data:', len(train))\n",
    "print('Number of observations in the test data:',len(test))"
   ]
  },
  {
   "cell_type": "code",
   "execution_count": null,
   "metadata": {
    "collapsed": true,
    "scrolled": true
   },
   "outputs": [],
   "source": [
    "# Create a list of the feature column's names\n",
    "feat = df[keepcols]\n",
    "\n",
    "features = feat.columns\n",
    "# View features\n",
    "features\n",
    "\n",
    "#create target\n",
    "target = train['target']"
   ]
  },
  {
   "cell_type": "code",
   "execution_count": null,
   "metadata": {
    "collapsed": true
   },
   "outputs": [],
   "source": [
    "#code from https://chrisalbon.com/machine_learning/trees_and_forests/random_forest_classifier_example/\n",
    "#load random forest classifier\n",
    "from sklearn.ensemble import RandomForestClassifier\n",
    "\n",
    "#set random seed\n",
    "np.random.seed(0)"
   ]
  },
  {
   "cell_type": "markdown",
   "metadata": {},
   "source": [
    "### Classification parameter change 1"
   ]
  },
  {
   "cell_type": "code",
   "execution_count": null,
   "metadata": {
    "collapsed": true
   },
   "outputs": [],
   "source": [
    "#train the random forest classifier\n",
    "#Try different parameters and compare\n",
    "\n",
    "#Parameter try 1\n",
    "clf = RandomForestClassifier(n_jobs=2, random_state=0, max_depth=10)\n",
    "\n",
    "clf.fit(train[features], target)"
   ]
  },
  {
   "cell_type": "code",
   "execution_count": null,
   "metadata": {
    "collapsed": true
   },
   "outputs": [],
   "source": [
    "#Apply the classifier to the test data set\n",
    "y_pred = clf.predict(test[features])"
   ]
  },
  {
   "cell_type": "code",
   "execution_count": null,
   "metadata": {
    "collapsed": true
   },
   "outputs": [],
   "source": [
    "# View the predicted probabilities of the first 10 observations\n",
    "clf.predict_proba(test[features])[0:10]"
   ]
  },
  {
   "cell_type": "code",
   "execution_count": null,
   "metadata": {
    "collapsed": true
   },
   "outputs": [],
   "source": [
    "preds = clf.predict(test[features])\n",
    "preds[0:10]"
   ]
  },
  {
   "cell_type": "code",
   "execution_count": null,
   "metadata": {
    "collapsed": true
   },
   "outputs": [],
   "source": [
    "# Create confusion matrix\n",
    "pd.crosstab(test['target'], preds, rownames=['Actual Target'], colnames=['Predicted Target'])"
   ]
  },
  {
   "cell_type": "code",
   "execution_count": null,
   "metadata": {
    "collapsed": true
   },
   "outputs": [],
   "source": [
    "from sklearn import metrics\n",
    "print(\"Accuracy:\",metrics.accuracy_score(test['target'], y_pred))"
   ]
  },
  {
   "cell_type": "markdown",
   "metadata": {},
   "source": [
    "### Results of Parameter Change 1\n",
    "The above table shows how our power classifications match up with the actual power recorded."
   ]
  },
  {
   "cell_type": "code",
   "execution_count": null,
   "metadata": {
    "collapsed": true
   },
   "outputs": [],
   "source": [
    "# View a list of the features and their importance scores\n",
    "list(zip(train[features], clf.feature_importances_))"
   ]
  },
  {
   "cell_type": "markdown",
   "metadata": {},
   "source": [
    "### Influential Features for Parameter Change 1\n",
    "The most influential features that helped predict underperformance were:  wtc_ScInOper_timeon at 31%, wtc_AcWindSp_mean at 26%, BoostedRef at 16%, and WS_ICEFREE_Avg at 8%."
   ]
  },
  {
   "cell_type": "code",
   "execution_count": null,
   "metadata": {
    "collapsed": true,
    "scrolled": false
   },
   "outputs": [],
   "source": [
    "#http://dataaspirant.com/2017/04/21/visualize-decision-tree-python-graphviz/\n",
    "# reminder\n",
    "# X = data\n",
    "# y = df.target\n",
    "\n",
    "pylab.bar (keepcols, clf.feature_importances_, 1/4)\n",
    "pylab.xticks(keepcols, rotation='vertical')\n",
    "pylab.ylabel('Importance'); pylab.xlabel('Variable'); pylab.title('Variable Importances');\n",
    "pylab.show()\n",
    "\n",
    "# import altair as alt\n",
    "# from vega_datasets import data\n",
    "# alt.renderers.enable('notebook')\n",
    "\n",
    "# alt.Chart(clf.feature_importances_).mark_bar().encode(\n",
    "#     y='Percentage Explained',\n",
    "#     x='train[features]')\n"
   ]
  },
  {
   "cell_type": "markdown",
   "metadata": {},
   "source": [
    "### Classification Parameter Change 2"
   ]
  },
  {
   "cell_type": "code",
   "execution_count": null,
   "metadata": {
    "collapsed": true
   },
   "outputs": [],
   "source": [
    "clf = RandomForestClassifier(n_jobs=2, random_state=5, max_depth=10, max_leaf_nodes=5)\n",
    "\n",
    "clf.fit(train[features], target)"
   ]
  },
  {
   "cell_type": "code",
   "execution_count": null,
   "metadata": {
    "collapsed": true
   },
   "outputs": [],
   "source": [
    "#Apply the classifier to the test data set\n",
    "clf.predict(test[features])"
   ]
  },
  {
   "cell_type": "code",
   "execution_count": null,
   "metadata": {
    "collapsed": true
   },
   "outputs": [],
   "source": [
    "# View the predicted probabilities of the first 10 observations\n",
    "clf.predict_proba(test[features])[0:10]"
   ]
  },
  {
   "cell_type": "code",
   "execution_count": null,
   "metadata": {
    "collapsed": true
   },
   "outputs": [],
   "source": [
    "preds = clf.predict(test[features])\n",
    "preds[0:10]"
   ]
  },
  {
   "cell_type": "code",
   "execution_count": null,
   "metadata": {
    "collapsed": true
   },
   "outputs": [],
   "source": [
    "# Create confusion matrix\n",
    "pd.crosstab(test['target'], preds, rownames=['Actual Target'], colnames=['Predicted Target'])"
   ]
  },
  {
   "cell_type": "code",
   "execution_count": null,
   "metadata": {
    "collapsed": true
   },
   "outputs": [],
   "source": [
    "#Apply the classifier to the test data set\n",
    "y_pred = clf.predict(test[features])"
   ]
  },
  {
   "cell_type": "code",
   "execution_count": null,
   "metadata": {
    "collapsed": true
   },
   "outputs": [],
   "source": [
    "print(\"Accuracy:\",metrics.accuracy_score(test['target'], y_pred))"
   ]
  },
  {
   "cell_type": "code",
   "execution_count": null,
   "metadata": {
    "collapsed": true
   },
   "outputs": [],
   "source": [
    "# View a list of the features and their importance scores\n",
    "list(zip(train[features], clf.feature_importances_))"
   ]
  },
  {
   "cell_type": "code",
   "execution_count": null,
   "metadata": {
    "collapsed": true
   },
   "outputs": [],
   "source": [
    "pylab.bar (keepcols, clf.feature_importances_, 1/4)\n",
    "pylab.xticks(keepcols, rotation='vertical')\n",
    "pylab.ylabel('Importance'); pylab.xlabel('Variable'); pylab.title('Variable Importances');\n",
    "pylab.show()"
   ]
  },
  {
   "cell_type": "markdown",
   "metadata": {},
   "source": [
    "#### The above table shows how our power classifications match up with the actual power recorded. "
   ]
  },
  {
   "cell_type": "markdown",
   "metadata": {},
   "source": [
    "#### Influential Features For parameter option #2\n",
    "\n",
    "The most influential features that helped predict underperformance were:  wtc_ScInOper_timeon at 44%, wtc_AcWindSp_mean at 27%, WS_ICEFREE_Avg at 9%, and WS_Thies_60m_Avg at 7%."
   ]
  },
  {
   "cell_type": "markdown",
   "metadata": {},
   "source": [
    "### Parameter Change 3"
   ]
  },
  {
   "cell_type": "code",
   "execution_count": null,
   "metadata": {
    "collapsed": true
   },
   "outputs": [],
   "source": [
    "clf = RandomForestClassifier(n_jobs=2, random_state=10, max_depth=15, max_leaf_nodes=10)\n",
    "\n",
    "clf.fit(train[features], target)"
   ]
  },
  {
   "cell_type": "code",
   "execution_count": null,
   "metadata": {
    "collapsed": true
   },
   "outputs": [],
   "source": [
    "#Apply the classifier to the test data set\n",
    "clf.predict(test[features])"
   ]
  },
  {
   "cell_type": "code",
   "execution_count": null,
   "metadata": {
    "collapsed": true
   },
   "outputs": [],
   "source": [
    "# View the predicted probabilities of the first 10 observations\n",
    "clf.predict_proba(test[features])[0:10]"
   ]
  },
  {
   "cell_type": "code",
   "execution_count": null,
   "metadata": {
    "collapsed": true
   },
   "outputs": [],
   "source": [
    "preds = clf.predict(test[features])\n",
    "preds[0:10]"
   ]
  },
  {
   "cell_type": "code",
   "execution_count": null,
   "metadata": {
    "collapsed": true
   },
   "outputs": [],
   "source": [
    "# Create confusion matrix\n",
    "pd.crosstab(test['target'], preds, rownames=['Actual Target'], colnames=['Predicted Target'])"
   ]
  },
  {
   "cell_type": "code",
   "execution_count": null,
   "metadata": {
    "collapsed": true
   },
   "outputs": [],
   "source": [
    "#Apply the classifier to the test data set\n",
    "y_pred = clf.predict(test[features])\n",
    "\n",
    "print(\"Accuracy:\",metrics.accuracy_score(test['target'], y_pred))"
   ]
  },
  {
   "cell_type": "code",
   "execution_count": null,
   "metadata": {
    "collapsed": true
   },
   "outputs": [],
   "source": [
    "# View a list of the features and their importance scores\n",
    "list(zip(train[features], clf.feature_importances_))"
   ]
  },
  {
   "cell_type": "markdown",
   "metadata": {},
   "source": [
    "#### The above table shows how our power classifications match up with the actual power recorded."
   ]
  },
  {
   "cell_type": "markdown",
   "metadata": {},
   "source": [
    "#### Import Features for Parameter Option 3\n",
    "The most influential features that helped predict underperformance were: wtc_ScInOper_timeon at 40%, wtc_AcWindSp_mean at 25%, BoostedRef at 11%, and WS_Thies_80m_Avg at 7%."
   ]
  },
  {
   "cell_type": "code",
   "execution_count": null,
   "metadata": {
    "collapsed": true
   },
   "outputs": [],
   "source": [
    "# alt.Chart(clf.feature_importances_).mark_bar().encode(\n",
    "#     y='Percentage Explained',\n",
    "#     x='train[features]')\n",
    "pylab.bar (keepcols, clf.feature_importances_, 1/4)\n",
    "pylab.xticks(keepcols, rotation='vertical')\n",
    "pylab.ylabel('Importance'); pylab.xlabel('Variable'); pylab.title('Variable Importances');\n",
    "pylab.show()"
   ]
  },
  {
   "cell_type": "markdown",
   "metadata": {},
   "source": [
    "### Random Forest Influential Features: Summary\n",
    "\n",
    "With each parameter change, the accuracy changed significantly. \n",
    "\n",
    "* With Parameter set 1: the random_state is 0 and the max_depth is 10. This produced an accuracy of 92%.\n",
    "\n",
    "* With Parameter set 2: the random_state is 5, max_depth is 10, and max_nodes is 5. This produced an accuracy of 86%.\n",
    "\n",
    "* With Parameter set 3: the random_state is 10, max_depth is 15, and max_nodes is 10. This produced an accuracy of 89%.\n",
    "\n",
    "In addition to accuracy changes, the important features changed and their percentage of influence changed significantly. \n"
   ]
  },
  {
   "cell_type": "markdown",
   "metadata": {},
   "source": [
    "## Classification: Conclusion\n",
    "\n",
    "We trained and tested three different classifiers to predict if a wind turbine is under-performing or not. These models included K Nearest Neighbors, Support Vector Machine, and a Random Forest. We opted to compare the models based on accuracy. Below is a comparison of the models and the accuracy.\n",
    "\n",
    "* **SVM** - Accuracy: 89.12 Percent\n",
    "* **KNN** - Accuracy: 92.8 Percent\n",
    "* **Random Forest** - Accuracy: 91.93 Percent\n",
    "\n",
    "The KNN and Random Forest models perfromed very similarly. Strickly speaking, the KNN classifier had the best accuracy and using this metric alone it should be chosen as the best classificaiton model. However, for deployment purposes other metrics should be considered, such as run-time of the chosen model.\n",
    "\n",
    "**On Feature Importance**\n",
    "\n",
    "Time and again the most important features to each classification model were:\n",
    "1. stc_ScInOper_timeon\n",
    "2. wtc_Act_windSp_mean\n",
    "3. BootedRef\n",
    "\n",
    "This makes a great deal of since. The inoperable time has a huge impact on power output, and we based under performance on power output. Similarly, wind speed is the most important factor for power output (assuming that the wind turbine is healthy. And finally, BootedRef is a reference to the actual power output with some padding. Thus it makes sense that it would be incredibly important feature for the classificaiton models.\n",
    "\n",
    "### Are there statistical differences between the models? \n",
    "I wanted to look see if there was a difference between the worst performing classificaiton model (the SVM) and the best performing model (KNN). I figure that there would probably not be a differnce between the two close models, but I suspected that there was a statistical differnce between the two worst models. In order to compare them I compared the cross validation score (10 fold), and determined if there was a statistical difference between the two models at 95 percent confidence using a paired t-test.\n",
    "\n",
    "According to the code below there is not a statitical difference between the SVM and KNN models at 95 percent confidence."
   ]
  },
  {
   "cell_type": "code",
   "execution_count": null,
   "metadata": {
    "collapsed": true
   },
   "outputs": [],
   "source": [
    "#code borrowed from Class Unit 7 notebook\n",
    "from sklearn.model_selection import cross_val_score\n",
    "from sklearn.model_selection import StratifiedKFold\n",
    "\n",
    "cv=StratifiedKFold(n_splits=10)\n",
    "acc1 = cross_val_score(model, X, y=y, cv=cv)\n",
    "acc2 = cross_val_score(svm_model, X, y=y, cv=cv)\n",
    "\n",
    "t = 2.26 / np.sqrt(10)\n",
    "\n",
    "e = (1-acc1)-(1-acc2)\n",
    "# std1 = np.std(acc1)\n",
    "# std2 = np.std(acc2)\n",
    "stdtot = np.std(e)\n",
    "\n",
    "dbar = np.mean(e)\n",
    "print ('Range of:', dbar-t*stdtot,dbar+t*stdtot )\n",
    "print (np.mean(acc1), np.mean(acc2))"
   ]
  },
  {
   "cell_type": "markdown",
   "metadata": {},
   "source": [
    "# Regression Task - Prediciton of Power Output\n",
    "\n",
    "Energy output is of critical importance to a wind farm. Our group wanted to determine if we could predict power output using KNN regression, Random Forests, and a traiditonal regression apprach. \n",
    "\n",
    "\n",
    "## KNN Regression Approach\n",
    "Two different KNN Regressors were built. One using non-transformed data (that is using only the scaled data). Another model was built using the results of a Principal Component Analysis (PCA).\n",
    "\n",
    "\n",
    "## Attempt 1: KNN Regression using non transformed data\n",
    "KNN can also be used for prediciton continuous output by regressing on the nearest neighbors. We used the best classifier from the grid search to generate the hyper-parameters used by the regressor. The intial results were excellent. We acheived an R2 of 0.9274 indicating that the model could explain nearly 93 percent of the variation found in the data."
   ]
  },
  {
   "cell_type": "code",
   "execution_count": null,
   "metadata": {
    "collapsed": true
   },
   "outputs": [],
   "source": [
    "y2 = df[\"wtc_ActPower_mean\"]\n",
    "\n",
    "keepcols = ['WindSheer1',\n",
    "            'wtc_AcWindSp_mean','wtc_NacelPos_mean','wtc_ScInOper_timeon', \n",
    "            'WS_Thies_80m_Avg', 'WS_Thies_60m_Avg', 'WS_ICEFREE_Avg',\n",
    "           'BP_mbar_76m_Avg', 'AirTC_3m_Avg','Icing','Air_density']\n",
    "\n",
    "data2 = df[keepcols]\n",
    "\n",
    "X_train2, X_test2, y_train2, y_test2 = train_test_split(data2, y2, test_size=0.2)"
   ]
  },
  {
   "cell_type": "code",
   "execution_count": null,
   "metadata": {
    "collapsed": true
   },
   "outputs": [],
   "source": [
    "from sklearn.neighbors import KNeighborsRegressor\n",
    "import matplotlib.pyplot as plt\n",
    "\n",
    "reg = KNeighborsRegressor(n_neighbors=5, metric='manhattan', weights='distance')\n",
    "\n",
    "reg.fit(X_train2, y_train2)\n",
    "pred2 = reg.predict(X_test2)\n",
    "\n",
    "reg.score(X_test2, y_test2)"
   ]
  },
  {
   "cell_type": "markdown",
   "metadata": {},
   "source": [
    "## Plotting Regression Results\n",
    "Two plots are shown below. The first is a scatter plot that shows test data plotted against wind speed. The second show the same scatter plot but with the predicted values plotted on top of the actual data. We can see that the KNN regressor does a good job maintaining the overall shape of the data. The regressor also does a good job predicting variables that do not follow the overall shape of power curve. "
   ]
  },
  {
   "cell_type": "code",
   "execution_count": null,
   "metadata": {
    "collapsed": true,
    "scrolled": false
   },
   "outputs": [],
   "source": [
    "plt.figure(figsize=(10,10))\n",
    "plt.scatter(x=X_test2[\"wtc_AcWindSp_mean\"], y=y_test2)\n",
    "plt.axis('tight')\n",
    "plt.ylabel(\"Power Output (kW)\", fontsize=18)\n",
    "plt.xlabel(\"Wind Speed\", fontsize=18)\n",
    "plt.legend()\n",
    "plt.title(\"Power Outout vs Wind Speed (Raw Data)\", fontsize=20)\n",
    "plt.show()\n",
    "\n",
    "print()\n",
    "\n",
    "plt.figure(figsize=(10,10))\n",
    "plt.scatter(x=X_test2[\"wtc_AcWindSp_mean\"], y=y_test2)\n",
    "plt.scatter(X_test2[\"wtc_AcWindSp_mean\"], pred2)\n",
    "plt.ylabel(\"Power Output (kW)\", fontsize=20)\n",
    "plt.xlabel(\"Wind Speed\", fontsize=20)\n",
    "plt.axis('tight')\n",
    "plt.legend()\n",
    "plt.title(\"Power Outout vs Wind Speed with KNN Regression\", fontsize=20)\n",
    "plt.show()"
   ]
  },
  {
   "cell_type": "markdown",
   "metadata": {},
   "source": [
    "## KNN Regression Attempt 2 - Implementation of PCA\n",
    "PCA allowed us to reduce the features used in the KNN regression while maintaining a high R2 value. We did experience some interesting results. \n",
    "\n",
    "The first five principal components explaint over 99% of the variance in the data. However, the resulting KNN regression had an R2 of 0.8404. \n",
    "\n",
    "Using the first 6 principle components did not explain much more variance in the data, however, there was a large increase in model fit. The R2 increased to 0.9356 or a gain of 0.0952.\n",
    "\n",
    "This means that PCA KNN Regression yielded slightly better results with roughly half of the number of featuers using the same hyper parameters. However, this additional increase in model performance is not worth the decrease in interpretability from the regular model."
   ]
  },
  {
   "cell_type": "code",
   "execution_count": null,
   "metadata": {
    "collapsed": true
   },
   "outputs": [],
   "source": [
    "# Using 5 Principal components\n",
    "from sklearn.decomposition import PCA\n",
    "\n",
    "pca2 = PCA(n_components=5) # there are 11 features\n",
    "pca2.fit(data2)\n",
    "\n",
    "pca_X_train2 = pca2.transform(X_train2)\n",
    "pca_X_test2 = pca2.transform(X_test2)\n",
    "\n",
    "\n",
    "print(pca2.explained_variance_ratio_)\n",
    "print(sum(pca2.explained_variance_ratio_))\n",
    "\n",
    "reg_pca = KNeighborsRegressor(n_neighbors=5, metric='manhattan', weights='distance')\n",
    "reg_pca.fit(pca_X_train2, y_train2)\n",
    "pred_pca = reg_pca.predict(pca_X_test2)\n",
    "\n",
    "reg_pca.score(pca_X_test2, y_test2)"
   ]
  },
  {
   "cell_type": "code",
   "execution_count": null,
   "metadata": {
    "collapsed": true
   },
   "outputs": [],
   "source": [
    "#Using 6 principal components\n",
    "from sklearn.decomposition import PCA\n",
    "\n",
    "pca2 = PCA(n_components=6) # there are  11 features\n",
    "pca2.fit(data2)\n",
    "\n",
    "pca_X_train2 = pca2.transform(X_train2)\n",
    "pca_X_test2 = pca2.transform(X_test2)\n",
    "\n",
    "\n",
    "print(pca2.explained_variance_ratio_)\n",
    "print(sum(pca2.explained_variance_ratio_))\n",
    "\n",
    "reg_pca = KNeighborsRegressor(n_neighbors=5, metric='manhattan', weights='distance')\n",
    "reg_pca.fit(pca_X_train2, y_train2)\n",
    "pred_pca = reg_pca.predict(pca_X_test2)\n",
    "\n",
    "reg_pca.score(pca_X_test2, y_test2)"
   ]
  },
  {
   "cell_type": "markdown",
   "metadata": {},
   "source": [
    "## Polynomial Regression\n",
    "\n",
    "During the mini-project we noticed that the fit of our data did not follow the overall shape of the training data as well as we would like. After talking to some subject matter experts at Pattern Energy it was determined that we should try to model the data using a polynomial relationship. \n",
    "\n",
    "This was done using some of the code from the 'EducationDataNC' notebooks where the CappedLinearRegression was used to limit predictions. "
   ]
  },
  {
   "cell_type": "code",
   "execution_count": 23,
   "metadata": {},
   "outputs": [
    {
     "data": {
      "text/plain": [
       "['wtc_VoltPhR_min',\n",
       " 'wtc_VoltPhR_max',\n",
       " 'wtc_VoltPhR_mean',\n",
       " 'wtc_VoltPhR_stddev',\n",
       " 'wtc_VoltPhS_min',\n",
       " 'wtc_VoltPhS_max',\n",
       " 'wtc_VoltPhS_mean',\n",
       " 'wtc_VoltPhS_stddev',\n",
       " 'wtc_VoltPhT_min',\n",
       " 'wtc_VoltPhT_max',\n",
       " 'wtc_VoltPhT_mean',\n",
       " 'wtc_VoltPhT_stddev',\n",
       " 'wtc_ActPower_mean',\n",
       " 'wtc_CosPhi_min',\n",
       " 'wtc_CosPhi_max',\n",
       " 'wtc_CosPhi_mean',\n",
       " 'wtc_CosPhi_stddev',\n",
       " 'wtc_GridFreq_min',\n",
       " 'wtc_GridFreq_max',\n",
       " 'wtc_GridFreq_mean',\n",
       " 'wtc_GridFreq_stddev',\n",
       " 'wtc_ReactPwr_min',\n",
       " 'wtc_ReactPwr_max',\n",
       " 'wtc_ReactPwr_mean',\n",
       " 'wtc_ReactPwr_stddev',\n",
       " 'wtc_ActRegSt_endvalue',\n",
       " 'TimeStamp.1',\n",
       " 'StationId.1',\n",
       " 'wtc_CurTime_endvalue',\n",
       " 'wtc_SecAnemo_min',\n",
       " 'wtc_SecAnemo_max',\n",
       " 'wtc_SecAnemo_mean',\n",
       " 'wtc_SecAnemo_stddev',\n",
       " 'wtc_YawPos_min',\n",
       " 'wtc_YawPos_max',\n",
       " 'wtc_YawPos_mean',\n",
       " 'wtc_YawPos_stddev',\n",
       " 'wtc_GenRpm_min',\n",
       " 'wtc_GenRpm_max',\n",
       " 'wtc_GenRpm_stddev',\n",
       " 'wtc_MainSRpm_min',\n",
       " 'wtc_MainSRpm_max',\n",
       " 'wtc_MainSRpm_stddev',\n",
       " 'wtc_PitchRef_BladeA_min',\n",
       " 'wtc_PitchRef_BladeA_max',\n",
       " 'wtc_PitchRef_BladeA_stddev',\n",
       " 'wtc_PitchRef_BladeB_min',\n",
       " 'wtc_PitchRef_BladeB_max',\n",
       " 'wtc_PitchRef_BladeB_stddev',\n",
       " 'wtc_PitchRef_BladeC_min',\n",
       " 'wtc_PitchRef_BladeC_max',\n",
       " 'wtc_PitchRef_BladeC_stddev',\n",
       " 'wtc_PitcRefA_min',\n",
       " 'wtc_PitcRefA_max',\n",
       " 'wtc_PitcRefA_mean',\n",
       " 'wtc_PitcRefA_stddev',\n",
       " 'wtc_PriAnemo_min',\n",
       " 'wtc_PriAnemo_max',\n",
       " 'wtc_PriAnemo_mean',\n",
       " 'wtc_PriAnemo_stddev',\n",
       " 'wtc_PitcPosA_min',\n",
       " 'wtc_PitcPosA_max',\n",
       " 'wtc_PitcPosA_stddev',\n",
       " 'wtc_PitcPosB_min',\n",
       " 'wtc_PitcPosB_max',\n",
       " 'wtc_PitcPosB_stddev',\n",
       " 'wtc_PitcPosC_min',\n",
       " 'wtc_PitcPosC_max',\n",
       " 'wtc_PitcPosC_stddev',\n",
       " 'wtc_PowerRef_endvalue',\n",
       " 'wtc_ScYawPos_min',\n",
       " 'wtc_ScYawPos_max',\n",
       " 'wtc_ScYawPos_mean',\n",
       " 'wtc_ScYawPos_stddev',\n",
       " 'wtc_PrWindSp_min',\n",
       " 'wtc_PrWindSp_max',\n",
       " 'wtc_PrWindSp_mean',\n",
       " 'wtc_PrWindSp_stddev',\n",
       " 'wtc_SeWindSp_min',\n",
       " 'wtc_SeWindSp_max',\n",
       " 'wtc_SeWindSp_mean',\n",
       " 'wtc_SeWindSp_stddev',\n",
       " 'wtc_AcWindSp_min',\n",
       " 'wtc_AcWindSp_max',\n",
       " 'wtc_AcWindSp_mean',\n",
       " 'wtc_AcWindSp_stddev',\n",
       " 'wtc_NacelPos_min',\n",
       " 'wtc_NacelPos_max',\n",
       " 'wtc_NacelPos_mean',\n",
       " 'wtc_NacelPos_stddev',\n",
       " 'wtc_TetAnFrq_min',\n",
       " 'wtc_TetAnFrq_max',\n",
       " 'wtc_TetAnFrq_mean',\n",
       " 'wtc_TetAnFrq_stddev',\n",
       " 'wtc_TowerFrq_Frequenc_min',\n",
       " 'wtc_TowerFrq_Frequenc_max',\n",
       " 'wtc_TowerFrq_Frequenc_mean',\n",
       " 'wtc_TowerFrq_Frequenc_stddev',\n",
       " 'wtc_BoostAva_min',\n",
       " 'wtc_BoostAva_max',\n",
       " 'wtc_BoostAva_mean',\n",
       " 'wtc_BoostAva_stddev',\n",
       " 'TimeStamp.2',\n",
       " 'StationId.2',\n",
       " 'wtc_A1ExtTmp_min',\n",
       " 'wtc_A1ExtTmp_max',\n",
       " 'wtc_A1ExtTmp_mean',\n",
       " 'wtc_A1ExtTmp_stddev',\n",
       " 'wtc_A21IntTm_min',\n",
       " 'wtc_A21IntTm_max',\n",
       " 'wtc_A21IntTm_mean',\n",
       " 'wtc_A21IntTm_stddev',\n",
       " 'wtc_A3LefTmp_min',\n",
       " 'wtc_A3LefTmp_max',\n",
       " 'wtc_A3LefTmp_mean',\n",
       " 'wtc_A3RigTmp_min',\n",
       " 'wtc_A3RigTmp_max',\n",
       " 'wtc_A3RigTmp_mean',\n",
       " 'wtc_A3LefTmp_stddev',\n",
       " 'wtc_A3RigTmp_stddev',\n",
       " 'wtc_AmbieTmp_min',\n",
       " 'wtc_AmbieTmp_max',\n",
       " 'wtc_AmbieTmp_mean',\n",
       " 'wtc_BrkTmpGn_min',\n",
       " 'wtc_BrkTmpGn_max',\n",
       " 'wtc_BrkTmpGn_mean',\n",
       " 'wtc_Gen1U1Tm_min',\n",
       " 'wtc_Gen1U1Tm_max',\n",
       " 'wtc_Gen1U1Tm_mean',\n",
       " 'wtc_Gen1V1Tm_min',\n",
       " 'wtc_Gen1V1Tm_max',\n",
       " 'wtc_Gen1V1Tm_mean',\n",
       " 'wtc_Gen1W1Tm_min',\n",
       " 'wtc_Gen1W1Tm_max',\n",
       " 'wtc_Gen1W1Tm_mean',\n",
       " 'wtc_GenBeGTm_min',\n",
       " 'wtc_GenBeGTm_max',\n",
       " 'wtc_GenBeGTm_mean',\n",
       " 'wtc_GenBeRTm_min',\n",
       " 'wtc_GenBeRTm_max',\n",
       " 'wtc_GenBeRTm_mean',\n",
       " 'wtc_GeOilTmp_min',\n",
       " 'wtc_GeOilTmp_max',\n",
       " 'wtc_HSGenTmp_min',\n",
       " 'wtc_HSGenTmp_max',\n",
       " 'wtc_HSGenTmp_mean',\n",
       " 'wtc_HSRotTmp_min',\n",
       " 'wtc_HSRotTmp_max',\n",
       " 'wtc_HSRotTmp_mean',\n",
       " 'wtc_HubTemp_min',\n",
       " 'wtc_HubTemp_max',\n",
       " 'wtc_IMSGenTm_min',\n",
       " 'wtc_IMSGenTm_max',\n",
       " 'wtc_IMSGenTm_mean',\n",
       " 'wtc_IMSRotTm_min',\n",
       " 'wtc_IMSRotTm_max',\n",
       " 'wtc_IMSRotTm_mean',\n",
       " 'wtc_NacelTmp_min',\n",
       " 'wtc_NacelTmp_max',\n",
       " 'wtc_AmbieTmp_stddev',\n",
       " 'wtc_BrkTmpGn_stddev',\n",
       " 'wtc_Gen1U1Tm_stddev',\n",
       " 'wtc_Gen1V1Tm_stddev',\n",
       " 'wtc_Gen1W1Tm_stddev',\n",
       " 'wtc_GenBeGTm_stddev',\n",
       " 'wtc_GenBeRTm_stddev',\n",
       " 'wtc_GeOilTmp_stddev',\n",
       " 'wtc_HSGenTmp_stddev',\n",
       " 'wtc_HSRotTmp_stddev',\n",
       " 'wtc_HubTemp_stddev',\n",
       " 'wtc_IMSGenTm_stddev',\n",
       " 'wtc_IMSRotTm_stddev',\n",
       " 'wtc_NacelTmp_stddev',\n",
       " 'wtc_ConvWTmp_min',\n",
       " 'wtc_ConvWTmp_max',\n",
       " 'wtc_ConvWTmp_stddev',\n",
       " 'wtc_HydOilTm_min',\n",
       " 'wtc_HydOilTm_max',\n",
       " 'wtc_HydOilTm_mean',\n",
       " 'wtc_HydOilTm_stddev',\n",
       " 'wtc_GFilB1Tm_min',\n",
       " 'wtc_GFilB1Tm_max',\n",
       " 'wtc_GFilB1Tm_mean',\n",
       " 'wtc_GFilB1Tm_stddev',\n",
       " 'wtc_GFilB2Tm_min',\n",
       " 'wtc_GFilB2Tm_max',\n",
       " 'wtc_GFilB2Tm_mean',\n",
       " 'wtc_GFilB2Tm_stddev',\n",
       " 'wtc_GFilB3Tm_min',\n",
       " 'wtc_GFilB3Tm_max',\n",
       " 'wtc_GFilB3Tm_mean',\n",
       " 'wtc_GFilB3Tm_stddev',\n",
       " 'wtc_MainBTmp_min',\n",
       " 'wtc_MainBTmp_max',\n",
       " 'wtc_MainBTmp_stddev',\n",
       " 'wtc_TrafoTMa_min',\n",
       " 'wtc_TrafoTMa_max',\n",
       " 'wtc_TrafoTMa_mean',\n",
       " 'wtc_TrafoTMa_stddev',\n",
       " 'TimeStamp.3',\n",
       " 'StationId.3',\n",
       " 'wtc_BrakPres_min',\n",
       " 'wtc_BrakPres_max',\n",
       " 'wtc_BrakPres_mean',\n",
       " 'wtc_BrakPres_stddev',\n",
       " 'wtc_GearPres_min',\n",
       " 'wtc_GearPres_max',\n",
       " 'wtc_GearPres_mean',\n",
       " 'wtc_GearPres_stddev',\n",
       " 'wtc_HubPresA_min',\n",
       " 'wtc_HubPresA_max',\n",
       " 'wtc_HubPresA_mean',\n",
       " 'wtc_HubPresA_stddev',\n",
       " 'wtc_HubPresB_min',\n",
       " 'wtc_HubPresB_max',\n",
       " 'wtc_HubPresB_mean',\n",
       " 'wtc_HubPresB_stddev',\n",
       " 'wtc_HubPresC_min',\n",
       " 'wtc_HubPresC_max',\n",
       " 'wtc_HubPresC_mean',\n",
       " 'wtc_HubPresC_stddev',\n",
       " 'wtc_HydPress_min',\n",
       " 'wtc_HydPress_max',\n",
       " 'wtc_HydPress_mean',\n",
       " 'wtc_HydPress_stddev',\n",
       " 'wtc_InlPrAft_min',\n",
       " 'wtc_InlPrAft_max',\n",
       " 'wtc_InlPrAft_mean',\n",
       " 'wtc_InlPrAft_stddev',\n",
       " 'wtc_InlPrBef_min',\n",
       " 'wtc_InlPrBef_max',\n",
       " 'wtc_InlPrBef_mean',\n",
       " 'wtc_InlPrBef_stddev',\n",
       " 'wtc_OfflPres_min',\n",
       " 'wtc_OfflPres_max',\n",
       " 'wtc_OfflPres_mean',\n",
       " 'wtc_OfflPres_stddev',\n",
       " 'wtc_InvPress_min',\n",
       " 'wtc_InvPress_max',\n",
       " 'wtc_InvPress_mean',\n",
       " 'wtc_InvPress_stddev',\n",
       " 'wtc_BrAccPrs_min',\n",
       " 'wtc_BrAccPrs_max',\n",
       " 'wtc_BrAccPrs_mean',\n",
       " 'wtc_BrAccPrs_stddev',\n",
       " 'SiteId',\n",
       " 'ParkId',\n",
       " 'IpcId',\n",
       " 'LoopId',\n",
       " 'StationId.4',\n",
       " 'Name',\n",
       " 'Disable',\n",
       " 'StationGroupId',\n",
       " 'StationTypeId',\n",
       " 'XSiting',\n",
       " 'YSiting',\n",
       " 'TurbineTypeId',\n",
       " 'AnemoScale1',\n",
       " 'AnemoScale2',\n",
       " 'AnemoOffset',\n",
       " 'AnemoLimit',\n",
       " 'Secondary',\n",
       " 'xmlOnlineLogging',\n",
       " 'AviationLight',\n",
       " 'VisibilitySensor',\n",
       " 'DayNightSensor',\n",
       " 'IceDetector',\n",
       " 'IceStop',\n",
       " 'Sectionaliser',\n",
       " 'TimeStamp.4',\n",
       " 'StationId.5',\n",
       " 'wtc_ScYawOpe_counts',\n",
       " 'wtc_ScYawOpe_endvalue',\n",
       " 'wtc_ScYawUnw_counts',\n",
       " 'wtc_ScYawUnw_endvalue',\n",
       " 'wtc_PriAnAct_endvalue',\n",
       " 'wtc_ScAStart_counts',\n",
       " 'wtc_ScAStart_endvalue',\n",
       " 'wtc_ScBrakOp_counts',\n",
       " 'wtc_ScBrakOp_endvalue',\n",
       " 'wtc_ScBrakOp_timeon',\n",
       " 'wtc_ScFrsErr_endvalue',\n",
       " 'wtc_ScInOper_counts',\n",
       " 'wtc_ScInOper_endvalue',\n",
       " 'wtc_ScInOper_timeon',\n",
       " 'wtc_ScReToOp_counts',\n",
       " 'wtc_ScReToOp_endvalue',\n",
       " 'wtc_ScReToOp_timeon',\n",
       " 'wtc_ScStartC_counts',\n",
       " 'wtc_ScWindIR_counts',\n",
       " 'wtc_ScWindIR_endvalue',\n",
       " 'wtc_ScWindIR_timeon',\n",
       " 'wtc_OpCode_endvalue',\n",
       " 'wtc_ScEnvSto_counts',\n",
       " 'wtc_ScEnvSto_endvalue',\n",
       " 'wtc_ScEnvSto_timeon',\n",
       " 'wtc_ScComSto_counts',\n",
       " 'wtc_ScComSto_endvalue',\n",
       " 'wtc_ScComSto_timeon',\n",
       " 'wtc_ScTurSto_counts',\n",
       " 'wtc_ScTurSto_endvalue',\n",
       " 'wtc_ScTurSto_timeon',\n",
       " 'wtc_ScGrdSto_counts',\n",
       " 'wtc_ScGrdSto_endvalue',\n",
       " 'wtc_ScGrdSto_timeon',\n",
       " 'wtc_LocRemSt_endvalue',\n",
       " 'wtc_AlarmCde_endvalue',\n",
       " 'wtc_BrakStat_endvalue',\n",
       " 'wtc_GenStat_endvalue',\n",
       " 'wtc_Turbstat_endvalue',\n",
       " 'wtc_YawStat_endvalue',\n",
       " 'wtc_TlcStat_endvalue',\n",
       " 'TmStamp',\n",
       " 'RecNum',\n",
       " 'WS_P2546a_80m_Avg',\n",
       " 'WS_P2546a_80m_Max',\n",
       " 'WS_P2546a_80m_Min',\n",
       " 'WS_P2546a_80m_Std',\n",
       " 'WS_Thies_80m_Avg',\n",
       " 'WS_Thies_80m_Max',\n",
       " 'WS_Thies_80m_Min',\n",
       " 'WS_Thies_80m_Std',\n",
       " 'Windsp_3D_Avg',\n",
       " 'Windsp_3D_Max',\n",
       " 'Windsp_3D_Min',\n",
       " 'Windsp_3D_Std',\n",
       " 'WindDir_Angle_3D_Max',\n",
       " 'WindDir_Angle_3D_Min',\n",
       " 'Elevation_angle_3D_Avg',\n",
       " 'Elevation_angle_3D_Max',\n",
       " 'Elevation_angle_3D_Min',\n",
       " 'Elevation_angle_3D_Std',\n",
       " 'Temp_3D_Avg',\n",
       " 'Temp_3D_Max',\n",
       " 'Temp_3D_Min',\n",
       " 'Temp_3D_Std',\n",
       " 'WindDir_76m_D1_WVT',\n",
       " 'WindDir_76m_SD1_WVT',\n",
       " 'WindDir_ICEFREE_D1_WVT',\n",
       " 'WindDir_ICEFREE_SD1_WVT',\n",
       " 'WS_ICEFREE_Avg',\n",
       " 'WS_ICEFREE_Max',\n",
       " 'WS_ICEFREE_Min',\n",
       " 'WS_ICEFREE_Std',\n",
       " 'AirTC_76m_Avg',\n",
       " 'AirTC_76m_Max',\n",
       " 'AirTC_76m_Min',\n",
       " 'AirTC_76m_Std',\n",
       " 'RH_76m_Avg',\n",
       " 'RH_76m_Max',\n",
       " 'RH_76m_Min',\n",
       " 'RH_76m_Std',\n",
       " 'BP_mbar_76m_Avg',\n",
       " 'BP_mbar_76m_Max',\n",
       " 'BP_mbar_76m_Min',\n",
       " 'BP_mbar_76m_Std',\n",
       " 'WS_Thies_60m_Avg',\n",
       " 'WS_Thies_60m_Max',\n",
       " 'WS_Thies_60m_Min',\n",
       " 'WS_Thies_60m_Std',\n",
       " 'WS_Thies_26m_Avg',\n",
       " 'WS_Thies_26m_Max',\n",
       " 'WS_Thies_26m_Min',\n",
       " 'WS_Thies_26m_Std',\n",
       " 'WindDir_D1_WVT',\n",
       " 'WindDir_SD1_WVT',\n",
       " 'AirTC_3m_Avg',\n",
       " 'AirTC_3m_Max',\n",
       " 'AirTC_3m_Min',\n",
       " 'AirTC_3m_Std',\n",
       " 'AirTC_3m_Tot',\n",
       " 'TimeStamp.5',\n",
       " 'StationId.6',\n",
       " 'wtc_TurRdHrT_endvalue',\n",
       " 'wtc_WndIRHrT_endvalue',\n",
       " 'wtc_AvailPcS_endvalue',\n",
       " 'wtc_AvailPcT_endvalue',\n",
       " 'wtc_ErrHrCnT_endvalue',\n",
       " 'wtc_ExtErHrT_endvalue',\n",
       " 'wtc_G1HrsTot_endvalue',\n",
       " 'wtc_GrdFaHrT_endvalue',\n",
       " 'wtc_GustWndS_endvalue',\n",
       " 'wtc_GustWndT_endvalue',\n",
       " 'wtc_kVAG1ToE_endvalue',\n",
       " 'wtc_kVAG1ToE_accum',\n",
       " 'wtc_kVAG1ToI_endvalue',\n",
       " 'wtc_kVAG1ToI_accum',\n",
       " 'wtc_kVAG1Tot_endvalue',\n",
       " 'wtc_kVAG1Tot_accum',\n",
       " 'wtc_kWG1Tot_endvalue',\n",
       " 'wtc_kWG1Tot_accum',\n",
       " 'wtc_kWG1TotE_endvalue',\n",
       " 'wtc_kWG1TotE_accum',\n",
       " 'wtc_kWG1TotI_endvalue',\n",
       " 'wtc_kWG1TotI_accum',\n",
       " 'wtc_MeanWndS_endvalue',\n",
       " 'wtc_MeanWndT_endvalue',\n",
       " 'wtc_ResetTmS_endvalue',\n",
       " 'wtc_ResetTmT_endvalue',\n",
       " 'wtc_ScComErr_accum',\n",
       " 'wtc_ScComErr_endvalue',\n",
       " 'wtc_ScEnvErr_accum',\n",
       " 'wtc_ScEnvErr_endvalue',\n",
       " 'wtc_ScGrdErr_accum',\n",
       " 'wtc_ScGrdErr_endvalue',\n",
       " 'wtc_ScTurErr_accum',\n",
       " 'wtc_ScTurErr_endvalue',\n",
       " 'wtc_AvailHrT_endvalue',\n",
       " 'wtc_AvailHrS_endvalue',\n",
       " 'wtc_AvailP2S_endvalue',\n",
       " 'wtc_AvailP2T_endvalue',\n",
       " 'wtc_ErrHrCnS_endvalue',\n",
       " 'wtc_ExtErHrS_endvalue',\n",
       " 'wtc_G1HrsSub_endvalue',\n",
       " 'wtc_GrdFaHrS_endvalue',\n",
       " 'wtc_GridFaCS_endvalue',\n",
       " 'wtc_GridFaCT_endvalue',\n",
       " 'wtc_kVAG1SuE_endvalue',\n",
       " 'wtc_kVAG1SuI_endvalue',\n",
       " 'wtc_kWG1Sub_endvalue',\n",
       " 'wtc_kWG1SubE_endvalue',\n",
       " 'wtc_kWG1SubI_endvalue',\n",
       " 'wtc_OtherHoS_endvalue',\n",
       " 'wtc_OtherHoT_endvalue',\n",
       " 'wtc_StandStS_endvalue',\n",
       " 'wtc_StandStT_endvalue',\n",
       " 'wtc_TurRdHrS_endvalue',\n",
       " 'wtc_WindFauS_endvalue',\n",
       " 'wtc_WindFauT_endvalue',\n",
       " 'wtc_WndIRHrS_endvalue',\n",
       " 'wtc_GridOKHS_endvalue',\n",
       " 'wtc_GridOKHT_endvalue',\n",
       " 'wtc_TurOkHrT_endvalue',\n",
       " 'wtc_TurOkHrS_endvalue',\n",
       " 'wtc_NotStStT_endvalue',\n",
       " 'wtc_NotStStS_endvalue',\n",
       " 'wtc_ErLWHCnT_ErLWHCnT_endvalue',\n",
       " 'wtc_ErLWHCnS_ErLWHCnS_endvalue',\n",
       " 'TimeStamp.6',\n",
       " 'StationId.7',\n",
       " 'wtc_SmokeNac_counts',\n",
       " 'wtc_SmokeNac_endvalue',\n",
       " 'wtc_SmokeNac_timeon',\n",
       " 'wtc_SmokeTra_counts',\n",
       " 'wtc_SmokeTra_endvalue',\n",
       " 'wtc_SmokeTra_timeon',\n",
       " 'wtc_TORGear_counts',\n",
       " 'wtc_TORGear_endvalue',\n",
       " 'wtc_TORGear_timeon',\n",
       " 'wtc_TOROffli_counts',\n",
       " 'wtc_TOROffli_endvalue',\n",
       " 'wtc_TOROffli_timeon',\n",
       " 'wtc_TORPitch_counts',\n",
       " 'wtc_TORPitch_endvalue',\n",
       " 'wtc_TORPitch_timeon',\n",
       " 'wtc_TORYaw_counts',\n",
       " 'wtc_TORYaw_endvalue',\n",
       " 'wtc_TORYaw_timeon',\n",
       " 'wtc_UPSBypas_counts',\n",
       " 'wtc_UPSBypas_endvalue',\n",
       " 'wtc_UPSBypas_timeon',\n",
       " 'wtc_UpsLineF_counts',\n",
       " 'wtc_UpsLineF_endvalue',\n",
       " 'wtc_UpsLineF_timeon',\n",
       " 'wtc_UPSLowBt_counts',\n",
       " 'wtc_UPSLowBt_endvalue',\n",
       " 'wtc_UPSLowBt_timeon',\n",
       " 'wtc_UVLightn_counts',\n",
       " 'wtc_UVLightn_endvalue',\n",
       " 'wtc_UVLightn_timeon',\n",
       " 'wtc_Windvan2_counts',\n",
       " 'wtc_Windvan2_endvalue',\n",
       " 'wtc_Windvan2_timeon',\n",
       " 'wtc_Windvane_counts',\n",
       " 'wtc_Windvane_endvalue',\n",
       " 'wtc_Windvane_timeon',\n",
       " 'wtc_Y1LubPis_counts',\n",
       " 'wtc_Y1LubPis_endvalue',\n",
       " 'wtc_Y1LubPis_timeon',\n",
       " 'wtc_YawLubGr_counts',\n",
       " 'wtc_YawLubGr_endvalue',\n",
       " 'wtc_YawLubGr_timeon',\n",
       " 'wtc_BrakLin1_counts',\n",
       " 'wtc_BrakLin1_endvalue',\n",
       " 'wtc_BrakLin1_timeon',\n",
       " 'wtc_BrakLin2_counts',\n",
       " 'wtc_BrakLin2_endvalue',\n",
       " 'wtc_BrakLin2_timeon',\n",
       " 'wtc_DAMAlarm_counts',\n",
       " 'wtc_DAMAlarm_endvalue',\n",
       " 'wtc_DAMAlarm_timeon',\n",
       " 'wtc_EmergInp_counts',\n",
       " 'wtc_EmergInp_endvalue',\n",
       " 'wtc_EmergInp_timeon',\n",
       " 'wtc_ExtStop_counts',\n",
       " 'wtc_ExtStop_endvalue',\n",
       " 'wtc_ExtStop_timeon',\n",
       " 'wtc_GBLubGr_counts',\n",
       " 'wtc_GBLubGr_endvalue',\n",
       " 'wtc_GBLubGr_timeon',\n",
       " 'wtc_GBLubPis_counts',\n",
       " 'wtc_GBLubPis_endvalue',\n",
       " 'wtc_GBLubPis_timeon',\n",
       " 'wtc_GearLevl_counts',\n",
       " 'wtc_GearLevl_endvalue',\n",
       " 'wtc_GearLevl_timeon',\n",
       " 'wtc_HCUFeedb_counts',\n",
       " 'wtc_HCUFeedb_endvalue',\n",
       " 'wtc_HCUFeedb_timeon',\n",
       " 'wtc_HydLevel_counts',\n",
       " 'wtc_HydLevel_endvalue',\n",
       " 'wtc_HydLevel_timeon',\n",
       " 'wtc_HydrFilt_counts',\n",
       " 'wtc_HydrFilt_endvalue',\n",
       " 'wtc_HydrFilt_timeon',\n",
       " 'wtc_IceRelay_counts',\n",
       " 'wtc_IceRelay_endvalue',\n",
       " 'wtc_IceRelay_timeon',\n",
       " 'wtc_Lightnin_counts',\n",
       " 'wtc_Lightnin_endvalue',\n",
       " 'wtc_Lightnin_timeon',\n",
       " 'wtc_LubPistA_counts',\n",
       " 'wtc_LubPistA_endvalue',\n",
       " 'wtc_LubPistA_timeon',\n",
       " 'wtc_LubPistB_counts',\n",
       " 'wtc_LubPistB_endvalue',\n",
       " 'wtc_LubPistB_timeon',\n",
       " 'wtc_LubPistC_counts',\n",
       " 'wtc_LubPistC_endvalue',\n",
       " 'wtc_LubPistC_timeon',\n",
       " 'wtc_MainBPos_counts',\n",
       " 'wtc_MainBPos_endvalue',\n",
       " 'wtc_MainBPos_timeon',\n",
       " 'wtc_MBLubGr_counts',\n",
       " 'wtc_MBLubGr_endvalue',\n",
       " 'wtc_MBLubGr_timeon',\n",
       " 'wtc_MBLubPis_counts',\n",
       " 'wtc_MBLubPis_endvalue',\n",
       " 'wtc_MBLubPis_timeon',\n",
       " 'wtc_VisibMed_counts',\n",
       " 'wtc_VisibMed_endvalue',\n",
       " 'wtc_VisibMed_timeon',\n",
       " 'wtc_VisibOk_counts',\n",
       " 'wtc_VisibOk_endvalue',\n",
       " 'wtc_VisibOk_timeon',\n",
       " 'wtc_VisibHig_counts',\n",
       " 'wtc_VisibHig_endvalue',\n",
       " 'wtc_VisibHig_timeon',\n",
       " 'TimeStamp.7',\n",
       " 'StationId.8',\n",
       " 'wtc_TurbinOK_counts',\n",
       " 'wtc_TurbinOK_endvalue',\n",
       " 'wtc_TurbinOK_timeon',\n",
       " 'wtc_UPSShutd_counts',\n",
       " 'wtc_UPSShutd_endvalue',\n",
       " 'wtc_UPSShutd_timeon',\n",
       " 'wtc_WndVHeat_counts',\n",
       " 'wtc_WndVHeat_endvalue',\n",
       " 'wtc_WndVHeat_timeon',\n",
       " 'wtc_YawLubPu_counts',\n",
       " 'wtc_YawLubPu_endvalue',\n",
       " 'wtc_YawLubPu_timeon',\n",
       " 'wtc_YawMoCCW_counts',\n",
       " 'wtc_YawMoCCW_endvalue',\n",
       " 'wtc_YawMoCCW_timeon',\n",
       " 'wtc_YawMoCW_counts',\n",
       " 'wtc_YawMoCW_endvalue',\n",
       " 'wtc_YawMoCW_timeon',\n",
       " 'wtc_ConBoVen_counts',\n",
       " 'wtc_ConBoVen_endvalue',\n",
       " 'wtc_ConBoVen_timeon',\n",
       " 'wtc_GearCoHS_counts',\n",
       " 'wtc_GearCoHS_endvalue',\n",
       " 'wtc_GearCoHS_timeon',\n",
       " 'wtc_GearCoLS_counts',\n",
       " 'wtc_GearCoLS_endvalue',\n",
       " 'wtc_GearCoLS_timeon',\n",
       " 'wtc_GearFilt_counts',\n",
       " 'wtc_GearFilt_endvalue',\n",
       " 'wtc_GearFilt_timeon',\n",
       " 'wtc_GearHeat_counts',\n",
       " 'wtc_GearHeat_endvalue',\n",
       " 'wtc_GearHeat_timeon',\n",
       " 'wtc_GearPuHS_counts',\n",
       " 'wtc_GearPuHS_endvalue',\n",
       " 'wtc_GearPuHS_timeon',\n",
       " 'wtc_GearPuLS_counts',\n",
       " 'wtc_GearPuLS_endvalue',\n",
       " 'wtc_GearPuLS_timeon',\n",
       " 'wtc_GenHeat_counts',\n",
       " 'wtc_GenHeat_endvalue',\n",
       " 'wtc_GenHeat_timeon',\n",
       " 'wtc_GenLubPu_counts',\n",
       " 'wtc_GenLubPu_endvalue',\n",
       " 'wtc_GenLubPu_timeon',\n",
       " 'wtc_HubLubPu_counts',\n",
       " 'wtc_HubLubPu_endvalue',\n",
       " 'wtc_HubLubPu_timeon',\n",
       " 'wtc_HubSafeP_counts',\n",
       " 'wtc_HubSafeP_endvalue',\n",
       " 'wtc_HubSafeP_timeon',\n",
       " 'wtc_HubSafSw_counts',\n",
       " 'wtc_HubSafSw_endvalue',\n",
       " 'wtc_HubSafSw_timeon',\n",
       " 'wtc_HydrV35_counts',\n",
       " 'wtc_HydrV35_endvalue',\n",
       " 'wtc_HydrV35_timeon',\n",
       " 'wtc_IdleValv_counts',\n",
       " 'wtc_IdleValv_endvalue',\n",
       " 'wtc_IdleValv_timeon',\n",
       " 'wtc_MBLubPu_counts',\n",
       " 'wtc_MBLubPu_endvalue',\n",
       " 'wtc_MBLubPu_timeon',\n",
       " 'wtc_OilCoByp_counts',\n",
       " 'wtc_OilCoByp_endvalue',\n",
       " 'wtc_OilCoByp_timeon',\n",
       " 'wtc_PitchByp_counts',\n",
       " 'wtc_PitchByp_endvalue',\n",
       " 'wtc_PitchByp_timeon',\n",
       " 'wtc_PitchPum_counts',\n",
       " 'wtc_PitchPum_endvalue',\n",
       " 'wtc_PitchPum_timeon',\n",
       " 'wtc_PWMEnabl_counts',\n",
       " 'wtc_PWMEnabl_endvalue',\n",
       " 'wtc_PWMEnabl_timeon',\n",
       " 'wtc_ResLight_counts',\n",
       " 'wtc_ResLight_endvalue',\n",
       " 'wtc_ResLight_timeon',\n",
       " 'wtc_SafPitch_counts',\n",
       " 'wtc_SafPitch_endvalue',\n",
       " 'wtc_SafPitch_timeon',\n",
       " 'TimeStamp.8',\n",
       " 'StationId.9',\n",
       " 'wtc_ValSuppV_min',\n",
       " 'wtc_ValSuppV_max',\n",
       " 'wtc_ValSuppV_mean',\n",
       " 'wtc_ValSuppV_stddev',\n",
       " 'wtc_AnaPiRef_min',\n",
       " 'wtc_AnaPiRef_max',\n",
       " 'wtc_AnaPiRef_mean',\n",
       " 'wtc_AnaPiRef_stddev',\n",
       " 'wtc_DataLink_RecvSec_min',\n",
       " 'wtc_DataLink_RecvSec_mean',\n",
       " 'wtc_DataLink_RecvSec_endvalue',\n",
       " 'wtc_OrStpDat_Status_endvalue',\n",
       " 'wtc_OrStpDat_LampStat_endvalue',\n",
       " 'Code',\n",
       " 'Description',\n",
       " 'Fault_Type',\n",
       " 'WindSpeed_adj',\n",
       " 'HourOfDay',\n",
       " 'YawError',\n",
       " 'BoostedRef',\n",
       " 'WindSheer1',\n",
       " 'PowerDelta',\n",
       " 'Available',\n",
       " 'Icing',\n",
       " 'Air_density',\n",
       " 'AdjTurbineWS',\n",
       " 'TurbulenceMet',\n",
       " 'TurbulenceTurbine',\n",
       " 'Derated',\n",
       " 'ExpectedEnergy_5th',\n",
       " 'Underperformance',\n",
       " 'target']"
      ]
     },
     "execution_count": 23,
     "metadata": {},
     "output_type": "execute_result"
    }
   ],
   "source": [
    "list(df.columns)"
   ]
  },
  {
   "cell_type": "code",
   "execution_count": 24,
   "metadata": {
    "collapsed": true
   },
   "outputs": [],
   "source": [
    "y2 = df[\"wtc_ActPower_mean\"]\n",
    "\n",
    "keepcols = ['WindSheer1', 'BoostedRef', 'Fault_Type',\n",
    "            'wtc_AcWindSp_mean','wtc_NacelPos_mean','wtc_ScInOper_timeon', \n",
    "            'WS_Thies_80m_Avg', 'WS_Thies_60m_Avg', 'WS_ICEFREE_Avg',\n",
    "           'BP_mbar_76m_Avg', 'AirTC_3m_Avg','Icing','Air_density']\n",
    "\n",
    "data2 = df[keepcols]\n",
    "\n",
    "X_train2, X_test2, y_train2, y_test2 = train_test_split(data2, y2, test_size=0.2)"
   ]
  },
  {
   "cell_type": "code",
   "execution_count": 25,
   "metadata": {
    "collapsed": true
   },
   "outputs": [],
   "source": [
    "from sklearn.model_selection import ShuffleSplit\n",
    "cv = ShuffleSplit(n_splits=10, test_size=0.20, random_state=0)"
   ]
  },
  {
   "cell_type": "code",
   "execution_count": 26,
   "metadata": {
    "collapsed": true
   },
   "outputs": [],
   "source": [
    "from sklearn.preprocessing import PolynomialFeatures\n",
    "from sklearn.linear_model import LinearRegression\n",
    "from sklearn.pipeline import Pipeline\n",
    "\n",
    "class CappedLinearRegression(LinearRegression):\n",
    "    def predict(self, X):\n",
    "        return np.clip(super(CappedLinearRegression, self).predict(X), y2.min(), y2.max()) "
   ]
  },
  {
   "cell_type": "markdown",
   "metadata": {},
   "source": [
    "### Grid Search\n",
    "We opted to use a grid search to find the best hyper-paremeters for this model. The parameters adjusted were the degree polynomial for the transformation, if the model is to be normalized, and if the intercept is to be fit. This was done using a ten fold cross-validation with a 20/80 split for training and testing. The scoring parameter used is the R-squared.\n",
    "\n",
    "### Polynomrial Regression Results\n",
    "\n",
    "The grid search determined that a two degree polynomial resutled in the best fit. The resulting model perfromed execeptionally well with an R2 of 0.99 indicating that nearly all of the variation in the data can be explained by the model."
   ]
  },
  {
   "cell_type": "code",
   "execution_count": null,
   "metadata": {
    "collapsed": true
   },
   "outputs": [],
   "source": [
    "from sklearn.model_selection import GridSearchCV\n",
    "\n",
    "# Possible Parameters:\n",
    "    # 'memory',\n",
    "    #  'steps',\n",
    "    #  'poly',\n",
    "    #  'linear',\n",
    "    #  'poly__degree',\n",
    "    #  'poly__include_bias',\n",
    "    #  'poly__interaction_only',\n",
    "    #  'linear__copy_X',\n",
    "    #  'linear__fit_intercept',\n",
    "    #  'linear__n_jobs',\n",
    "    #  'linear__normalize'\n",
    "\n",
    "parameters = {'poly__degree':[2,3],\n",
    "              'linear__normalize':(True,False), \n",
    "              'linear__fit_intercept':(True,False)}\n",
    "\n",
    "model = Pipeline([('poly', PolynomialFeatures()),\n",
    "                      ('linear', CappedLinearRegression())])\n",
    "\n",
    "regGridSearch = GridSearchCV(estimator=model\n",
    "                   , verbose=3 #high number gives more description\n",
    "                   , param_grid=parameters\n",
    "                   , cv=cv\n",
    "                   , n_jobs=-1 # all CPUs\n",
    "                   , scoring='r2')\n",
    "\n",
    "#Perform hyperparameter search to find the best combination of parameters for our data\n",
    "# regGridSearch.fit(X, y) #UNCOMMENT TO RUN "
   ]
  },
  {
   "cell_type": "code",
   "execution_count": 27,
   "metadata": {},
   "outputs": [
    {
     "name": "stdout",
     "output_type": "stream",
     "text": [
      "Max R-squared:  0.957802824269\n"
     ]
    }
   ],
   "source": [
    "# Execute model with best parameters from Grid Search\n",
    "\n",
    "from sklearn.model_selection import cross_val_score\n",
    "\n",
    "model = Pipeline([('poly', PolynomialFeatures(degree=2, include_bias=True, interaction_only=False)),\n",
    "                  ('linear', CappedLinearRegression(copy_X=True, fit_intercept=True, n_jobs=-1, normalize=False))])\n",
    "model.fit(data2, y2)\n",
    "y_hat = model.predict(data2)\n",
    "\n",
    "acc = cross_val_score(model, data2, y2, cv=cv,scoring='r2')\n",
    "print('Max R-squared: ',acc.max())"
   ]
  },
  {
   "cell_type": "markdown",
   "metadata": {},
   "source": [
    "### Plot the results\n",
    "The cross-validated R-square value is high but there is a severe residual in the high power region between 7 and 13 m/s wind speed. There must be an important factor missing in the model."
   ]
  },
  {
   "cell_type": "code",
   "execution_count": 28,
   "metadata": {},
   "outputs": [
    {
     "data": {
      "image/png": "[encoded data removed]",
      "text/plain": [
       "<matplotlib.figure.Figure at 0x13859282588>"
      ]
     },
     "metadata": {},
     "output_type": "display_data"
    }
   ],
   "source": [
    "plt.figure(figsize=(12,12))\n",
    "plt.scatter(x=data2[\"wtc_AcWindSp_mean\"], y=y2, label='Actual')\n",
    "plt.scatter(x=data2[\"wtc_AcWindSp_mean\"], y=y_hat, c='r', label='Predicted')\n",
    "# plt.axis('tight')\n",
    "plt.legend()\n",
    "plt.title(\"Polynomial Regression\")\n",
    "plt.show()"
   ]
  },
  {
   "cell_type": "code",
   "execution_count": 29,
   "metadata": {},
   "outputs": [
    {
     "data": {
      "image/png": "[encoded data removed]",
      "text/plain": [
       "<matplotlib.figure.Figure at 0x13859282668>"
      ]
     },
     "metadata": {},
     "output_type": "display_data"
    }
   ],
   "source": [
    "\n",
    "residual = y2 - y_hat\n",
    "\n",
    "plt.figure(figsize=(12,12))\n",
    "plt.scatter(x=data2[\"wtc_AcWindSp_mean\"], y=residual, label='Actual')\n",
    "# plt.scatter(x=data2[\"wtc_AcWindSp_mean\"], y=y_hat, c='r', label='Predicted')\n",
    "# plt.axis('tight')\n",
    "plt.legend()\n",
    "plt.title(\"Polynomial Regression\")\n",
    "plt.show()"
   ]
  },
  {
   "cell_type": "markdown",
   "metadata": {},
   "source": [
    "## Lasso Regression"
   ]
  },
  {
   "cell_type": "code",
   "execution_count": null,
   "metadata": {
    "collapsed": true
   },
   "outputs": [],
   "source": [
    "from sklearn.linear_model import Lasso\n",
    "from sklearn.model_selection import GridSearchCV\n",
    "\n",
    "model = Lasso(fit_intercept=True, normalize=True,copy_X=True\n",
    "          , max_iter=10000, precompute=True, tol=0.0001, random_state=0)\n",
    "\n",
    "#Test parameters \n",
    "alpha = [0.001, 0.1, 1, 10, 20]\n",
    "selection = ['cyclic','random']\n",
    "warm_start = [True, False]\n",
    "parameters = {'alpha': alpha, 'selection': selection, 'warm_start': warm_start}\n",
    "\n",
    "regGridSearch = GridSearchCV(estimator=model\n",
    "                   , verbose=3\n",
    "                   , param_grid=parameters\n",
    "                   , cv=cv\n",
    "                   , n_jobs=-1\n",
    "                   , scoring='r2')\n",
    "\n",
    "regGridSearch.fit(X, y)"
   ]
  },
  {
   "cell_type": "code",
   "execution_count": null,
   "metadata": {
    "collapsed": true
   },
   "outputs": [],
   "source": [
    "# Execute model with best parameters from Grid Search\n",
    "from sklearn.linear_model import Lasso\n",
    "from sklearn.model_selection import cross_val_score\n",
    "\n",
    "model = Lasso(alpha=1.0, copy_X=True, fit_intercept=True, max_iter=10000,\n",
    "   normalize=True, positive=False, precompute=True, random_state=0,\n",
    "   selection='cyclic', tol=0.0001, warm_start=False)\n",
    "\n",
    "model.fit(X, y)\n",
    "y_hat = model.predict(X)\n",
    "\n",
    "acc = cross_val_score(model, X, y, cv=3,scoring='r2')\n",
    "print('Max R-squared: ',acc.max())"
   ]
  },
  {
   "cell_type": "markdown",
   "metadata": {},
   "source": [
    "# Results"
   ]
  },
  {
   "cell_type": "code",
   "execution_count": 28,
   "metadata": {},
   "outputs": [
    {
     "data": {
      "image/png": "[encoded data removed]",
      "text/plain": [
       "<matplotlib.figure.Figure at 0x13859282588>"
      ]
     },
     "metadata": {},
     "output_type": "display_data"
    }
   ],
   "source": [
    "plt.figure(figsize=(12,12))\n",
    "plt.scatter(x=data2[\"wtc_AcWindSp_mean\"], y=y2, label='Actual')\n",
    "plt.scatter(x=data2[\"wtc_AcWindSp_mean\"], y=y_hat, c='r', label='Predicted')\n",
    "# plt.axis('tight')\n",
    "plt.legend()\n",
    "plt.title(\"Polynomial Regression\")\n",
    "plt.show()"
   ]
  },
  {
   "cell_type": "markdown",
   "metadata": {},
   "source": [
    "## Ridge Regression"
   ]
  },
  {
   "cell_type": "code",
   "execution_count": null,
   "metadata": {
    "collapsed": true
   },
   "outputs": [],
   "source": [
    "from sklearn.linear_model import Ridge\n",
    "from sklearn.model_selection import GridSearchCV\n",
    "\n",
    "model = Ridge(fit_intercept=True, normalize=True,copy_X=True\n",
    "          , max_iter=1000, tol=0.0001, random_state=0)\n",
    "\n",
    "#Test parameters \n",
    "alpha = [0.001, 0.1, 1, 5, 10, 20]\n",
    "solver = [ 'svd', 'cholesky', 'lsqr', 'sparse_cg', 'sag', 'saga']\n",
    "parameters = {'alpha': alpha, 'solver': solver}\n",
    "\n",
    "regGridSearch = GridSearchCV(estimator=model\n",
    "                   , verbose=3\n",
    "                   , param_grid=parameters\n",
    "                   , cv=cv\n",
    "                   , n_jobs=-1\n",
    "                   , scoring='r2')\n",
    "\n",
    "regGridSearch.fit(X, y)"
   ]
  },
  {
   "cell_type": "code",
   "execution_count": null,
   "metadata": {
    "collapsed": true
   },
   "outputs": [],
   "source": [
    "# Execute model with best parameters from Grid Search\n",
    "from sklearn.linear_model import Ridge\n",
    "from sklearn.model_selection import cross_val_score\n",
    "\n",
    "model = Ridge(alpha=1.0, copy_X=True, fit_intercept=True, max_iter=1000,\n",
    "   normalize=True, random_state=0, solver='auto', tol=0.0001)\n",
    "\n",
    "model.fit(X, y)\n",
    "y_hat = model.predict(X)\n",
    "\n",
    "acc = cross_val_score(model, X, y, cv=3,scoring='r2')\n",
    "print('Max R-squared: ',acc.max())"
   ]
  },
  {
   "cell_type": "markdown",
   "metadata": {},
   "source": [
    "## ElasticNet Regression\n",
    "\n",
    "We are not sure why the ElasticNet version of linear regression gave negative R-square. "
   ]
  },
  {
   "cell_type": "code",
   "execution_count": null,
   "metadata": {
    "collapsed": true
   },
   "outputs": [],
   "source": [
    "from sklearn.model_selection import GridSearchCV\n",
    "from sklearn.linear_model import ElasticNet\n",
    "\n",
    "model = ElasticNet(fit_intercept=True, normalize=True, precompute=True, copy_X=True\n",
    "          , max_iter=10000, tol=0.0001, random_state=0)\n",
    " \n",
    "#Test parameters\n",
    "l1_ratio = [0.001, 0.01, 0.1, 0.5, 0.75, 1]\n",
    "alpha = [0.001, 0.1, 1, 10]\n",
    "selection = ['cyclic','random']\n",
    "warm_start = [True, False]\n",
    "parameters = {'l1_ratio': l1_ratio, 'alpha': alpha, 'selection': selection, 'warm_start': warm_start}\n",
    "\n",
    "regGridSearch = GridSearchCV(estimator=model\n",
    "                   , verbose=3\n",
    "                   , param_grid=parameters\n",
    "                   , cv=cv\n",
    "                   , n_jobs=-1\n",
    "                   , scoring='r2')\n",
    "\n",
    "regGridSearch.fit(X, y)"
   ]
  },
  {
   "cell_type": "code",
   "execution_count": null,
   "metadata": {
    "collapsed": true
   },
   "outputs": [],
   "source": [
    "# Executefrom sklearn.linear_model \n",
    "from sklearn.linear_model import ElasticNet\n",
    "from sklearn.model_selection import cross_val_score\n",
    "\n",
    "model = ElasticNet(alpha=1.0, copy_X=True, fit_intercept=True, l1_ratio=0.5,\n",
    "      max_iter=10000, normalize=True, positive=False, precompute=True,\n",
    "      random_state=0, selection='cyclic', tol=0.0001, warm_start=False)\n",
    "\n",
    "model.fit(X, y)\n",
    "y_hat = model.predict(X)\n",
    "\n",
    "acc = cross_val_score(model, X, y, cv=3,scoring='r2')\n",
    "print('Max R-squared: ',acc.max())"
   ]
  },
  {
   "cell_type": "markdown",
   "metadata": {},
   "source": [
    "## Random Forest Regression"
   ]
  },
  {
   "cell_type": "markdown",
   "metadata": {},
   "source": [
    "The regression target is based on the actual power output of the turbine, \"wtc_ActPower_mean\". We define a separate set of variables we wish to use to predict the power output."
   ]
  },
  {
   "cell_type": "code",
   "execution_count": null,
   "metadata": {
    "collapsed": true,
    "scrolled": true
   },
   "outputs": [],
   "source": [
    "#Code from https://towardsdatascience.com/random-forest-in-python-24d0893d51c0\n",
    "y_a = np.array(y, dtype=pd.Series)\n",
    "print(y_a)\n",
    "\n",
    "train_y_a, test_y_a, train_data, test_data = train_test_split(y_a, data, test_size = 0.25, random_state = 42)\n",
    "train_y_r = np.atleast_2d(train_y_a)\n",
    "test_y_r = np.atleast_2d(test_y_a)\n",
    "print(train_y_r)\n",
    "print(test_y_r)\n",
    "train_y_s = train_y_r.reshape(-1,1)\n",
    "print(train_y_s)\n",
    "test_y_s = test_y_r.reshape(-1,1)\n",
    "print(test_y_s)"
   ]
  },
  {
   "cell_type": "code",
   "execution_count": null,
   "metadata": {
    "collapsed": true
   },
   "outputs": [],
   "source": [
    "print('Training Features Shape:', train_y_s.shape)\n",
    "print('Training Labels Shape:', train_data.shape)\n",
    "print('Testing Features Shape:', test_y_s.shape)\n",
    "print('Testing Labels Shape:', test_data.shape)"
   ]
  },
  {
   "cell_type": "markdown",
   "metadata": {},
   "source": [
    "### Regression parameters setting 1"
   ]
  },
  {
   "cell_type": "code",
   "execution_count": null,
   "metadata": {
    "collapsed": true
   },
   "outputs": [],
   "source": [
    "from sklearn.ensemble import RandomForestRegressor\n",
    "\n",
    "# Instantiate model with 10 decision trees\n",
    "rf = RandomForestRegressor(n_estimators = 10, random_state = 42)\n"
   ]
  },
  {
   "cell_type": "code",
   "execution_count": null,
   "metadata": {
    "collapsed": true
   },
   "outputs": [],
   "source": [
    "# Train the model on training data\n",
    "# rf.fit(train_y_s, train_data);\n",
    "rf.fit(train_data, train_y_a);"
   ]
  },
  {
   "cell_type": "code",
   "execution_count": null,
   "metadata": {
    "collapsed": true
   },
   "outputs": [],
   "source": [
    "# Use the forest's predict method on the test data\n",
    "predictions = rf.predict(test_data)\n",
    "\n",
    "# Calculate the absolute errors\n",
    "errors = abs(predictions - test_y_a)\n",
    "\n",
    "# Print out the mean absolute error (mae)\n",
    "print('Mean Absolute Error:', round(np.mean(errors), 2), 'kWh.')"
   ]
  },
  {
   "cell_type": "code",
   "execution_count": null,
   "metadata": {
    "collapsed": true
   },
   "outputs": [],
   "source": [
    "score = rf.score(test_data, test_y_a)\n",
    "print(score)\n",
    "\n",
    "# http://scikit-learn.org/stable/modules/generated/sklearn.ensemble.RandomForestRegressor.html"
   ]
  },
  {
   "cell_type": "markdown",
   "metadata": {},
   "source": [
    "#### Results of Parameter Setting 1\n",
    "The results from the first choice in parameters (n_estimators=10 and the rest default) had a very high accuracy of 98.3%. With n_estimators set at 10 the regression will use a max of 10 trees. More trees increases accuracy but slows the code down."
   ]
  },
  {
   "cell_type": "markdown",
   "metadata": {},
   "source": [
    "### Regression parameters setting 2"
   ]
  },
  {
   "cell_type": "code",
   "execution_count": null,
   "metadata": {
    "collapsed": true
   },
   "outputs": [],
   "source": [
    "# Instantiate model with 50 decision trees\n",
    "rf = RandomForestRegressor(n_estimators = 50, random_state = 42)"
   ]
  },
  {
   "cell_type": "code",
   "execution_count": null,
   "metadata": {
    "collapsed": true
   },
   "outputs": [],
   "source": [
    "# Train the model on training data\n",
    "# rf.fit(train_y_s, train_data);\n",
    "rf.fit(train_data, train_y_a);"
   ]
  },
  {
   "cell_type": "code",
   "execution_count": null,
   "metadata": {
    "collapsed": true
   },
   "outputs": [],
   "source": [
    "# Use the forest's predict method on the test data\n",
    "predictions = rf.predict(test_data)\n",
    "\n",
    "# Calculate the absolute errors\n",
    "errors = abs(predictions - test_y_a)\n",
    "\n",
    "# Print out the mean absolute error (mae)\n",
    "print('Mean Absolute Error:', round(np.mean(errors), 2), 'kWh.')"
   ]
  },
  {
   "cell_type": "code",
   "execution_count": null,
   "metadata": {
    "collapsed": true
   },
   "outputs": [],
   "source": [
    "score = rf.score(test_data, test_y_a)\n",
    "print(score)"
   ]
  },
  {
   "cell_type": "markdown",
   "metadata": {},
   "source": [
    "#### Results of Parameter Setting 2\n",
    "The results from the second choice in parameters (n_estimators=50 and the rest default) had a slightly higher accuracy of 98.4%. With n_estimators set at 50 the regression will use 50 trees. More trees increases accuracy but slows the code down."
   ]
  },
  {
   "cell_type": "markdown",
   "metadata": {},
   "source": [
    "### Regression parameters setting 3"
   ]
  },
  {
   "cell_type": "code",
   "execution_count": null,
   "metadata": {
    "collapsed": true
   },
   "outputs": [],
   "source": [
    "# Instantiate model with 50 decision trees and with oob_score set to True\n",
    "rf = RandomForestRegressor(n_estimators = 50, max_features = .2, oob_score=True, random_state = 42)"
   ]
  },
  {
   "cell_type": "code",
   "execution_count": null,
   "metadata": {
    "collapsed": true
   },
   "outputs": [],
   "source": [
    "# Train the model on training data\n",
    "# rf.fit(train_y_s, train_data);\n",
    "rf.fit(train_data, train_y_a);"
   ]
  },
  {
   "cell_type": "code",
   "execution_count": null,
   "metadata": {
    "collapsed": true
   },
   "outputs": [],
   "source": [
    "# Use the forest's predict method on the test data\n",
    "predictions = rf.predict(test_data)\n",
    "\n",
    "# Calculate the absolute errors\n",
    "errors = abs(predictions - test_y_a)\n",
    "\n",
    "# Print out the mean absolute error (mae)\n",
    "print('Mean Absolute Error:', round(np.mean(errors), 2), 'kWh.')"
   ]
  },
  {
   "cell_type": "code",
   "execution_count": null,
   "metadata": {
    "collapsed": true
   },
   "outputs": [],
   "source": [
    "score = rf.score(test_data, test_y_a)\n",
    "print(score)"
   ]
  },
  {
   "cell_type": "markdown",
   "metadata": {},
   "source": [
    "#### Results of Parameter Setting 3\n",
    "The results from the third choice in parameters (n_estimators=50, max_features=20%, and oob_score set to true) had a slightly lower accuracy of 98.0%. With n_estimators set at 50 the regression will use 50 trees. More trees increases accuracy but slows the code down. Max_features limits the number of feartures that are allowed to try in each tree. Setting the oob_score at true tags each observation that is in different trees. Then for every tree that doesn't use a particular observation, it finds the maximum score."
   ]
  },
  {
   "cell_type": "code",
   "execution_count": null,
   "metadata": {
    "collapsed": true
   },
   "outputs": [],
   "source": [
    "# Rerunning the second parameters for all future efforts\n",
    "\n",
    "# Instantiate model with 50 decision trees\n",
    "rf = RandomForestRegressor(n_estimators = 50, random_state = 42)\n",
    "\n",
    "# Train the model on training data\n",
    "rf.fit(train_data, train_y_a);\n",
    "\n",
    "# Use the forest's predict method on the test data\n",
    "predictions = rf.predict(test_data)\n",
    "\n",
    "# Calculate the absolute errors\n",
    "errors = abs(predictions - test_y_a)\n",
    "\n",
    "# Print out the mean absolute error (mae)\n",
    "print('Mean Absolute Error:', round(np.mean(errors), 2), 'kWh.')"
   ]
  },
  {
   "cell_type": "code",
   "execution_count": null,
   "metadata": {
    "collapsed": true
   },
   "outputs": [],
   "source": [
    "score = rf.score(test_data, test_y_a)\n",
    "print(score)"
   ]
  },
  {
   "cell_type": "code",
   "execution_count": null,
   "metadata": {
    "collapsed": true
   },
   "outputs": [],
   "source": [
    "# Get numerical feature importances\n",
    "importances = list(rf.feature_importances_)\n",
    "\n",
    "# List of tuples with variable and importance\n",
    "feature_importances = [(feature, round(importance, 2)) for feature, importance in zip(keepcols, importances)]\n",
    "\n",
    "# Sort the feature importances by most important first\n",
    "feature_importances = sorted(feature_importances, key = lambda x: x[1], reverse = True)\n",
    "\n",
    "\n",
    "# Print out the feature and importances \n",
    "[print('Variable: {:20} Importance: {}'.format(*pair)) for pair in feature_importances];"
   ]
  },
  {
   "cell_type": "code",
   "execution_count": null,
   "metadata": {
    "collapsed": true
   },
   "outputs": [],
   "source": [
    "pylab.bar (keepcols, rf.feature_importances_, 1/4)\n",
    "\n",
    "pylab.xticks(keepcols, rotation='vertical')\n",
    "pylab.ylabel('Importance'); pylab.xlabel('Variable'); pylab.title('Variable Importances');\n",
    "pylab.show()"
   ]
  },
  {
   "cell_type": "markdown",
   "metadata": {},
   "source": [
    "Analyze the results using your chosen method of evaluation. Use\n",
    "visualizations of the results to bolster the analysis. Explain any visuals and analyze why\n",
    "they are interesting to someone that might use this model."
   ]
  },
  {
   "cell_type": "markdown",
   "metadata": {},
   "source": [
    "\n",
    "# Regression Models: Conclusion\n",
    "\n",
    "We chose three different regression techniques to predict the power production of a turbine. The three techniques utilized were K Nearest Neighbors regression, Random Forest Regression, and polynomial regression. We evaluated the performance of each model using the R-squared metric. The models and their associated R-squred is listed below.\n",
    "\n",
    "* **KNN Regression** - R-squared: 0.9274\n",
    "* **Random Forest** - R-squared: 0.9833\n",
    "* **Polynomial Regression** - R-squared: 0.99\n",
    "\n",
    "Using the R-squared metric the best model was the polynomial regression. Although the random-forest had a very similar R-squared. Both models should perform well when deployed in terms of speed. "
   ]
  },
  {
   "cell_type": "markdown",
   "metadata": {
    "collapsed": true
   },
   "source": [
    "# Deployment [5 Points]\n",
    "These models are very important to the company to find turbines that are underperforming. There are so many factors that affect turbine performance that the analysis is very difficult to do with traditional techniques. The best way to estimate the model value would be to calculate the cost savings of flagging turbines that need to be fixed. There is potentially a lot of money being wasted by not running the assets at their full potential. I would deploy the model as a residual time series after training the model on the first year of operation. This will capture the turbines presitine state and be able to show drifts downward due to gradual blade erosion. A threshold can be set to trigger an alarm after so many points beyond the threshold. The data presented in this report is being collected on a real time basis so no large changes in how data is collected is needed to take this model to production. "
   ]
  },
  {
   "cell_type": "markdown",
   "metadata": {},
   "source": [
    "# Exceptional Work [10 Points]\n",
    "* PCA Analysis for KNN Regression\n",
    "* Grid Search for KNN Classifier\n",
    "* Feature importance for KNN classification.\n",
    "* 6 regression models\n",
    "* Polynomial version of linear regression with pipeline"
   ]
  },
  {
   "cell_type": "markdown",
   "metadata": {},
   "source": [
    "# END CASEY'S NOTEBOOK"
   ]
  },
  {
   "cell_type": "code",
   "execution_count": null,
   "metadata": {},
   "outputs": [],
   "source": []
  }
 ],
 "metadata": {
  "kernelspec": {
   "display_name": "Python 3",
   "language": "python",
   "name": "python3"
  },
  "language_info": {
   "codemirror_mode": {
    "name": "ipython",
    "version": 3
   },
   "file_extension": ".py",
   "mimetype": "text/x-python",
   "name": "python",
   "nbconvert_exporter": "python",
   "pygments_lexer": "ipython3",
   "version": "3.6.4"
  }
 },
 "nbformat": 4,
 "nbformat_minor": 2
}
