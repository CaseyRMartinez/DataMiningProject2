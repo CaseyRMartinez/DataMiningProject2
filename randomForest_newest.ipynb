{
 "cells": [
  {
   "cell_type": "markdown",
   "metadata": {},
   "source": [
    "# START SHERI'S NOTEBOOK"
   ]
  },
  {
   "cell_type": "code",
   "execution_count": 1,
   "metadata": {},
   "outputs": [],
   "source": [
    "import pandas as pd\n",
    "import numpy as np\n",
    "import os\n",
    "# import matplotlib.pyplot as plt\n",
    "import warnings\n",
    "import sklearn\n",
    "# import seaborn as sns\n",
    "warnings.simplefilter('ignore', DeprecationWarning)\n",
    "warnings.simplefilter('ignore', FutureWarning)\n",
    "from sklearn.metrics import accuracy_score, confusion_matrix\n",
    "from sklearn.model_selection import train_test_split\n",
    "from sklearn.preprocessing import Imputer\n",
    "from sklearn import preprocessing\n",
    "from sklearn import metrics as mt\n",
    "from sklearn.model_selection import GridSearchCV\n",
    "from sklearn.metrics import classification_report\n",
    "from sklearn.model_selection import ShuffleSplit\n",
    "from sklearn.model_selection import cross_val_score\n",
    "from sklearn import tree\n",
    "import pydotplus as plt\n",
    "import six\n",
    "from sklearn.tree import export_graphviz"
   ]
  },
  {
   "cell_type": "code",
   "execution_count": 2,
   "metadata": {},
   "outputs": [
    {
     "name": "stdout",
     "output_type": "stream",
     "text": [
      "DF scada is:  (52462, 1291)\n"
     ]
    },
    {
     "data": {
      "text/html": [
       "<div>\n",
       "<style scoped>\n",
       "    .dataframe tbody tr th:only-of-type {\n",
       "        vertical-align: middle;\n",
       "    }\n",
       "\n",
       "    .dataframe tbody tr th {\n",
       "        vertical-align: top;\n",
       "    }\n",
       "\n",
       "    .dataframe thead th {\n",
       "        text-align: right;\n",
       "    }\n",
       "</style>\n",
       "<table border=\"1\" class=\"dataframe\">\n",
       "  <thead>\n",
       "    <tr style=\"text-align: right;\">\n",
       "      <th></th>\n",
       "      <th>TimeStamp</th>\n",
       "      <th>StationId</th>\n",
       "      <th>wtc_VoltPhR_min</th>\n",
       "      <th>wtc_VoltPhR_max</th>\n",
       "      <th>wtc_VoltPhR_mean</th>\n",
       "      <th>wtc_VoltPhR_stddev</th>\n",
       "      <th>wtc_VoltPhS_min</th>\n",
       "      <th>wtc_VoltPhS_max</th>\n",
       "      <th>wtc_VoltPhS_mean</th>\n",
       "      <th>wtc_VoltPhS_stddev</th>\n",
       "      <th>...</th>\n",
       "      <th>wtc_TLC_SpeedRed_min</th>\n",
       "      <th>wtc_TLC_SpeedRed_max</th>\n",
       "      <th>wtc_TLC_SpeedRed_mean</th>\n",
       "      <th>wtc_TLC_SpeedRed_stddev</th>\n",
       "      <th>wtc_TLC_DeltaDay_min</th>\n",
       "      <th>wtc_TLC_DeltaDay_max</th>\n",
       "      <th>wtc_TLC_DeltaDay_mean</th>\n",
       "      <th>wtc_TLC_DeltaDay_stddev</th>\n",
       "      <th>wtc_OrStpDat_Status_endvalue</th>\n",
       "      <th>wtc_OrStpDat_LampStat_endvalue</th>\n",
       "    </tr>\n",
       "  </thead>\n",
       "  <tbody>\n",
       "    <tr>\n",
       "      <th>0</th>\n",
       "      <td>2017-01-01 00:00:00.000</td>\n",
       "      <td>2308974</td>\n",
       "      <td>399.3</td>\n",
       "      <td>402.4</td>\n",
       "      <td>400.4424</td>\n",
       "      <td>0.333343</td>\n",
       "      <td>399.4</td>\n",
       "      <td>402.0</td>\n",
       "      <td>400.7586</td>\n",
       "      <td>0.287372</td>\n",
       "      <td>...</td>\n",
       "      <td>NaN</td>\n",
       "      <td>NaN</td>\n",
       "      <td>NaN</td>\n",
       "      <td>NaN</td>\n",
       "      <td>NaN</td>\n",
       "      <td>NaN</td>\n",
       "      <td>NaN</td>\n",
       "      <td>NaN</td>\n",
       "      <td>Inactive</td>\n",
       "      <td>NotInst.</td>\n",
       "    </tr>\n",
       "    <tr>\n",
       "      <th>1</th>\n",
       "      <td>2017-01-01 00:10:00.000</td>\n",
       "      <td>2308974</td>\n",
       "      <td>398.2</td>\n",
       "      <td>401.2</td>\n",
       "      <td>399.2965</td>\n",
       "      <td>0.427948</td>\n",
       "      <td>397.8</td>\n",
       "      <td>401.0</td>\n",
       "      <td>399.6236</td>\n",
       "      <td>0.450038</td>\n",
       "      <td>...</td>\n",
       "      <td>NaN</td>\n",
       "      <td>NaN</td>\n",
       "      <td>NaN</td>\n",
       "      <td>NaN</td>\n",
       "      <td>NaN</td>\n",
       "      <td>NaN</td>\n",
       "      <td>NaN</td>\n",
       "      <td>NaN</td>\n",
       "      <td>Inactive</td>\n",
       "      <td>NotInst.</td>\n",
       "    </tr>\n",
       "    <tr>\n",
       "      <th>2</th>\n",
       "      <td>2017-01-01 00:20:00.000</td>\n",
       "      <td>2308974</td>\n",
       "      <td>397.7</td>\n",
       "      <td>400.0</td>\n",
       "      <td>398.5997</td>\n",
       "      <td>0.283229</td>\n",
       "      <td>397.4</td>\n",
       "      <td>399.7</td>\n",
       "      <td>398.7689</td>\n",
       "      <td>0.277164</td>\n",
       "      <td>...</td>\n",
       "      <td>NaN</td>\n",
       "      <td>NaN</td>\n",
       "      <td>NaN</td>\n",
       "      <td>NaN</td>\n",
       "      <td>NaN</td>\n",
       "      <td>NaN</td>\n",
       "      <td>NaN</td>\n",
       "      <td>NaN</td>\n",
       "      <td>Inactive</td>\n",
       "      <td>NotInst.</td>\n",
       "    </tr>\n",
       "    <tr>\n",
       "      <th>3</th>\n",
       "      <td>2017-01-01 00:30:00.000</td>\n",
       "      <td>2308974</td>\n",
       "      <td>397.8</td>\n",
       "      <td>400.4</td>\n",
       "      <td>398.7805</td>\n",
       "      <td>0.315703</td>\n",
       "      <td>397.7</td>\n",
       "      <td>400.1</td>\n",
       "      <td>399.0097</td>\n",
       "      <td>0.317276</td>\n",
       "      <td>...</td>\n",
       "      <td>NaN</td>\n",
       "      <td>NaN</td>\n",
       "      <td>NaN</td>\n",
       "      <td>NaN</td>\n",
       "      <td>NaN</td>\n",
       "      <td>NaN</td>\n",
       "      <td>NaN</td>\n",
       "      <td>NaN</td>\n",
       "      <td>Inactive</td>\n",
       "      <td>NotInst.</td>\n",
       "    </tr>\n",
       "    <tr>\n",
       "      <th>4</th>\n",
       "      <td>2017-01-01 00:40:00.000</td>\n",
       "      <td>2308974</td>\n",
       "      <td>398.1</td>\n",
       "      <td>400.5</td>\n",
       "      <td>399.1493</td>\n",
       "      <td>0.326358</td>\n",
       "      <td>397.8</td>\n",
       "      <td>400.2</td>\n",
       "      <td>399.4183</td>\n",
       "      <td>0.313926</td>\n",
       "      <td>...</td>\n",
       "      <td>NaN</td>\n",
       "      <td>NaN</td>\n",
       "      <td>NaN</td>\n",
       "      <td>NaN</td>\n",
       "      <td>NaN</td>\n",
       "      <td>NaN</td>\n",
       "      <td>NaN</td>\n",
       "      <td>NaN</td>\n",
       "      <td>Inactive</td>\n",
       "      <td>NotInst.</td>\n",
       "    </tr>\n",
       "  </tbody>\n",
       "</table>\n",
       "<p>5 rows × 1291 columns</p>\n",
       "</div>"
      ],
      "text/plain": [
       "                 TimeStamp  StationId  wtc_VoltPhR_min  wtc_VoltPhR_max  \\\n",
       "0  2017-01-01 00:00:00.000    2308974            399.3            402.4   \n",
       "1  2017-01-01 00:10:00.000    2308974            398.2            401.2   \n",
       "2  2017-01-01 00:20:00.000    2308974            397.7            400.0   \n",
       "3  2017-01-01 00:30:00.000    2308974            397.8            400.4   \n",
       "4  2017-01-01 00:40:00.000    2308974            398.1            400.5   \n",
       "\n",
       "   wtc_VoltPhR_mean  wtc_VoltPhR_stddev  wtc_VoltPhS_min  wtc_VoltPhS_max  \\\n",
       "0          400.4424            0.333343            399.4            402.0   \n",
       "1          399.2965            0.427948            397.8            401.0   \n",
       "2          398.5997            0.283229            397.4            399.7   \n",
       "3          398.7805            0.315703            397.7            400.1   \n",
       "4          399.1493            0.326358            397.8            400.2   \n",
       "\n",
       "   wtc_VoltPhS_mean  wtc_VoltPhS_stddev               ...                \\\n",
       "0          400.7586            0.287372               ...                 \n",
       "1          399.6236            0.450038               ...                 \n",
       "2          398.7689            0.277164               ...                 \n",
       "3          399.0097            0.317276               ...                 \n",
       "4          399.4183            0.313926               ...                 \n",
       "\n",
       "   wtc_TLC_SpeedRed_min  wtc_TLC_SpeedRed_max  wtc_TLC_SpeedRed_mean  \\\n",
       "0                   NaN                   NaN                    NaN   \n",
       "1                   NaN                   NaN                    NaN   \n",
       "2                   NaN                   NaN                    NaN   \n",
       "3                   NaN                   NaN                    NaN   \n",
       "4                   NaN                   NaN                    NaN   \n",
       "\n",
       "   wtc_TLC_SpeedRed_stddev  wtc_TLC_DeltaDay_min  wtc_TLC_DeltaDay_max  \\\n",
       "0                      NaN                   NaN                   NaN   \n",
       "1                      NaN                   NaN                   NaN   \n",
       "2                      NaN                   NaN                   NaN   \n",
       "3                      NaN                   NaN                   NaN   \n",
       "4                      NaN                   NaN                   NaN   \n",
       "\n",
       "   wtc_TLC_DeltaDay_mean  wtc_TLC_DeltaDay_stddev  \\\n",
       "0                    NaN                      NaN   \n",
       "1                    NaN                      NaN   \n",
       "2                    NaN                      NaN   \n",
       "3                    NaN                      NaN   \n",
       "4                    NaN                      NaN   \n",
       "\n",
       "   wtc_OrStpDat_Status_endvalue  wtc_OrStpDat_LampStat_endvalue  \n",
       "0                      Inactive                        NotInst.  \n",
       "1                      Inactive                        NotInst.  \n",
       "2                      Inactive                        NotInst.  \n",
       "3                      Inactive                        NotInst.  \n",
       "4                      Inactive                        NotInst.  \n",
       "\n",
       "[5 rows x 1291 columns]"
      ]
     },
     "execution_count": 2,
     "metadata": {},
     "output_type": "execute_result"
    }
   ],
   "source": [
    "\n",
    "path  =  \"C:\\\\Users\\\\sheri\\\\Documents\\\\Data Science\\\\Data Mining\\\\Homework/Project 1\\\\DataMiningProject2-master\\\\\" \n",
    "scada =  pd.read_csv(path + \"SCADAcombined2017_T014.csv\")\n",
    "alarms_desc = pd.read_csv(path + \"Siemens_Fault_Code_Descriptions.csv\")\n",
    "print(\"DF scada is: \", scada.shape)\n",
    "scada.head()"
   ]
  },
  {
   "cell_type": "code",
   "execution_count": 3,
   "metadata": {},
   "outputs": [],
   "source": [
    "scada.dropna(thresh=10000,axis=1,inplace=True)\n",
    "\n",
    "colsdrop = ['StationId', 'CommunicationId', 'NeighbourId',\n",
    "           'NeighbourIdTwo', 'XPos', 'YPos', 'wtc_ActPower_min',\n",
    "           'wtc_ActPower_max', 'wtc_ActPower_stddev',\n",
    "           'wtc_AmpPhR_min', 'wtc_AmpPhR_max', 'wtc_AmpPhR_mean',\n",
    "           'wtc_AmpPhR_stddev', 'wtc_AmpPhS_min', 'wtc_AmpPhS_max',\n",
    "           'wtc_AmpPhS_mean', 'wtc_AmpPhS_stddev', 'wtc_AmpPhT_min',\n",
    "           'wtc_AmpPhT_max', 'wtc_AmpPhT_mean', 'wtc_AmpPhT_stddev',\n",
    "           'wtc_RawPower_min', 'wtc_RawPower_max', 'wtc_RawPower_mean',\n",
    "           'wtc_RawPower_stddev', 'wtc_GenRpm_mean',\n",
    "           'wtc_MainSRpm_mean', 'wtc_PitchRef_BladeA_mean',\n",
    "           'wtc_PitchRef_BladeB_mean', 'wtc_PitchRef_BladeC_mean','wtc_TwrHumid_mean', \n",
    "            'wtc_PitcPosA_mean','wtc_PitcPosB_mean', 'wtc_PitcPosC_mean','wtc_BoostKWh_endvalue',\n",
    "           'wtc_GeOilTmp_mean','wtc_HubTemp_mean','wtc_NacelTmp_mean','wtc_ConvWTmp_mean',\n",
    "           'wtc_MainBTmp_mean','WindDir_Angle_3D_Avg','WindDir_Angle_3D_Std','WindDir_Angle_3D_Avg',\n",
    "           'WindDir_Angle_3D_Std']\n",
    "\n",
    "scada.drop(colsdrop,axis=1,inplace=True)"
   ]
  },
  {
   "cell_type": "code",
   "execution_count": 4,
   "metadata": {
    "scrolled": true
   },
   "outputs": [
    {
     "name": "stdout",
     "output_type": "stream",
     "text": [
      "(52751, 649)\n"
     ]
    },
    {
     "data": {
      "text/html": [
       "<div>\n",
       "<style scoped>\n",
       "    .dataframe tbody tr th:only-of-type {\n",
       "        vertical-align: middle;\n",
       "    }\n",
       "\n",
       "    .dataframe tbody tr th {\n",
       "        vertical-align: top;\n",
       "    }\n",
       "\n",
       "    .dataframe thead th {\n",
       "        text-align: right;\n",
       "    }\n",
       "</style>\n",
       "<table border=\"1\" class=\"dataframe\">\n",
       "  <thead>\n",
       "    <tr style=\"text-align: right;\">\n",
       "      <th></th>\n",
       "      <th>count</th>\n",
       "      <th>mean</th>\n",
       "      <th>std</th>\n",
       "      <th>min</th>\n",
       "      <th>25%</th>\n",
       "      <th>50%</th>\n",
       "      <th>75%</th>\n",
       "      <th>max</th>\n",
       "    </tr>\n",
       "  </thead>\n",
       "  <tbody>\n",
       "    <tr>\n",
       "      <th>wtc_VoltPhR_min</th>\n",
       "      <td>52751.0</td>\n",
       "      <td>3.970191e+02</td>\n",
       "      <td>10.366360</td>\n",
       "      <td>2.000000e-01</td>\n",
       "      <td>3.945000e+02</td>\n",
       "      <td>3.967000e+02</td>\n",
       "      <td>3.996000e+02</td>\n",
       "      <td>4.253000e+02</td>\n",
       "    </tr>\n",
       "    <tr>\n",
       "      <th>wtc_VoltPhR_max</th>\n",
       "      <td>52751.0</td>\n",
       "      <td>4.001382e+02</td>\n",
       "      <td>8.698037</td>\n",
       "      <td>5.000000e-01</td>\n",
       "      <td>3.974000e+02</td>\n",
       "      <td>3.998000e+02</td>\n",
       "      <td>4.028000e+02</td>\n",
       "      <td>4.371000e+02</td>\n",
       "    </tr>\n",
       "    <tr>\n",
       "      <th>wtc_VoltPhR_mean</th>\n",
       "      <td>52751.0</td>\n",
       "      <td>3.981882e+02</td>\n",
       "      <td>8.849722</td>\n",
       "      <td>3.167467e-01</td>\n",
       "      <td>3.954531e+02</td>\n",
       "      <td>3.978480e+02</td>\n",
       "      <td>4.007914e+02</td>\n",
       "      <td>4.323134e+02</td>\n",
       "    </tr>\n",
       "    <tr>\n",
       "      <th>wtc_VoltPhR_stddev</th>\n",
       "      <td>52751.0</td>\n",
       "      <td>3.678904e-01</td>\n",
       "      <td>2.450194</td>\n",
       "      <td>6.156275e-02</td>\n",
       "      <td>2.721381e-01</td>\n",
       "      <td>3.036560e-01</td>\n",
       "      <td>3.501088e-01</td>\n",
       "      <td>2.042891e+02</td>\n",
       "    </tr>\n",
       "    <tr>\n",
       "      <th>wtc_VoltPhS_min</th>\n",
       "      <td>52751.0</td>\n",
       "      <td>3.967500e+02</td>\n",
       "      <td>10.350673</td>\n",
       "      <td>2.000000e-01</td>\n",
       "      <td>3.942000e+02</td>\n",
       "      <td>3.964000e+02</td>\n",
       "      <td>3.994000e+02</td>\n",
       "      <td>4.246000e+02</td>\n",
       "    </tr>\n",
       "    <tr>\n",
       "      <th>wtc_VoltPhS_max</th>\n",
       "      <td>52751.0</td>\n",
       "      <td>3.998094e+02</td>\n",
       "      <td>8.727320</td>\n",
       "      <td>5.000000e-01</td>\n",
       "      <td>3.971000e+02</td>\n",
       "      <td>3.995000e+02</td>\n",
       "      <td>4.025000e+02</td>\n",
       "      <td>4.361000e+02</td>\n",
       "    </tr>\n",
       "    <tr>\n",
       "      <th>wtc_VoltPhS_mean</th>\n",
       "      <td>52751.0</td>\n",
       "      <td>3.982932e+02</td>\n",
       "      <td>8.871922</td>\n",
       "      <td>3.025900e-01</td>\n",
       "      <td>3.955532e+02</td>\n",
       "      <td>3.979573e+02</td>\n",
       "      <td>4.009250e+02</td>\n",
       "      <td>4.318290e+02</td>\n",
       "    </tr>\n",
       "    <tr>\n",
       "      <th>wtc_VoltPhS_stddev</th>\n",
       "      <td>52751.0</td>\n",
       "      <td>3.444133e-01</td>\n",
       "      <td>2.448778</td>\n",
       "      <td>6.254655e-02</td>\n",
       "      <td>2.410050e-01</td>\n",
       "      <td>2.802810e-01</td>\n",
       "      <td>3.329168e-01</td>\n",
       "      <td>2.040560e+02</td>\n",
       "    </tr>\n",
       "    <tr>\n",
       "      <th>wtc_VoltPhT_min</th>\n",
       "      <td>52751.0</td>\n",
       "      <td>3.975466e+02</td>\n",
       "      <td>10.183507</td>\n",
       "      <td>1.000000e-01</td>\n",
       "      <td>3.956000e+02</td>\n",
       "      <td>3.974000e+02</td>\n",
       "      <td>3.997000e+02</td>\n",
       "      <td>4.258000e+02</td>\n",
       "    </tr>\n",
       "    <tr>\n",
       "      <th>wtc_VoltPhT_max</th>\n",
       "      <td>52751.0</td>\n",
       "      <td>4.001817e+02</td>\n",
       "      <td>8.478538</td>\n",
       "      <td>5.000000e-01</td>\n",
       "      <td>3.979000e+02</td>\n",
       "      <td>4.000000e+02</td>\n",
       "      <td>4.023000e+02</td>\n",
       "      <td>4.374000e+02</td>\n",
       "    </tr>\n",
       "    <tr>\n",
       "      <th>wtc_VoltPhT_mean</th>\n",
       "      <td>52751.0</td>\n",
       "      <td>3.987194e+02</td>\n",
       "      <td>8.630688</td>\n",
       "      <td>3.182817e-01</td>\n",
       "      <td>3.965497e+02</td>\n",
       "      <td>3.985000e+02</td>\n",
       "      <td>4.008564e+02</td>\n",
       "      <td>4.329403e+02</td>\n",
       "    </tr>\n",
       "    <tr>\n",
       "      <th>wtc_VoltPhT_stddev</th>\n",
       "      <td>52751.0</td>\n",
       "      <td>3.062280e-01</td>\n",
       "      <td>2.454498</td>\n",
       "      <td>6.229768e-02</td>\n",
       "      <td>2.114200e-01</td>\n",
       "      <td>2.420261e-01</td>\n",
       "      <td>2.885218e-01</td>\n",
       "      <td>2.046125e+02</td>\n",
       "    </tr>\n",
       "    <tr>\n",
       "      <th>wtc_ActPower_mean</th>\n",
       "      <td>52751.0</td>\n",
       "      <td>9.005992e+02</td>\n",
       "      <td>743.261760</td>\n",
       "      <td>-3.918627e+01</td>\n",
       "      <td>2.216713e+02</td>\n",
       "      <td>7.707056e+02</td>\n",
       "      <td>1.475140e+03</td>\n",
       "      <td>2.423161e+03</td>\n",
       "    </tr>\n",
       "    <tr>\n",
       "      <th>wtc_CosPhi_min</th>\n",
       "      <td>52751.0</td>\n",
       "      <td>6.216466e-01</td>\n",
       "      <td>0.456699</td>\n",
       "      <td>-9.400000e-01</td>\n",
       "      <td>2.800000e-01</td>\n",
       "      <td>8.800000e-01</td>\n",
       "      <td>9.800000e-01</td>\n",
       "      <td>1.000000e+00</td>\n",
       "    </tr>\n",
       "    <tr>\n",
       "      <th>wtc_CosPhi_max</th>\n",
       "      <td>52751.0</td>\n",
       "      <td>7.985045e-01</td>\n",
       "      <td>0.343550</td>\n",
       "      <td>-5.700000e-01</td>\n",
       "      <td>8.000000e-01</td>\n",
       "      <td>9.700000e-01</td>\n",
       "      <td>9.900000e-01</td>\n",
       "      <td>1.000000e+00</td>\n",
       "    </tr>\n",
       "    <tr>\n",
       "      <th>wtc_CosPhi_mean</th>\n",
       "      <td>52751.0</td>\n",
       "      <td>7.219178e-01</td>\n",
       "      <td>0.387831</td>\n",
       "      <td>-6.605850e-01</td>\n",
       "      <td>5.874289e-01</td>\n",
       "      <td>9.340727e-01</td>\n",
       "      <td>9.883777e-01</td>\n",
       "      <td>1.000000e+00</td>\n",
       "    </tr>\n",
       "    <tr>\n",
       "      <th>wtc_CosPhi_stddev</th>\n",
       "      <td>52751.0</td>\n",
       "      <td>4.420686e-02</td>\n",
       "      <td>0.074556</td>\n",
       "      <td>0.000000e+00</td>\n",
       "      <td>3.588269e-03</td>\n",
       "      <td>1.171527e-02</td>\n",
       "      <td>5.355125e-02</td>\n",
       "      <td>8.425549e-01</td>\n",
       "    </tr>\n",
       "    <tr>\n",
       "      <th>wtc_GridFreq_min</th>\n",
       "      <td>52751.0</td>\n",
       "      <td>5.989216e+01</td>\n",
       "      <td>1.452482</td>\n",
       "      <td>0.000000e+00</td>\n",
       "      <td>5.991000e+01</td>\n",
       "      <td>5.993000e+01</td>\n",
       "      <td>5.994000e+01</td>\n",
       "      <td>6.000000e+01</td>\n",
       "    </tr>\n",
       "    <tr>\n",
       "      <th>wtc_GridFreq_max</th>\n",
       "      <td>52751.0</td>\n",
       "      <td>6.003377e+01</td>\n",
       "      <td>1.169353</td>\n",
       "      <td>0.000000e+00</td>\n",
       "      <td>6.004000e+01</td>\n",
       "      <td>6.005000e+01</td>\n",
       "      <td>6.007000e+01</td>\n",
       "      <td>6.116000e+01</td>\n",
       "    </tr>\n",
       "    <tr>\n",
       "      <th>wtc_GridFreq_mean</th>\n",
       "      <td>52751.0</td>\n",
       "      <td>5.996667e+01</td>\n",
       "      <td>1.208092</td>\n",
       "      <td>0.000000e+00</td>\n",
       "      <td>5.998858e+01</td>\n",
       "      <td>5.999340e+01</td>\n",
       "      <td>5.999819e+01</td>\n",
       "      <td>6.003741e+01</td>\n",
       "    </tr>\n",
       "    <tr>\n",
       "      <th>wtc_GridFreq_stddev</th>\n",
       "      <td>52751.0</td>\n",
       "      <td>2.445344e-02</td>\n",
       "      <td>0.362046</td>\n",
       "      <td>0.000000e+00</td>\n",
       "      <td>1.606636e-02</td>\n",
       "      <td>1.888649e-02</td>\n",
       "      <td>2.235475e-02</td>\n",
       "      <td>2.965682e+01</td>\n",
       "    </tr>\n",
       "    <tr>\n",
       "      <th>wtc_ReactPwr_min</th>\n",
       "      <td>52751.0</td>\n",
       "      <td>-2.748304e+02</td>\n",
       "      <td>154.035440</td>\n",
       "      <td>-1.251000e+03</td>\n",
       "      <td>-3.670000e+02</td>\n",
       "      <td>-2.910000e+02</td>\n",
       "      <td>-1.850000e+02</td>\n",
       "      <td>2.240000e+02</td>\n",
       "    </tr>\n",
       "    <tr>\n",
       "      <th>wtc_ReactPwr_max</th>\n",
       "      <td>52751.0</td>\n",
       "      <td>-1.547247e+02</td>\n",
       "      <td>170.949806</td>\n",
       "      <td>-7.960000e+02</td>\n",
       "      <td>-2.700000e+02</td>\n",
       "      <td>-1.720000e+02</td>\n",
       "      <td>-5.500000e+01</td>\n",
       "      <td>1.170000e+03</td>\n",
       "    </tr>\n",
       "    <tr>\n",
       "      <th>wtc_ReactPwr_mean</th>\n",
       "      <td>52751.0</td>\n",
       "      <td>-2.247734e+02</td>\n",
       "      <td>149.270560</td>\n",
       "      <td>-8.273476e+02</td>\n",
       "      <td>-3.173658e+02</td>\n",
       "      <td>-2.418148e+02</td>\n",
       "      <td>-1.344842e+02</td>\n",
       "      <td>2.714112e+02</td>\n",
       "    </tr>\n",
       "    <tr>\n",
       "      <th>wtc_ReactPwr_stddev</th>\n",
       "      <td>52751.0</td>\n",
       "      <td>1.691746e+01</td>\n",
       "      <td>14.247728</td>\n",
       "      <td>0.000000e+00</td>\n",
       "      <td>7.931216e+00</td>\n",
       "      <td>1.314984e+01</td>\n",
       "      <td>2.201485e+01</td>\n",
       "      <td>4.464784e+02</td>\n",
       "    </tr>\n",
       "    <tr>\n",
       "      <th>StationId.1</th>\n",
       "      <td>52751.0</td>\n",
       "      <td>2.308974e+06</td>\n",
       "      <td>0.000000</td>\n",
       "      <td>2.308974e+06</td>\n",
       "      <td>2.308974e+06</td>\n",
       "      <td>2.308974e+06</td>\n",
       "      <td>2.308974e+06</td>\n",
       "      <td>2.308974e+06</td>\n",
       "    </tr>\n",
       "    <tr>\n",
       "      <th>wtc_SecAnemo_min</th>\n",
       "      <td>52751.0</td>\n",
       "      <td>4.475714e+00</td>\n",
       "      <td>2.720988</td>\n",
       "      <td>0.000000e+00</td>\n",
       "      <td>2.300000e+00</td>\n",
       "      <td>4.400000e+00</td>\n",
       "      <td>6.600000e+00</td>\n",
       "      <td>1.450000e+01</td>\n",
       "    </tr>\n",
       "    <tr>\n",
       "      <th>wtc_SecAnemo_max</th>\n",
       "      <td>52751.0</td>\n",
       "      <td>9.611511e+00</td>\n",
       "      <td>4.002744</td>\n",
       "      <td>0.000000e+00</td>\n",
       "      <td>6.700000e+00</td>\n",
       "      <td>9.800000e+00</td>\n",
       "      <td>1.250000e+01</td>\n",
       "      <td>3.190000e+01</td>\n",
       "    </tr>\n",
       "    <tr>\n",
       "      <th>wtc_SecAnemo_mean</th>\n",
       "      <td>52751.0</td>\n",
       "      <td>6.987599e+00</td>\n",
       "      <td>3.274412</td>\n",
       "      <td>0.000000e+00</td>\n",
       "      <td>4.528833e+00</td>\n",
       "      <td>7.120262e+00</td>\n",
       "      <td>9.498176e+00</td>\n",
       "      <td>2.196421e+01</td>\n",
       "    </tr>\n",
       "    <tr>\n",
       "      <th>wtc_SecAnemo_stddev</th>\n",
       "      <td>52751.0</td>\n",
       "      <td>9.120469e-01</td>\n",
       "      <td>0.449436</td>\n",
       "      <td>0.000000e+00</td>\n",
       "      <td>5.803483e-01</td>\n",
       "      <td>8.693831e-01</td>\n",
       "      <td>1.167493e+00</td>\n",
       "      <td>6.366586e+00</td>\n",
       "    </tr>\n",
       "    <tr>\n",
       "      <th>...</th>\n",
       "      <td>...</td>\n",
       "      <td>...</td>\n",
       "      <td>...</td>\n",
       "      <td>...</td>\n",
       "      <td>...</td>\n",
       "      <td>...</td>\n",
       "      <td>...</td>\n",
       "      <td>...</td>\n",
       "    </tr>\n",
       "    <tr>\n",
       "      <th>wtc_OilCoByp_endvalue</th>\n",
       "      <td>52751.0</td>\n",
       "      <td>5.307956e-03</td>\n",
       "      <td>0.072663</td>\n",
       "      <td>0.000000e+00</td>\n",
       "      <td>0.000000e+00</td>\n",
       "      <td>0.000000e+00</td>\n",
       "      <td>0.000000e+00</td>\n",
       "      <td>1.000000e+00</td>\n",
       "    </tr>\n",
       "    <tr>\n",
       "      <th>wtc_OilCoByp_timeon</th>\n",
       "      <td>52751.0</td>\n",
       "      <td>3.250953e+00</td>\n",
       "      <td>43.363754</td>\n",
       "      <td>0.000000e+00</td>\n",
       "      <td>0.000000e+00</td>\n",
       "      <td>0.000000e+00</td>\n",
       "      <td>0.000000e+00</td>\n",
       "      <td>6.000000e+02</td>\n",
       "    </tr>\n",
       "    <tr>\n",
       "      <th>wtc_PitchByp_counts</th>\n",
       "      <td>52751.0</td>\n",
       "      <td>8.437622e+00</td>\n",
       "      <td>3.253972</td>\n",
       "      <td>0.000000e+00</td>\n",
       "      <td>7.000000e+00</td>\n",
       "      <td>7.000000e+00</td>\n",
       "      <td>9.000000e+00</td>\n",
       "      <td>2.800000e+01</td>\n",
       "    </tr>\n",
       "    <tr>\n",
       "      <th>wtc_PitchByp_endvalue</th>\n",
       "      <td>52751.0</td>\n",
       "      <td>1.020075e-01</td>\n",
       "      <td>0.302661</td>\n",
       "      <td>0.000000e+00</td>\n",
       "      <td>0.000000e+00</td>\n",
       "      <td>0.000000e+00</td>\n",
       "      <td>0.000000e+00</td>\n",
       "      <td>1.000000e+00</td>\n",
       "    </tr>\n",
       "    <tr>\n",
       "      <th>wtc_PitchByp_timeon</th>\n",
       "      <td>52751.0</td>\n",
       "      <td>6.120851e+01</td>\n",
       "      <td>31.042674</td>\n",
       "      <td>0.000000e+00</td>\n",
       "      <td>4.400000e+01</td>\n",
       "      <td>5.100000e+01</td>\n",
       "      <td>7.100000e+01</td>\n",
       "      <td>5.500000e+02</td>\n",
       "    </tr>\n",
       "    <tr>\n",
       "      <th>wtc_PitchPum_counts</th>\n",
       "      <td>52751.0</td>\n",
       "      <td>9.364751e-03</td>\n",
       "      <td>0.150158</td>\n",
       "      <td>0.000000e+00</td>\n",
       "      <td>0.000000e+00</td>\n",
       "      <td>0.000000e+00</td>\n",
       "      <td>0.000000e+00</td>\n",
       "      <td>4.000000e+00</td>\n",
       "    </tr>\n",
       "    <tr>\n",
       "      <th>wtc_PitchPum_endvalue</th>\n",
       "      <td>52751.0</td>\n",
       "      <td>9.636405e-01</td>\n",
       "      <td>0.187185</td>\n",
       "      <td>0.000000e+00</td>\n",
       "      <td>1.000000e+00</td>\n",
       "      <td>1.000000e+00</td>\n",
       "      <td>1.000000e+00</td>\n",
       "      <td>1.000000e+00</td>\n",
       "    </tr>\n",
       "    <tr>\n",
       "      <th>wtc_PitchPum_timeon</th>\n",
       "      <td>52751.0</td>\n",
       "      <td>5.781651e+02</td>\n",
       "      <td>110.469602</td>\n",
       "      <td>0.000000e+00</td>\n",
       "      <td>6.000000e+02</td>\n",
       "      <td>6.000000e+02</td>\n",
       "      <td>6.000000e+02</td>\n",
       "      <td>6.000000e+02</td>\n",
       "    </tr>\n",
       "    <tr>\n",
       "      <th>wtc_PWMEnabl_counts</th>\n",
       "      <td>52751.0</td>\n",
       "      <td>8.852913e-03</td>\n",
       "      <td>0.180619</td>\n",
       "      <td>0.000000e+00</td>\n",
       "      <td>0.000000e+00</td>\n",
       "      <td>0.000000e+00</td>\n",
       "      <td>0.000000e+00</td>\n",
       "      <td>5.000000e+00</td>\n",
       "    </tr>\n",
       "    <tr>\n",
       "      <th>wtc_PWMEnabl_endvalue</th>\n",
       "      <td>52751.0</td>\n",
       "      <td>9.631476e-01</td>\n",
       "      <td>0.188401</td>\n",
       "      <td>0.000000e+00</td>\n",
       "      <td>1.000000e+00</td>\n",
       "      <td>1.000000e+00</td>\n",
       "      <td>1.000000e+00</td>\n",
       "      <td>1.000000e+00</td>\n",
       "    </tr>\n",
       "    <tr>\n",
       "      <th>wtc_PWMEnabl_timeon</th>\n",
       "      <td>52751.0</td>\n",
       "      <td>5.778473e+02</td>\n",
       "      <td>111.376167</td>\n",
       "      <td>0.000000e+00</td>\n",
       "      <td>6.000000e+02</td>\n",
       "      <td>6.000000e+02</td>\n",
       "      <td>6.000000e+02</td>\n",
       "      <td>6.000000e+02</td>\n",
       "    </tr>\n",
       "    <tr>\n",
       "      <th>wtc_ResLight_counts</th>\n",
       "      <td>52751.0</td>\n",
       "      <td>0.000000e+00</td>\n",
       "      <td>0.000000</td>\n",
       "      <td>0.000000e+00</td>\n",
       "      <td>0.000000e+00</td>\n",
       "      <td>0.000000e+00</td>\n",
       "      <td>0.000000e+00</td>\n",
       "      <td>0.000000e+00</td>\n",
       "    </tr>\n",
       "    <tr>\n",
       "      <th>wtc_ResLight_endvalue</th>\n",
       "      <td>52751.0</td>\n",
       "      <td>0.000000e+00</td>\n",
       "      <td>0.000000</td>\n",
       "      <td>0.000000e+00</td>\n",
       "      <td>0.000000e+00</td>\n",
       "      <td>0.000000e+00</td>\n",
       "      <td>0.000000e+00</td>\n",
       "      <td>0.000000e+00</td>\n",
       "    </tr>\n",
       "    <tr>\n",
       "      <th>wtc_ResLight_timeon</th>\n",
       "      <td>52751.0</td>\n",
       "      <td>0.000000e+00</td>\n",
       "      <td>0.000000</td>\n",
       "      <td>0.000000e+00</td>\n",
       "      <td>0.000000e+00</td>\n",
       "      <td>0.000000e+00</td>\n",
       "      <td>0.000000e+00</td>\n",
       "      <td>0.000000e+00</td>\n",
       "    </tr>\n",
       "    <tr>\n",
       "      <th>wtc_SafPitch_counts</th>\n",
       "      <td>52751.0</td>\n",
       "      <td>8.871870e-03</td>\n",
       "      <td>0.180775</td>\n",
       "      <td>0.000000e+00</td>\n",
       "      <td>0.000000e+00</td>\n",
       "      <td>0.000000e+00</td>\n",
       "      <td>0.000000e+00</td>\n",
       "      <td>5.000000e+00</td>\n",
       "    </tr>\n",
       "    <tr>\n",
       "      <th>wtc_SafPitch_endvalue</th>\n",
       "      <td>52751.0</td>\n",
       "      <td>9.631855e-01</td>\n",
       "      <td>0.188308</td>\n",
       "      <td>0.000000e+00</td>\n",
       "      <td>1.000000e+00</td>\n",
       "      <td>1.000000e+00</td>\n",
       "      <td>1.000000e+00</td>\n",
       "      <td>1.000000e+00</td>\n",
       "    </tr>\n",
       "    <tr>\n",
       "      <th>wtc_SafPitch_timeon</th>\n",
       "      <td>52751.0</td>\n",
       "      <td>5.778737e+02</td>\n",
       "      <td>111.328134</td>\n",
       "      <td>0.000000e+00</td>\n",
       "      <td>6.000000e+02</td>\n",
       "      <td>6.000000e+02</td>\n",
       "      <td>6.000000e+02</td>\n",
       "      <td>6.000000e+02</td>\n",
       "    </tr>\n",
       "    <tr>\n",
       "      <th>StationId.9</th>\n",
       "      <td>52751.0</td>\n",
       "      <td>2.308974e+06</td>\n",
       "      <td>0.000000</td>\n",
       "      <td>2.308974e+06</td>\n",
       "      <td>2.308974e+06</td>\n",
       "      <td>2.308974e+06</td>\n",
       "      <td>2.308974e+06</td>\n",
       "      <td>2.308974e+06</td>\n",
       "    </tr>\n",
       "    <tr>\n",
       "      <th>wtc_ValSuppV_min</th>\n",
       "      <td>52751.0</td>\n",
       "      <td>2.326553e+01</td>\n",
       "      <td>4.762313</td>\n",
       "      <td>-7.100000e-02</td>\n",
       "      <td>2.422800e+01</td>\n",
       "      <td>2.424100e+01</td>\n",
       "      <td>2.424800e+01</td>\n",
       "      <td>2.427400e+01</td>\n",
       "    </tr>\n",
       "    <tr>\n",
       "      <th>wtc_ValSuppV_max</th>\n",
       "      <td>52751.0</td>\n",
       "      <td>2.346132e+01</td>\n",
       "      <td>4.389848</td>\n",
       "      <td>-2.400000e-02</td>\n",
       "      <td>2.427400e+01</td>\n",
       "      <td>2.428100e+01</td>\n",
       "      <td>2.429400e+01</td>\n",
       "      <td>2.447900e+01</td>\n",
       "    </tr>\n",
       "    <tr>\n",
       "      <th>wtc_ValSuppV_mean</th>\n",
       "      <td>52751.0</td>\n",
       "      <td>2.336977e+01</td>\n",
       "      <td>4.498795</td>\n",
       "      <td>-3.966897e-02</td>\n",
       "      <td>2.425238e+01</td>\n",
       "      <td>2.426118e+01</td>\n",
       "      <td>2.427153e+01</td>\n",
       "      <td>2.429090e+01</td>\n",
       "    </tr>\n",
       "    <tr>\n",
       "      <th>wtc_ValSuppV_stddev</th>\n",
       "      <td>52751.0</td>\n",
       "      <td>6.558870e-02</td>\n",
       "      <td>0.756764</td>\n",
       "      <td>2.310168e-03</td>\n",
       "      <td>6.691252e-03</td>\n",
       "      <td>6.928694e-03</td>\n",
       "      <td>7.180435e-03</td>\n",
       "      <td>1.213354e+01</td>\n",
       "    </tr>\n",
       "    <tr>\n",
       "      <th>wtc_AnaPiRef_min</th>\n",
       "      <td>52751.0</td>\n",
       "      <td>2.916529e+00</td>\n",
       "      <td>18.469964</td>\n",
       "      <td>-2.300000e+00</td>\n",
       "      <td>-2.300000e+00</td>\n",
       "      <td>-2.000000e+00</td>\n",
       "      <td>-1.500000e+00</td>\n",
       "      <td>9.700000e+01</td>\n",
       "    </tr>\n",
       "    <tr>\n",
       "      <th>wtc_AnaPiRef_max</th>\n",
       "      <td>52751.0</td>\n",
       "      <td>6.590186e+00</td>\n",
       "      <td>19.602837</td>\n",
       "      <td>-1.700000e+00</td>\n",
       "      <td>-1.100000e+00</td>\n",
       "      <td>-8.000000e-01</td>\n",
       "      <td>6.500000e+00</td>\n",
       "      <td>9.700000e+01</td>\n",
       "    </tr>\n",
       "    <tr>\n",
       "      <th>wtc_AnaPiRef_mean</th>\n",
       "      <td>52751.0</td>\n",
       "      <td>4.506608e+00</td>\n",
       "      <td>18.832830</td>\n",
       "      <td>-2.025300e+00</td>\n",
       "      <td>-1.784414e+00</td>\n",
       "      <td>-1.336440e+00</td>\n",
       "      <td>2.107374e+00</td>\n",
       "      <td>9.700000e+01</td>\n",
       "    </tr>\n",
       "    <tr>\n",
       "      <th>wtc_AnaPiRef_stddev</th>\n",
       "      <td>52751.0</td>\n",
       "      <td>1.020866e+00</td>\n",
       "      <td>3.108164</td>\n",
       "      <td>0.000000e+00</td>\n",
       "      <td>2.994851e-01</td>\n",
       "      <td>3.278345e-01</td>\n",
       "      <td>1.035064e+00</td>\n",
       "      <td>4.923854e+01</td>\n",
       "    </tr>\n",
       "    <tr>\n",
       "      <th>wtc_DataLink_RecvSec_min</th>\n",
       "      <td>52751.0</td>\n",
       "      <td>1.188078e+01</td>\n",
       "      <td>1.488868</td>\n",
       "      <td>0.000000e+00</td>\n",
       "      <td>1.120000e+01</td>\n",
       "      <td>1.200000e+01</td>\n",
       "      <td>1.280000e+01</td>\n",
       "      <td>1.800000e+01</td>\n",
       "    </tr>\n",
       "    <tr>\n",
       "      <th>wtc_DataLink_RecvSec_mean</th>\n",
       "      <td>52751.0</td>\n",
       "      <td>1.862047e+01</td>\n",
       "      <td>0.659721</td>\n",
       "      <td>2.234383e+00</td>\n",
       "      <td>1.825814e+01</td>\n",
       "      <td>1.851771e+01</td>\n",
       "      <td>1.911182e+01</td>\n",
       "      <td>1.948792e+01</td>\n",
       "    </tr>\n",
       "    <tr>\n",
       "      <th>wtc_DataLink_RecvSec_endvalue</th>\n",
       "      <td>52751.0</td>\n",
       "      <td>1.871896e+01</td>\n",
       "      <td>0.711422</td>\n",
       "      <td>1.140000e+01</td>\n",
       "      <td>1.840000e+01</td>\n",
       "      <td>1.880000e+01</td>\n",
       "      <td>1.920000e+01</td>\n",
       "      <td>2.040000e+01</td>\n",
       "    </tr>\n",
       "    <tr>\n",
       "      <th>Code</th>\n",
       "      <td>52751.0</td>\n",
       "      <td>2.367695e+03</td>\n",
       "      <td>11456.940309</td>\n",
       "      <td>0.000000e+00</td>\n",
       "      <td>0.000000e+00</td>\n",
       "      <td>0.000000e+00</td>\n",
       "      <td>0.000000e+00</td>\n",
       "      <td>6.411100e+04</td>\n",
       "    </tr>\n",
       "  </tbody>\n",
       "</table>\n",
       "<p>627 rows × 8 columns</p>\n",
       "</div>"
      ],
      "text/plain": [
       "                                 count          mean           std  \\\n",
       "wtc_VoltPhR_min                52751.0  3.970191e+02     10.366360   \n",
       "wtc_VoltPhR_max                52751.0  4.001382e+02      8.698037   \n",
       "wtc_VoltPhR_mean               52751.0  3.981882e+02      8.849722   \n",
       "wtc_VoltPhR_stddev             52751.0  3.678904e-01      2.450194   \n",
       "wtc_VoltPhS_min                52751.0  3.967500e+02     10.350673   \n",
       "wtc_VoltPhS_max                52751.0  3.998094e+02      8.727320   \n",
       "wtc_VoltPhS_mean               52751.0  3.982932e+02      8.871922   \n",
       "wtc_VoltPhS_stddev             52751.0  3.444133e-01      2.448778   \n",
       "wtc_VoltPhT_min                52751.0  3.975466e+02     10.183507   \n",
       "wtc_VoltPhT_max                52751.0  4.001817e+02      8.478538   \n",
       "wtc_VoltPhT_mean               52751.0  3.987194e+02      8.630688   \n",
       "wtc_VoltPhT_stddev             52751.0  3.062280e-01      2.454498   \n",
       "wtc_ActPower_mean              52751.0  9.005992e+02    743.261760   \n",
       "wtc_CosPhi_min                 52751.0  6.216466e-01      0.456699   \n",
       "wtc_CosPhi_max                 52751.0  7.985045e-01      0.343550   \n",
       "wtc_CosPhi_mean                52751.0  7.219178e-01      0.387831   \n",
       "wtc_CosPhi_stddev              52751.0  4.420686e-02      0.074556   \n",
       "wtc_GridFreq_min               52751.0  5.989216e+01      1.452482   \n",
       "wtc_GridFreq_max               52751.0  6.003377e+01      1.169353   \n",
       "wtc_GridFreq_mean              52751.0  5.996667e+01      1.208092   \n",
       "wtc_GridFreq_stddev            52751.0  2.445344e-02      0.362046   \n",
       "wtc_ReactPwr_min               52751.0 -2.748304e+02    154.035440   \n",
       "wtc_ReactPwr_max               52751.0 -1.547247e+02    170.949806   \n",
       "wtc_ReactPwr_mean              52751.0 -2.247734e+02    149.270560   \n",
       "wtc_ReactPwr_stddev            52751.0  1.691746e+01     14.247728   \n",
       "StationId.1                    52751.0  2.308974e+06      0.000000   \n",
       "wtc_SecAnemo_min               52751.0  4.475714e+00      2.720988   \n",
       "wtc_SecAnemo_max               52751.0  9.611511e+00      4.002744   \n",
       "wtc_SecAnemo_mean              52751.0  6.987599e+00      3.274412   \n",
       "wtc_SecAnemo_stddev            52751.0  9.120469e-01      0.449436   \n",
       "...                                ...           ...           ...   \n",
       "wtc_OilCoByp_endvalue          52751.0  5.307956e-03      0.072663   \n",
       "wtc_OilCoByp_timeon            52751.0  3.250953e+00     43.363754   \n",
       "wtc_PitchByp_counts            52751.0  8.437622e+00      3.253972   \n",
       "wtc_PitchByp_endvalue          52751.0  1.020075e-01      0.302661   \n",
       "wtc_PitchByp_timeon            52751.0  6.120851e+01     31.042674   \n",
       "wtc_PitchPum_counts            52751.0  9.364751e-03      0.150158   \n",
       "wtc_PitchPum_endvalue          52751.0  9.636405e-01      0.187185   \n",
       "wtc_PitchPum_timeon            52751.0  5.781651e+02    110.469602   \n",
       "wtc_PWMEnabl_counts            52751.0  8.852913e-03      0.180619   \n",
       "wtc_PWMEnabl_endvalue          52751.0  9.631476e-01      0.188401   \n",
       "wtc_PWMEnabl_timeon            52751.0  5.778473e+02    111.376167   \n",
       "wtc_ResLight_counts            52751.0  0.000000e+00      0.000000   \n",
       "wtc_ResLight_endvalue          52751.0  0.000000e+00      0.000000   \n",
       "wtc_ResLight_timeon            52751.0  0.000000e+00      0.000000   \n",
       "wtc_SafPitch_counts            52751.0  8.871870e-03      0.180775   \n",
       "wtc_SafPitch_endvalue          52751.0  9.631855e-01      0.188308   \n",
       "wtc_SafPitch_timeon            52751.0  5.778737e+02    111.328134   \n",
       "StationId.9                    52751.0  2.308974e+06      0.000000   \n",
       "wtc_ValSuppV_min               52751.0  2.326553e+01      4.762313   \n",
       "wtc_ValSuppV_max               52751.0  2.346132e+01      4.389848   \n",
       "wtc_ValSuppV_mean              52751.0  2.336977e+01      4.498795   \n",
       "wtc_ValSuppV_stddev            52751.0  6.558870e-02      0.756764   \n",
       "wtc_AnaPiRef_min               52751.0  2.916529e+00     18.469964   \n",
       "wtc_AnaPiRef_max               52751.0  6.590186e+00     19.602837   \n",
       "wtc_AnaPiRef_mean              52751.0  4.506608e+00     18.832830   \n",
       "wtc_AnaPiRef_stddev            52751.0  1.020866e+00      3.108164   \n",
       "wtc_DataLink_RecvSec_min       52751.0  1.188078e+01      1.488868   \n",
       "wtc_DataLink_RecvSec_mean      52751.0  1.862047e+01      0.659721   \n",
       "wtc_DataLink_RecvSec_endvalue  52751.0  1.871896e+01      0.711422   \n",
       "Code                           52751.0  2.367695e+03  11456.940309   \n",
       "\n",
       "                                        min           25%           50%  \\\n",
       "wtc_VoltPhR_min                2.000000e-01  3.945000e+02  3.967000e+02   \n",
       "wtc_VoltPhR_max                5.000000e-01  3.974000e+02  3.998000e+02   \n",
       "wtc_VoltPhR_mean               3.167467e-01  3.954531e+02  3.978480e+02   \n",
       "wtc_VoltPhR_stddev             6.156275e-02  2.721381e-01  3.036560e-01   \n",
       "wtc_VoltPhS_min                2.000000e-01  3.942000e+02  3.964000e+02   \n",
       "wtc_VoltPhS_max                5.000000e-01  3.971000e+02  3.995000e+02   \n",
       "wtc_VoltPhS_mean               3.025900e-01  3.955532e+02  3.979573e+02   \n",
       "wtc_VoltPhS_stddev             6.254655e-02  2.410050e-01  2.802810e-01   \n",
       "wtc_VoltPhT_min                1.000000e-01  3.956000e+02  3.974000e+02   \n",
       "wtc_VoltPhT_max                5.000000e-01  3.979000e+02  4.000000e+02   \n",
       "wtc_VoltPhT_mean               3.182817e-01  3.965497e+02  3.985000e+02   \n",
       "wtc_VoltPhT_stddev             6.229768e-02  2.114200e-01  2.420261e-01   \n",
       "wtc_ActPower_mean             -3.918627e+01  2.216713e+02  7.707056e+02   \n",
       "wtc_CosPhi_min                -9.400000e-01  2.800000e-01  8.800000e-01   \n",
       "wtc_CosPhi_max                -5.700000e-01  8.000000e-01  9.700000e-01   \n",
       "wtc_CosPhi_mean               -6.605850e-01  5.874289e-01  9.340727e-01   \n",
       "wtc_CosPhi_stddev              0.000000e+00  3.588269e-03  1.171527e-02   \n",
       "wtc_GridFreq_min               0.000000e+00  5.991000e+01  5.993000e+01   \n",
       "wtc_GridFreq_max               0.000000e+00  6.004000e+01  6.005000e+01   \n",
       "wtc_GridFreq_mean              0.000000e+00  5.998858e+01  5.999340e+01   \n",
       "wtc_GridFreq_stddev            0.000000e+00  1.606636e-02  1.888649e-02   \n",
       "wtc_ReactPwr_min              -1.251000e+03 -3.670000e+02 -2.910000e+02   \n",
       "wtc_ReactPwr_max              -7.960000e+02 -2.700000e+02 -1.720000e+02   \n",
       "wtc_ReactPwr_mean             -8.273476e+02 -3.173658e+02 -2.418148e+02   \n",
       "wtc_ReactPwr_stddev            0.000000e+00  7.931216e+00  1.314984e+01   \n",
       "StationId.1                    2.308974e+06  2.308974e+06  2.308974e+06   \n",
       "wtc_SecAnemo_min               0.000000e+00  2.300000e+00  4.400000e+00   \n",
       "wtc_SecAnemo_max               0.000000e+00  6.700000e+00  9.800000e+00   \n",
       "wtc_SecAnemo_mean              0.000000e+00  4.528833e+00  7.120262e+00   \n",
       "wtc_SecAnemo_stddev            0.000000e+00  5.803483e-01  8.693831e-01   \n",
       "...                                     ...           ...           ...   \n",
       "wtc_OilCoByp_endvalue          0.000000e+00  0.000000e+00  0.000000e+00   \n",
       "wtc_OilCoByp_timeon            0.000000e+00  0.000000e+00  0.000000e+00   \n",
       "wtc_PitchByp_counts            0.000000e+00  7.000000e+00  7.000000e+00   \n",
       "wtc_PitchByp_endvalue          0.000000e+00  0.000000e+00  0.000000e+00   \n",
       "wtc_PitchByp_timeon            0.000000e+00  4.400000e+01  5.100000e+01   \n",
       "wtc_PitchPum_counts            0.000000e+00  0.000000e+00  0.000000e+00   \n",
       "wtc_PitchPum_endvalue          0.000000e+00  1.000000e+00  1.000000e+00   \n",
       "wtc_PitchPum_timeon            0.000000e+00  6.000000e+02  6.000000e+02   \n",
       "wtc_PWMEnabl_counts            0.000000e+00  0.000000e+00  0.000000e+00   \n",
       "wtc_PWMEnabl_endvalue          0.000000e+00  1.000000e+00  1.000000e+00   \n",
       "wtc_PWMEnabl_timeon            0.000000e+00  6.000000e+02  6.000000e+02   \n",
       "wtc_ResLight_counts            0.000000e+00  0.000000e+00  0.000000e+00   \n",
       "wtc_ResLight_endvalue          0.000000e+00  0.000000e+00  0.000000e+00   \n",
       "wtc_ResLight_timeon            0.000000e+00  0.000000e+00  0.000000e+00   \n",
       "wtc_SafPitch_counts            0.000000e+00  0.000000e+00  0.000000e+00   \n",
       "wtc_SafPitch_endvalue          0.000000e+00  1.000000e+00  1.000000e+00   \n",
       "wtc_SafPitch_timeon            0.000000e+00  6.000000e+02  6.000000e+02   \n",
       "StationId.9                    2.308974e+06  2.308974e+06  2.308974e+06   \n",
       "wtc_ValSuppV_min              -7.100000e-02  2.422800e+01  2.424100e+01   \n",
       "wtc_ValSuppV_max              -2.400000e-02  2.427400e+01  2.428100e+01   \n",
       "wtc_ValSuppV_mean             -3.966897e-02  2.425238e+01  2.426118e+01   \n",
       "wtc_ValSuppV_stddev            2.310168e-03  6.691252e-03  6.928694e-03   \n",
       "wtc_AnaPiRef_min              -2.300000e+00 -2.300000e+00 -2.000000e+00   \n",
       "wtc_AnaPiRef_max              -1.700000e+00 -1.100000e+00 -8.000000e-01   \n",
       "wtc_AnaPiRef_mean             -2.025300e+00 -1.784414e+00 -1.336440e+00   \n",
       "wtc_AnaPiRef_stddev            0.000000e+00  2.994851e-01  3.278345e-01   \n",
       "wtc_DataLink_RecvSec_min       0.000000e+00  1.120000e+01  1.200000e+01   \n",
       "wtc_DataLink_RecvSec_mean      2.234383e+00  1.825814e+01  1.851771e+01   \n",
       "wtc_DataLink_RecvSec_endvalue  1.140000e+01  1.840000e+01  1.880000e+01   \n",
       "Code                           0.000000e+00  0.000000e+00  0.000000e+00   \n",
       "\n",
       "                                        75%           max  \n",
       "wtc_VoltPhR_min                3.996000e+02  4.253000e+02  \n",
       "wtc_VoltPhR_max                4.028000e+02  4.371000e+02  \n",
       "wtc_VoltPhR_mean               4.007914e+02  4.323134e+02  \n",
       "wtc_VoltPhR_stddev             3.501088e-01  2.042891e+02  \n",
       "wtc_VoltPhS_min                3.994000e+02  4.246000e+02  \n",
       "wtc_VoltPhS_max                4.025000e+02  4.361000e+02  \n",
       "wtc_VoltPhS_mean               4.009250e+02  4.318290e+02  \n",
       "wtc_VoltPhS_stddev             3.329168e-01  2.040560e+02  \n",
       "wtc_VoltPhT_min                3.997000e+02  4.258000e+02  \n",
       "wtc_VoltPhT_max                4.023000e+02  4.374000e+02  \n",
       "wtc_VoltPhT_mean               4.008564e+02  4.329403e+02  \n",
       "wtc_VoltPhT_stddev             2.885218e-01  2.046125e+02  \n",
       "wtc_ActPower_mean              1.475140e+03  2.423161e+03  \n",
       "wtc_CosPhi_min                 9.800000e-01  1.000000e+00  \n",
       "wtc_CosPhi_max                 9.900000e-01  1.000000e+00  \n",
       "wtc_CosPhi_mean                9.883777e-01  1.000000e+00  \n",
       "wtc_CosPhi_stddev              5.355125e-02  8.425549e-01  \n",
       "wtc_GridFreq_min               5.994000e+01  6.000000e+01  \n",
       "wtc_GridFreq_max               6.007000e+01  6.116000e+01  \n",
       "wtc_GridFreq_mean              5.999819e+01  6.003741e+01  \n",
       "wtc_GridFreq_stddev            2.235475e-02  2.965682e+01  \n",
       "wtc_ReactPwr_min              -1.850000e+02  2.240000e+02  \n",
       "wtc_ReactPwr_max              -5.500000e+01  1.170000e+03  \n",
       "wtc_ReactPwr_mean             -1.344842e+02  2.714112e+02  \n",
       "wtc_ReactPwr_stddev            2.201485e+01  4.464784e+02  \n",
       "StationId.1                    2.308974e+06  2.308974e+06  \n",
       "wtc_SecAnemo_min               6.600000e+00  1.450000e+01  \n",
       "wtc_SecAnemo_max               1.250000e+01  3.190000e+01  \n",
       "wtc_SecAnemo_mean              9.498176e+00  2.196421e+01  \n",
       "wtc_SecAnemo_stddev            1.167493e+00  6.366586e+00  \n",
       "...                                     ...           ...  \n",
       "wtc_OilCoByp_endvalue          0.000000e+00  1.000000e+00  \n",
       "wtc_OilCoByp_timeon            0.000000e+00  6.000000e+02  \n",
       "wtc_PitchByp_counts            9.000000e+00  2.800000e+01  \n",
       "wtc_PitchByp_endvalue          0.000000e+00  1.000000e+00  \n",
       "wtc_PitchByp_timeon            7.100000e+01  5.500000e+02  \n",
       "wtc_PitchPum_counts            0.000000e+00  4.000000e+00  \n",
       "wtc_PitchPum_endvalue          1.000000e+00  1.000000e+00  \n",
       "wtc_PitchPum_timeon            6.000000e+02  6.000000e+02  \n",
       "wtc_PWMEnabl_counts            0.000000e+00  5.000000e+00  \n",
       "wtc_PWMEnabl_endvalue          1.000000e+00  1.000000e+00  \n",
       "wtc_PWMEnabl_timeon            6.000000e+02  6.000000e+02  \n",
       "wtc_ResLight_counts            0.000000e+00  0.000000e+00  \n",
       "wtc_ResLight_endvalue          0.000000e+00  0.000000e+00  \n",
       "wtc_ResLight_timeon            0.000000e+00  0.000000e+00  \n",
       "wtc_SafPitch_counts            0.000000e+00  5.000000e+00  \n",
       "wtc_SafPitch_endvalue          1.000000e+00  1.000000e+00  \n",
       "wtc_SafPitch_timeon            6.000000e+02  6.000000e+02  \n",
       "StationId.9                    2.308974e+06  2.308974e+06  \n",
       "wtc_ValSuppV_min               2.424800e+01  2.427400e+01  \n",
       "wtc_ValSuppV_max               2.429400e+01  2.447900e+01  \n",
       "wtc_ValSuppV_mean              2.427153e+01  2.429090e+01  \n",
       "wtc_ValSuppV_stddev            7.180435e-03  1.213354e+01  \n",
       "wtc_AnaPiRef_min              -1.500000e+00  9.700000e+01  \n",
       "wtc_AnaPiRef_max               6.500000e+00  9.700000e+01  \n",
       "wtc_AnaPiRef_mean              2.107374e+00  9.700000e+01  \n",
       "wtc_AnaPiRef_stddev            1.035064e+00  4.923854e+01  \n",
       "wtc_DataLink_RecvSec_min       1.280000e+01  1.800000e+01  \n",
       "wtc_DataLink_RecvSec_mean      1.911182e+01  1.948792e+01  \n",
       "wtc_DataLink_RecvSec_endvalue  1.920000e+01  2.040000e+01  \n",
       "Code                           0.000000e+00  6.411100e+04  \n",
       "\n",
       "[627 rows x 8 columns]"
      ]
     },
     "execution_count": 4,
     "metadata": {},
     "output_type": "execute_result"
    }
   ],
   "source": [
    "\n",
    "scada.dropna(inplace=True)\n",
    "scada['wtc_AlarmCde_endvalue'] = scada['wtc_AlarmCde_endvalue'].astype(int)\n",
    "\n",
    "df = scada.merge(alarms_desc, \n",
    "         left_on = 'wtc_AlarmCde_endvalue', \n",
    "         right_on=\"Code\",\n",
    "         how='left')\n",
    "\n",
    "# del alarms_desc\n",
    "\n",
    "df['TimeStamp'] = pd.to_datetime(df['TimeStamp'])\n",
    "df.set_index('TimeStamp', inplace=True)\n",
    "df.index\n",
    "\n",
    "df.dropna(inplace=True)\n",
    "\n",
    "print(df.shape)\n",
    "df.describe().transpose()"
   ]
  },
  {
   "cell_type": "code",
   "execution_count": 5,
   "metadata": {},
   "outputs": [
    {
     "name": "stderr",
     "output_type": "stream",
     "text": [
      "C:\\Users\\sheri\\venv\\project1\\lib\\site-packages\\ipykernel_launcher.py:16: RuntimeWarning: divide by zero encountered in log\n",
      "  app.launch_new_instance()\n"
     ]
    }
   ],
   "source": [
    "# Create new variables\n",
    "\n",
    "# Rounded Wind Speed for GroupBy\n",
    "df['WindSpeed_adj'] = df['wtc_AcWindSp_mean'].round(1)\n",
    "\n",
    "# Wind changes at night\n",
    "df['HourOfDay'] = df.index.hour\n",
    "\n",
    "# Yaw Error\n",
    "df['YawError'] = df['wtc_YawPos_mean'] - df['WindDir_ICEFREE_D1_WVT']\n",
    "\n",
    "# Adding boost to ref set point\n",
    "df['BoostedRef'] = df['wtc_BoostAva_mean'] + df['wtc_PowerRef_endvalue']\n",
    "\n",
    "# Wind Sheer\n",
    "df['WindSheer1'] = np.log(df['WS_Thies_80m_Avg'] / df['WS_Thies_26m_Avg']) / np.log(80/26)\n",
    "# df['WindSheer2'] = np.log(df['WS_Thies_80m_Avg'] / df['WS_Thies_60m_Avg']) / np.log(80/60)\n",
    "\n",
    "# Fault Types\n",
    "df = df.rename(columns={'Fault Type': 'Fault_Type'})\n",
    "df['Fault_Type'] = df['Fault_Type'].replace('W','0')\n",
    "df['Fault_Type'] = df['Fault_Type'].astype(int)\n",
    "\n",
    "# Boosted Power Delta\n",
    "df['PowerDelta'] = df['BoostedRef'] - df['wtc_ActPower_mean']\n",
    "\n",
    "available = (df['Fault_Type'] != 1) & (df['wtc_ScInOper_timeon'] == 600)\n",
    "df['Available'] = [1 if x == True else 0 for x in available]\n",
    "\n",
    "# Icing\n",
    "icing = (df['AirTC_3m_Avg'] < 3) & (abs(df['WS_ICEFREE_Avg'] - df['WS_Thies_80m_Avg']) > 1)\n",
    "df['Icing'] = [1 if x == True else 0 for x in icing]\n",
    "\n",
    "# Air Density\n",
    "df['Air_density'] = (df['BP_mbar_76m_Avg']*100)/((df['AirTC_3m_Avg']+273.15)*287.05)\n",
    "\n",
    "# Air Density adjusted Wind Speed\n",
    "df['AdjTurbineWS'] = df['wtc_AcWindSp_mean']*(np.power(df['Air_density'],(1/3)))\n",
    "\n",
    "# Turbulence\n",
    "df['TurbulenceMet'] = df['WS_Thies_80m_Std'] / df['WS_Thies_80m_Avg']\n",
    "df['TurbulenceTurbine'] = df['wtc_AcWindSp_stddev'] / df['wtc_AcWindSp_mean']\n",
    "\n",
    "# df['MainBearingFault'] = [1 if x == 64038 else 0 for x in df['Code']]\n",
    "\n",
    "df.dropna(inplace=True)"
   ]
  },
  {
   "cell_type": "code",
   "execution_count": 6,
   "metadata": {},
   "outputs": [
    {
     "name": "stdout",
     "output_type": "stream",
     "text": [
      "Percent of Derated Data: 9.900329693366112 %\n"
     ]
    }
   ],
   "source": [
    "# Calculating Derate Conditions\n",
    "\n",
    "#derate = (df['wtc_ActPower_mean'] == df['wtc_PowerRef_endvalue']) & (df['wtc_PowerRef_endvalue'] < 2300)\n",
    "#derate = (df['wtc_PowerRef_endvalue'] < 2300)\n",
    "derate = (df['PowerDelta'] < 0) & (df['Available'] == 1) & (df['BoostedRef'] < 2300) #df['BoostedRef'].max())\n",
    "df['Derated'] = [1 if x == True else 0 for x in derate]\n",
    "\n",
    "percent = (df['Derated'].sum() / len(df))*100\n",
    "print('Percent of Derated Data:',percent,\"%\")"
   ]
  },
  {
   "cell_type": "code",
   "execution_count": 78,
   "metadata": {},
   "outputs": [],
   "source": [
    "# Use cleaned data set for calculating expected energy\n",
    "clean = (df['Available'] == 1) & (df['wtc_PowerRef_endvalue'] == 2300) & (df['Icing'] == 0) & (df['wtc_BoostAva_mean'] == 0)\n",
    "df_clean = df[clean]\n",
    "pcurve95 = df_clean.groupby('WindSpeed_adj').quantile(q=0.95)\n",
    "pcurve75 = df_clean.groupby('WindSpeed_adj').quantile(q=0.75)\n",
    "pcurve50 = df_clean.groupby('WindSpeed_adj').median()\n",
    "pcurve25 = df_clean.groupby('WindSpeed_adj').quantile(q=0.25)\n",
    "pcurve5 = df_clean.groupby('WindSpeed_adj').quantile(q=0.05)"
   ]
  },
  {
   "cell_type": "code",
   "execution_count": 79,
   "metadata": {},
   "outputs": [
    {
     "name": "stdout",
     "output_type": "stream",
     "text": [
      "x0: 9.013482544002846\n",
      "k: 0.6647066200991812\n",
      "Cap: 2307.75965\n"
     ]
    },
    {
     "data": {
      "image/png": "[encoded data removed]",
      "text/plain": [
       "<Figure size 432x288 with 1 Axes>"
      ]
     },
     "metadata": {},
     "output_type": "display_data"
    }
   ],
   "source": [
    "# Historical 5th Percentile\n",
    "\n",
    "import pylab\n",
    "from scipy.optimize import curve_fit\n",
    "#from sklearn import preprocessing\n",
    "\n",
    "def sigmoid(x, x0, k):\n",
    "    #cap = 2300\n",
    "    y = cap / (1 + np.exp(-k*(x-x0)))\n",
    "    return y\n",
    "\n",
    "xdata = pcurve5.index.values\n",
    "ydata = pcurve5['wtc_ActPower_mean'].values\n",
    "cap = np.max(pcurve5['wtc_ActPower_mean'].values)\n",
    "\n",
    "popt, pcov = curve_fit(sigmoid, xdata, ydata)\n",
    "\n",
    "pcurve5_x0 = popt[0]\n",
    "pcurve5_k = popt[1]\n",
    "pcurve5_cap = cap\n",
    "print('x0:',pcurve5_x0)\n",
    "print('k:',pcurve5_k)\n",
    "print('Cap:',pcurve5_cap)\n",
    "\n",
    "x = xdata\n",
    "y = sigmoid(x,*popt)\n",
    "\n",
    "pylab.plot(xdata, ydata, 'o', label='data')\n",
    "pylab.plot(xdata,y, label='fit')\n",
    "pylab.ylim(0, 3000)\n",
    "pylab.legend(loc='best')\n",
    "pylab.show()"
   ]
  },
  {
   "cell_type": "code",
   "execution_count": 9,
   "metadata": {},
   "outputs": [],
   "source": [
    "def PowerCurve(wind, x0,k,cap):\n",
    "    y = cap / (1 + np.exp(-k*(wind-x0)))\n",
    "    return y\n",
    "\n",
    "df['ExpectedEnergy_ref'] = df.apply(lambda x: PowerCurve(wind=x['wtc_AcWindSp_mean'], \n",
    "                                                          x0=7.70514731, \n",
    "                                                          k=0.85471648, \n",
    "                                                          cap=2300), \n",
    "                                     axis = 1)\n",
    "df['ExpectedEnergy_5th'] = df.apply(lambda x: PowerCurve(wind=x['wtc_AcWindSp_mean'], \n",
    "                                                          x0=pcurve5_x0, \n",
    "                                                          k=pcurve5_k,\n",
    "                                                          cap=pcurve5_cap), \n",
    "                                     axis = 1)"
   ]
  },
  {
   "cell_type": "code",
   "execution_count": 10,
   "metadata": {},
   "outputs": [
    {
     "name": "stdout",
     "output_type": "stream",
     "text": [
      "Percent of Under Performance Data: 26.82522440112058 %\n"
     ]
    }
   ],
   "source": [
    "\n",
    "# Make labels# Make l \n",
    "# insipred by: https://stackoverflow.com/questions/26886653/pandas-create-new-column-based-on-values-from-other-columns\n",
    "\n",
    "def make_class(row):\n",
    "    if row[\"wtc_ActPower_mean\"] <= row[\"ExpectedEnergy_5th\"]:\n",
    "        return \"1\"\n",
    "    else:\n",
    "        return \"0\"\n",
    "\n",
    "df[\"Underperformance\"] = df.apply(lambda x: make_class(x), axis=1)\n",
    "df['Underperformance'] = df['Underperformance'].astype(int)\n",
    "\n",
    "percent = (df['Underperformance'].sum() / len(df))*100\n",
    "print('Percent of Under Performance Data:',percent,\"%\")"
   ]
  },
  {
   "cell_type": "markdown",
   "metadata": {},
   "source": [
    "## Random Forest Classifier and Regression target setup.\n",
    "\n",
    "#### Below the classification scheme and the regression targets are defined.\n",
    "\n",
    "### Classification\n",
    "#### The classification is based on our definition of underperformance. Using the 26.8% of the data that shows underperformance, we have a boolean classification system. Then we setup the variables necessary to classify our data.\n",
    "\n",
    "### Regression\n",
    "#### The regression target is based on the actual power output of the turbine, \"wtc_ActPower_mean\". We define a separate set of variables we wish to use to predict the power output."
   ]
  },
  {
   "cell_type": "code",
   "execution_count": 11,
   "metadata": {},
   "outputs": [
    {
     "data": {
      "text/plain": [
       "Index(['BoostedRef', 'WindSheer1', 'wtc_AcWindSp_mean', 'wtc_NacelPos_mean',\n",
       "       'wtc_ScInOper_timeon', 'WS_Thies_80m_Avg', 'WS_Thies_60m_Avg',\n",
       "       'WS_ICEFREE_Avg', 'BP_mbar_76m_Avg', 'AirTC_3m_Avg', 'Icing',\n",
       "       'Air_density'],\n",
       "      dtype='object')"
      ]
     },
     "execution_count": 11,
     "metadata": {},
     "output_type": "execute_result"
    }
   ],
   "source": [
    "#Encode the labels (examples found on SKLearn website... need to find address)\n",
    "le = preprocessing.LabelEncoder()\n",
    "le.fit(list(df[\"Underperformance\"].unique()))\n",
    "\n",
    "df[\"target\"] = le.transform(df[\"Underperformance\"])\n",
    "df = df.replace([np.inf, -np.inf], np.nan).dropna()\n",
    "\n",
    "\n",
    "\n",
    "#Now the other variables used to train the model need to scaled. \n",
    "#First, however, un-need variables need to be dropped.\n",
    "#classifier target is based on our determination of when the turbine is underperforming\n",
    "cl_target = df['target']\n",
    "\n",
    "\n",
    "classcols = ['BoostedRef', 'WindSheer1',\n",
    "            'wtc_AcWindSp_mean','wtc_NacelPos_mean','wtc_ScInOper_timeon', \n",
    "            'WS_Thies_80m_Avg', 'WS_Thies_60m_Avg', 'WS_ICEFREE_Avg',\n",
    "           'BP_mbar_76m_Avg', 'AirTC_3m_Avg','Icing','Air_density','target']\n",
    "\n",
    "cl_data = df[classcols]\n",
    "\n",
    "#regression target is based on the actual power output from the turbine\n",
    "y = df[\"wtc_ActPower_mean\"]\n",
    "\n",
    "keepcols = ['BoostedRef', 'WindSheer1',\n",
    "            'wtc_AcWindSp_mean','wtc_NacelPos_mean','wtc_ScInOper_timeon', \n",
    "            'WS_Thies_80m_Avg', 'WS_Thies_60m_Avg', 'WS_ICEFREE_Avg',\n",
    "           'BP_mbar_76m_Avg', 'AirTC_3m_Avg','Icing','Air_density']\n",
    "\n",
    "data = df[keepcols]\n",
    "\n",
    "\n",
    "X = preprocessing.scale(data) \n",
    "\n",
    "data.columns"
   ]
  },
  {
   "cell_type": "markdown",
   "metadata": {},
   "source": [
    "## Classification"
   ]
  },
  {
   "cell_type": "code",
   "execution_count": 17,
   "metadata": {},
   "outputs": [
    {
     "name": "stdout",
     "output_type": "stream",
     "text": [
      "Number of observations in the training data: 39233\n",
      "Number of observations in the test data: 13231\n"
     ]
    }
   ],
   "source": [
    "#Code from https://towardsdatascience.com/random-forest-in-python-24d0893d51c0\n",
    "# Our data set is divided into a test and training set, randomly\n",
    "df['is_train'] = np.random.uniform(0, 1, len(df)) <= .75\n",
    "\n",
    "# Create two new dataframes, one with the training rows, one with the test rows\n",
    "train, test = df[df['is_train']==True], df[df['is_train']==False]\n",
    "\n",
    "# Show the number of observations for the test and training dataframes\n",
    "print('Number of observations in the training data:', len(train))\n",
    "print('Number of observations in the test data:',len(test))"
   ]
  },
  {
   "cell_type": "code",
   "execution_count": 18,
   "metadata": {
    "scrolled": true
   },
   "outputs": [],
   "source": [
    "# Create a list of the feature column's names\n",
    "feat = df[keepcols]\n",
    "\n",
    "features = feat.columns\n",
    "# View features\n",
    "features\n",
    "\n",
    "#create target\n",
    "target = train['target']"
   ]
  },
  {
   "cell_type": "code",
   "execution_count": 19,
   "metadata": {},
   "outputs": [],
   "source": [
    "#code from https://chrisalbon.com/machine_learning/trees_and_forests/random_forest_classifier_example/\n",
    "#load random forest classifier\n",
    "from sklearn.ensemble import RandomForestClassifier\n",
    "\n",
    "#set random seed\n",
    "np.random.seed(0)"
   ]
  },
  {
   "cell_type": "markdown",
   "metadata": {},
   "source": [
    "##### Classification parameter change 1"
   ]
  },
  {
   "cell_type": "code",
   "execution_count": 20,
   "metadata": {},
   "outputs": [
    {
     "data": {
      "text/plain": [
       "RandomForestClassifier(bootstrap=True, class_weight=None, criterion='gini',\n",
       "            max_depth=10, max_features='auto', max_leaf_nodes=None,\n",
       "            min_impurity_decrease=0.0, min_impurity_split=None,\n",
       "            min_samples_leaf=1, min_samples_split=2,\n",
       "            min_weight_fraction_leaf=0.0, n_estimators=10, n_jobs=2,\n",
       "            oob_score=False, random_state=0, verbose=0, warm_start=False)"
      ]
     },
     "execution_count": 20,
     "metadata": {},
     "output_type": "execute_result"
    }
   ],
   "source": [
    "#train the random forest classifier\n",
    "#Try different parameters and compare\n",
    "\n",
    "#Parameter try 1\n",
    "clf = RandomForestClassifier(n_jobs=2, random_state=0, max_depth=10)\n",
    "\n",
    "clf.fit(train[features], target)"
   ]
  },
  {
   "cell_type": "code",
   "execution_count": 22,
   "metadata": {},
   "outputs": [
    {
     "data": {
      "text/plain": [
       "array([0.94859038, 0.94668246, 0.90514286, 0.87135135, 0.9286475 ,\n",
       "       0.94987147, 0.9558011 , 0.97668712, 0.951417  , 0.92564103])"
      ]
     },
     "execution_count": 22,
     "metadata": {},
     "output_type": "execute_result"
    }
   ],
   "source": [
    "# Code from: http://scikit-learn.org/stable/modules/cross_validation.html \n",
    "# & https://stackoverflow.com/questions/31221060/how-do-i-cross-validate-my-predictions-from-random-forest-in-python-sklearn?rq=1\n",
    "from sklearn import svm\n",
    "from sklearn.model_selection import cross_val_score\n",
    "scores = cross_val_score(clf, train[features], target, cv = 10, scoring='precision')\n",
    "scores"
   ]
  },
  {
   "cell_type": "markdown",
   "metadata": {},
   "source": [
    "#### After splitting the data and performing the random forest classifier, I used 10 fold cross validation to get several scores with a different split each time. There is a fairly large range of scores: 87% - 97.7%."
   ]
  },
  {
   "cell_type": "code",
   "execution_count": 17,
   "metadata": {},
   "outputs": [],
   "source": [
    "#Apply the classifier to the test data set\n",
    "y_pred = clf.predict(test[features])"
   ]
  },
  {
   "cell_type": "code",
   "execution_count": 18,
   "metadata": {},
   "outputs": [
    {
     "data": {
      "text/plain": [
       "array([[9.53056077e-01, 4.69439231e-02],\n",
       "       [9.50609532e-01, 4.93904679e-02],\n",
       "       [7.51879699e-04, 9.99248120e-01],\n",
       "       [5.57268555e-01, 4.42731445e-01],\n",
       "       [1.42857143e-02, 9.85714286e-01],\n",
       "       [7.40740741e-03, 9.92592593e-01],\n",
       "       [7.40740741e-03, 9.92592593e-01],\n",
       "       [2.20238095e-02, 9.77976190e-01],\n",
       "       [1.00000000e-01, 9.00000000e-01],\n",
       "       [9.45840056e-01, 5.41599436e-02]])"
      ]
     },
     "execution_count": 18,
     "metadata": {},
     "output_type": "execute_result"
    }
   ],
   "source": [
    "# View the predicted probabilities of the first 10 observations\n",
    "clf.predict_proba(test[features])[0:10]"
   ]
  },
  {
   "cell_type": "code",
   "execution_count": 19,
   "metadata": {},
   "outputs": [
    {
     "data": {
      "text/plain": [
       "array([0, 0, 1, 0, 1, 1, 1, 1, 1, 0], dtype=int64)"
      ]
     },
     "execution_count": 19,
     "metadata": {},
     "output_type": "execute_result"
    }
   ],
   "source": [
    "preds = clf.predict(test[features])\n",
    "preds[0:10]"
   ]
  },
  {
   "cell_type": "code",
   "execution_count": 20,
   "metadata": {},
   "outputs": [
    {
     "data": {
      "text/html": [
       "<div>\n",
       "<style scoped>\n",
       "    .dataframe tbody tr th:only-of-type {\n",
       "        vertical-align: middle;\n",
       "    }\n",
       "\n",
       "    .dataframe tbody tr th {\n",
       "        vertical-align: top;\n",
       "    }\n",
       "\n",
       "    .dataframe thead th {\n",
       "        text-align: right;\n",
       "    }\n",
       "</style>\n",
       "<table border=\"1\" class=\"dataframe\">\n",
       "  <thead>\n",
       "    <tr style=\"text-align: right;\">\n",
       "      <th>Predicted Target</th>\n",
       "      <th>0</th>\n",
       "      <th>1</th>\n",
       "    </tr>\n",
       "    <tr>\n",
       "      <th>Actual Target</th>\n",
       "      <th></th>\n",
       "      <th></th>\n",
       "    </tr>\n",
       "  </thead>\n",
       "  <tbody>\n",
       "    <tr>\n",
       "      <th>0</th>\n",
       "      <td>9394</td>\n",
       "      <td>150</td>\n",
       "    </tr>\n",
       "    <tr>\n",
       "      <th>1</th>\n",
       "      <td>835</td>\n",
       "      <td>2607</td>\n",
       "    </tr>\n",
       "  </tbody>\n",
       "</table>\n",
       "</div>"
      ],
      "text/plain": [
       "Predicted Target     0     1\n",
       "Actual Target               \n",
       "0                 9394   150\n",
       "1                  835  2607"
      ]
     },
     "execution_count": 20,
     "metadata": {},
     "output_type": "execute_result"
    }
   ],
   "source": [
    "# Create confusion matrix\n",
    "pd.crosstab(test['target'], preds, rownames=['Actual Target'], colnames=['Predicted Target'])"
   ]
  },
  {
   "cell_type": "code",
   "execution_count": 21,
   "metadata": {},
   "outputs": [
    {
     "name": "stdout",
     "output_type": "stream",
     "text": [
      "Accuracy: 0.924149083628523\n"
     ]
    }
   ],
   "source": [
    "from sklearn import metrics\n",
    "print(\"Accuracy:\",metrics.accuracy_score(test['target'], y_pred))"
   ]
  },
  {
   "cell_type": "markdown",
   "metadata": {},
   "source": [
    "#### The above table shows how our power classifications match up with the actual power recorded. I have chosen accuracy of prediction for the preferred evaluation metric. This is because the desired outcome for this analysis is to be able to predict and determine the causes of turbine underperformance. Therefore, accuracy of prediction and subsequent identification of the most influential variables is sufficient to meet our needs."
   ]
  },
  {
   "cell_type": "code",
   "execution_count": 22,
   "metadata": {},
   "outputs": [
    {
     "data": {
      "text/plain": [
       "[('BoostedRef', 0.1795082249640288),\n",
       " ('WindSheer1', 0.02724244386276123),\n",
       " ('wtc_AcWindSp_mean', 0.19789266272637504),\n",
       " ('wtc_NacelPos_mean', 0.022670513513907677),\n",
       " ('wtc_ScInOper_timeon', 0.3300225292224838),\n",
       " ('WS_Thies_80m_Avg', 0.06255021310062796),\n",
       " ('WS_Thies_60m_Avg', 0.034919376060506546),\n",
       " ('WS_ICEFREE_Avg', 0.07814811173153885),\n",
       " ('BP_mbar_76m_Avg', 0.03207302015997526),\n",
       " ('AirTC_3m_Avg', 0.016667025164493324),\n",
       " ('Icing', 0.0001760298870475491),\n",
       " ('Air_density', 0.01812984960625389)]"
      ]
     },
     "execution_count": 22,
     "metadata": {},
     "output_type": "execute_result"
    }
   ],
   "source": [
    "# View a list of the features and their importance scores\n",
    "list(zip(train[features], clf.feature_importances_))"
   ]
  },
  {
   "cell_type": "markdown",
   "metadata": {},
   "source": [
    "#### For parameter option #1\n",
    "##### The most influential variables that helped predict underperformance were:\n",
    "##### wtc_ScInOper_timeon at 31%, \n",
    "##### wtc_AcWindSp_mean at 26%, \n",
    "##### BoostedRef at 16%, \n",
    "##### and WS_ICEFREE_Avg at 8%."
   ]
  },
  {
   "cell_type": "code",
   "execution_count": 23,
   "metadata": {
    "scrolled": false
   },
   "outputs": [
    {
     "data": {
      "image/png": "[encoded data removed]",
      "text/plain": [
       "<Figure size 432x288 with 1 Axes>"
      ]
     },
     "metadata": {},
     "output_type": "display_data"
    }
   ],
   "source": [
    "#http://dataaspirant.com/2017/04/21/visualize-decision-tree-python-graphviz/\n",
    "# reminder\n",
    "# X = data\n",
    "# y = df.target\n",
    "\n",
    "pylab.bar (keepcols, clf.feature_importances_, 1/4)\n",
    "pylab.xticks(keepcols, rotation='vertical')\n",
    "pylab.ylabel('Importance'); pylab.xlabel('Variable'); pylab.title('Variable Importances');\n",
    "pylab.show()\n",
    "\n",
    "# import altair as alt\n",
    "# from vega_datasets import data\n",
    "# alt.renderers.enable('notebook')\n",
    "\n",
    "# alt.Chart(clf.feature_importances_).mark_bar().encode(\n",
    "#     y='Percentage Explained',\n",
    "#     x='train[features]')\n"
   ]
  },
  {
   "cell_type": "markdown",
   "metadata": {},
   "source": [
    "##### Classification parameter change 2"
   ]
  },
  {
   "cell_type": "code",
   "execution_count": 23,
   "metadata": {},
   "outputs": [
    {
     "data": {
      "text/plain": [
       "RandomForestClassifier(bootstrap=True, class_weight=None, criterion='gini',\n",
       "            max_depth=10, max_features='auto', max_leaf_nodes=5,\n",
       "            min_impurity_decrease=0.0, min_impurity_split=None,\n",
       "            min_samples_leaf=1, min_samples_split=2,\n",
       "            min_weight_fraction_leaf=0.0, n_estimators=10, n_jobs=2,\n",
       "            oob_score=False, random_state=5, verbose=0, warm_start=False)"
      ]
     },
     "execution_count": 23,
     "metadata": {},
     "output_type": "execute_result"
    }
   ],
   "source": [
    "clf = RandomForestClassifier(n_jobs=2, random_state=5, max_depth=10, max_leaf_nodes=5)\n",
    "\n",
    "clf.fit(train[features], target)"
   ]
  },
  {
   "cell_type": "code",
   "execution_count": 24,
   "metadata": {},
   "outputs": [
    {
     "data": {
      "text/plain": [
       "array([0.96613995, 0.99404762, 0.9484127 , 0.89779006, 0.98734177,\n",
       "       0.94436906, 0.95520231, 0.98005319, 0.99304348, 0.98391421])"
      ]
     },
     "execution_count": 24,
     "metadata": {},
     "output_type": "execute_result"
    }
   ],
   "source": [
    "# Code from: http://scikit-learn.org/stable/modules/cross_validation.html \n",
    "# & https://stackoverflow.com/questions/31221060/how-do-i-cross-validate-my-predictions-from-random-forest-in-python-sklearn?rq=1\n",
    "from sklearn import svm\n",
    "from sklearn.model_selection import cross_val_score\n",
    "scores = cross_val_score(clf, train[features], target, cv = 10, scoring='precision')\n",
    "scores"
   ]
  },
  {
   "cell_type": "markdown",
   "metadata": {},
   "source": [
    "#### After splitting the data and performing the random forest classifier with our second set of parameters, I again used 10 fold cross validation to get several scores with a different split each time. There is still a fairly large range of scores: 90% - 99%, but this set of parameters is much more accurate than the previous option. "
   ]
  },
  {
   "cell_type": "code",
   "execution_count": 25,
   "metadata": {},
   "outputs": [
    {
     "data": {
      "text/plain": [
       "array([0, 0, 1, ..., 1, 1, 1], dtype=int64)"
      ]
     },
     "execution_count": 25,
     "metadata": {},
     "output_type": "execute_result"
    }
   ],
   "source": [
    "#Apply the classifier to the test data set\n",
    "clf.predict(test[features])"
   ]
  },
  {
   "cell_type": "code",
   "execution_count": 26,
   "metadata": {},
   "outputs": [
    {
     "data": {
      "text/plain": [
       "array([[0.86039892, 0.13960108],\n",
       "       [0.85951996, 0.14048004],\n",
       "       [0.12207396, 0.87792604],\n",
       "       [0.85230027, 0.14769973],\n",
       "       [0.12207396, 0.87792604],\n",
       "       [0.12207396, 0.87792604],\n",
       "       [0.12207396, 0.87792604],\n",
       "       [0.50785854, 0.49214146],\n",
       "       [0.03569749, 0.96430251],\n",
       "       [0.81849275, 0.18150725]])"
      ]
     },
     "execution_count": 26,
     "metadata": {},
     "output_type": "execute_result"
    }
   ],
   "source": [
    "# View the predicted probabilities of the first 10 observations\n",
    "clf.predict_proba(test[features])[0:10]"
   ]
  },
  {
   "cell_type": "code",
   "execution_count": 27,
   "metadata": {},
   "outputs": [
    {
     "data": {
      "text/plain": [
       "array([0, 0, 1, 0, 1, 1, 1, 0, 1, 0], dtype=int64)"
      ]
     },
     "execution_count": 27,
     "metadata": {},
     "output_type": "execute_result"
    }
   ],
   "source": [
    "preds = clf.predict(test[features])\n",
    "preds[0:10]"
   ]
  },
  {
   "cell_type": "code",
   "execution_count": 28,
   "metadata": {},
   "outputs": [
    {
     "data": {
      "text/html": [
       "<div>\n",
       "<style scoped>\n",
       "    .dataframe tbody tr th:only-of-type {\n",
       "        vertical-align: middle;\n",
       "    }\n",
       "\n",
       "    .dataframe tbody tr th {\n",
       "        vertical-align: top;\n",
       "    }\n",
       "\n",
       "    .dataframe thead th {\n",
       "        text-align: right;\n",
       "    }\n",
       "</style>\n",
       "<table border=\"1\" class=\"dataframe\">\n",
       "  <thead>\n",
       "    <tr style=\"text-align: right;\">\n",
       "      <th>Predicted Target</th>\n",
       "      <th>0</th>\n",
       "      <th>1</th>\n",
       "    </tr>\n",
       "    <tr>\n",
       "      <th>Actual Target</th>\n",
       "      <th></th>\n",
       "      <th></th>\n",
       "    </tr>\n",
       "  </thead>\n",
       "  <tbody>\n",
       "    <tr>\n",
       "      <th>0</th>\n",
       "      <td>9488</td>\n",
       "      <td>56</td>\n",
       "    </tr>\n",
       "    <tr>\n",
       "      <th>1</th>\n",
       "      <td>1733</td>\n",
       "      <td>1709</td>\n",
       "    </tr>\n",
       "  </tbody>\n",
       "</table>\n",
       "</div>"
      ],
      "text/plain": [
       "Predicted Target     0     1\n",
       "Actual Target               \n",
       "0                 9488    56\n",
       "1                 1733  1709"
      ]
     },
     "execution_count": 28,
     "metadata": {},
     "output_type": "execute_result"
    }
   ],
   "source": [
    "# Create confusion matrix\n",
    "pd.crosstab(test['target'], preds, rownames=['Actual Target'], colnames=['Predicted Target'])"
   ]
  },
  {
   "cell_type": "code",
   "execution_count": 29,
   "metadata": {},
   "outputs": [],
   "source": [
    "#Apply the classifier to the test data set\n",
    "y_pred = clf.predict(test[features])"
   ]
  },
  {
   "cell_type": "code",
   "execution_count": 30,
   "metadata": {},
   "outputs": [
    {
     "name": "stdout",
     "output_type": "stream",
     "text": [
      "Accuracy: 0.8622362544278454\n"
     ]
    }
   ],
   "source": [
    "print(\"Accuracy:\",metrics.accuracy_score(test['target'], y_pred))"
   ]
  },
  {
   "cell_type": "code",
   "execution_count": 31,
   "metadata": {},
   "outputs": [
    {
     "data": {
      "text/plain": [
       "[('BoostedRef', 0.05227185018925775),\n",
       " ('WindSheer1', 0.014950046154264419),\n",
       " ('wtc_AcWindSp_mean', 0.2889733875619839),\n",
       " ('wtc_NacelPos_mean', 0.006175989356641929),\n",
       " ('wtc_ScInOper_timeon', 0.46651256637401095),\n",
       " ('WS_Thies_80m_Avg', 0.055596487923721606),\n",
       " ('WS_Thies_60m_Avg', 0.045336804740876216),\n",
       " ('WS_ICEFREE_Avg', 0.05494999954859928),\n",
       " ('BP_mbar_76m_Avg', 0.015232868150643907),\n",
       " ('AirTC_3m_Avg', 0.0),\n",
       " ('Icing', 0.0),\n",
       " ('Air_density', 0.0)]"
      ]
     },
     "execution_count": 31,
     "metadata": {},
     "output_type": "execute_result"
    }
   ],
   "source": [
    "# View a list of the features and their importance scores\n",
    "list(zip(train[features], clf.feature_importances_))"
   ]
  },
  {
   "cell_type": "code",
   "execution_count": 32,
   "metadata": {},
   "outputs": [
    {
     "data": {
      "image/png": "[encoded data removed]",
      "text/plain": [
       "<Figure size 432x288 with 1 Axes>"
      ]
     },
     "metadata": {},
     "output_type": "display_data"
    }
   ],
   "source": [
    "pylab.bar (keepcols, clf.feature_importances_, 1/4)\n",
    "pylab.xticks(keepcols, rotation='vertical')\n",
    "pylab.ylabel('Importance'); pylab.xlabel('Variable'); pylab.title('Variable Importances');\n",
    "pylab.show()"
   ]
  },
  {
   "cell_type": "markdown",
   "metadata": {},
   "source": [
    "#### The above table shows how our power classifications match up with the actual power recorded. "
   ]
  },
  {
   "cell_type": "markdown",
   "metadata": {},
   "source": [
    "#### For parameter option #2\n",
    "##### The most influential features that helped predict underperformance were: \n",
    "##### wtc_ScInOper_timeon at 44%, \n",
    "##### wtc_AcWindSp_mean at 27%, \n",
    "##### WS_ICEFREE_Avg at 9%, \n",
    "##### and WS_Thies_60m_Avg at 7%."
   ]
  },
  {
   "cell_type": "markdown",
   "metadata": {},
   "source": [
    "#### Parameter change #3"
   ]
  },
  {
   "cell_type": "code",
   "execution_count": 25,
   "metadata": {},
   "outputs": [
    {
     "data": {
      "text/plain": [
       "RandomForestClassifier(bootstrap=True, class_weight=None, criterion='gini',\n",
       "            max_depth=15, max_features='auto', max_leaf_nodes=10,\n",
       "            min_impurity_decrease=0.0, min_impurity_split=None,\n",
       "            min_samples_leaf=1, min_samples_split=2,\n",
       "            min_weight_fraction_leaf=0.0, n_estimators=10, n_jobs=2,\n",
       "            oob_score=False, random_state=10, verbose=0, warm_start=False)"
      ]
     },
     "execution_count": 25,
     "metadata": {},
     "output_type": "execute_result"
    }
   ],
   "source": [
    "clf = RandomForestClassifier(n_jobs=2, random_state=10, max_depth=15, max_leaf_nodes=10)\n",
    "\n",
    "clf.fit(train[features], target)"
   ]
  },
  {
   "cell_type": "code",
   "execution_count": 26,
   "metadata": {},
   "outputs": [
    {
     "data": {
      "text/plain": [
       "array([0.95491803, 0.96046512, 0.91501976, 0.88030303, 0.91601344,\n",
       "       0.93409379, 0.95163585, 0.97820163, 0.98477157, 0.97905759])"
      ]
     },
     "execution_count": 26,
     "metadata": {},
     "output_type": "execute_result"
    }
   ],
   "source": [
    "# Code from: http://scikit-learn.org/stable/modules/cross_validation.html \n",
    "# & https://stackoverflow.com/questions/31221060/how-do-i-cross-validate-my-predictions-from-random-forest-in-python-sklearn?rq=1\n",
    "from sklearn import svm\n",
    "from sklearn.model_selection import cross_val_score\n",
    "scores = cross_val_score(clf, train[features], target, cv = 10, scoring='precision')\n",
    "scores"
   ]
  },
  {
   "cell_type": "markdown",
   "metadata": {},
   "source": [
    "#### After splitting the data and performing the random forest classifier with our third set of parameters, I once again used 10 fold cross validation to get several scores with a different split each time. The range of scores is similar to the first two attempts: 88% - 98%, and this set of parameters is less accurate than the second option. Clearly, allowing a higher number of leaf nodes or more branches (depth) does not help the accuracy of the model."
   ]
  },
  {
   "cell_type": "code",
   "execution_count": 34,
   "metadata": {},
   "outputs": [
    {
     "data": {
      "text/plain": [
       "array([0, 0, 1, ..., 1, 1, 1], dtype=int64)"
      ]
     },
     "execution_count": 34,
     "metadata": {},
     "output_type": "execute_result"
    }
   ],
   "source": [
    "#Apply the classifier to the test data set\n",
    "clf.predict(test[features])"
   ]
  },
  {
   "cell_type": "code",
   "execution_count": 35,
   "metadata": {},
   "outputs": [
    {
     "data": {
      "text/plain": [
       "array([[0.89374706, 0.10625294],\n",
       "       [0.89002595, 0.10997405],\n",
       "       [0.07520833, 0.92479167],\n",
       "       [0.75288481, 0.24711519],\n",
       "       [0.09708357, 0.90291643],\n",
       "       [0.16462369, 0.83537631],\n",
       "       [0.16462369, 0.83537631],\n",
       "       [0.48487897, 0.51512103],\n",
       "       [0.06413647, 0.93586353],\n",
       "       [0.80987986, 0.19012014]])"
      ]
     },
     "execution_count": 35,
     "metadata": {},
     "output_type": "execute_result"
    }
   ],
   "source": [
    "# View the predicted probabilities of the first 10 observations\n",
    "clf.predict_proba(test[features])[0:10]"
   ]
  },
  {
   "cell_type": "code",
   "execution_count": 36,
   "metadata": {},
   "outputs": [
    {
     "data": {
      "text/plain": [
       "array([0, 0, 1, 0, 1, 1, 1, 1, 1, 0], dtype=int64)"
      ]
     },
     "execution_count": 36,
     "metadata": {},
     "output_type": "execute_result"
    }
   ],
   "source": [
    "preds = clf.predict(test[features])\n",
    "preds[0:10]"
   ]
  },
  {
   "cell_type": "code",
   "execution_count": 37,
   "metadata": {},
   "outputs": [
    {
     "data": {
      "text/html": [
       "<div>\n",
       "<style scoped>\n",
       "    .dataframe tbody tr th:only-of-type {\n",
       "        vertical-align: middle;\n",
       "    }\n",
       "\n",
       "    .dataframe tbody tr th {\n",
       "        vertical-align: top;\n",
       "    }\n",
       "\n",
       "    .dataframe thead th {\n",
       "        text-align: right;\n",
       "    }\n",
       "</style>\n",
       "<table border=\"1\" class=\"dataframe\">\n",
       "  <thead>\n",
       "    <tr style=\"text-align: right;\">\n",
       "      <th>Predicted Target</th>\n",
       "      <th>0</th>\n",
       "      <th>1</th>\n",
       "    </tr>\n",
       "    <tr>\n",
       "      <th>Actual Target</th>\n",
       "      <th></th>\n",
       "      <th></th>\n",
       "    </tr>\n",
       "  </thead>\n",
       "  <tbody>\n",
       "    <tr>\n",
       "      <th>0</th>\n",
       "      <td>9436</td>\n",
       "      <td>108</td>\n",
       "    </tr>\n",
       "    <tr>\n",
       "      <th>1</th>\n",
       "      <td>1440</td>\n",
       "      <td>2002</td>\n",
       "    </tr>\n",
       "  </tbody>\n",
       "</table>\n",
       "</div>"
      ],
      "text/plain": [
       "Predicted Target     0     1\n",
       "Actual Target               \n",
       "0                 9436   108\n",
       "1                 1440  2002"
      ]
     },
     "execution_count": 37,
     "metadata": {},
     "output_type": "execute_result"
    }
   ],
   "source": [
    "# Create confusion matrix\n",
    "pd.crosstab(test['target'], preds, rownames=['Actual Target'], colnames=['Predicted Target'])"
   ]
  },
  {
   "cell_type": "code",
   "execution_count": 38,
   "metadata": {},
   "outputs": [
    {
     "name": "stdout",
     "output_type": "stream",
     "text": [
      "Accuracy: 0.8807947019867549\n"
     ]
    }
   ],
   "source": [
    "#Apply the classifier to the test data set\n",
    "y_pred = clf.predict(test[features])\n",
    "\n",
    "print(\"Accuracy:\",metrics.accuracy_score(test['target'], y_pred))"
   ]
  },
  {
   "cell_type": "code",
   "execution_count": 39,
   "metadata": {},
   "outputs": [
    {
     "data": {
      "text/plain": [
       "[('BoostedRef', 0.10194104246543663),\n",
       " ('WindSheer1', 0.007622251175905074),\n",
       " ('wtc_AcWindSp_mean', 0.257198989884963),\n",
       " ('wtc_NacelPos_mean', 0.006859213417685526),\n",
       " ('wtc_ScInOper_timeon', 0.3911308470165349),\n",
       " ('WS_Thies_80m_Avg', 0.040549880972477484),\n",
       " ('WS_Thies_60m_Avg', 0.060305364531435056),\n",
       " ('WS_ICEFREE_Avg', 0.08294623735054334),\n",
       " ('BP_mbar_76m_Avg', 0.044274488849141945),\n",
       " ('AirTC_3m_Avg', 0.004328047490695426),\n",
       " ('Icing', 0.0),\n",
       " ('Air_density', 0.0028436368451816582)]"
      ]
     },
     "execution_count": 39,
     "metadata": {},
     "output_type": "execute_result"
    }
   ],
   "source": [
    "# View a list of the features and their importance scores\n",
    "list(zip(train[features], clf.feature_importances_))"
   ]
  },
  {
   "cell_type": "markdown",
   "metadata": {},
   "source": [
    "#### The above table shows how our power classifications match up with the actual power recorded."
   ]
  },
  {
   "cell_type": "markdown",
   "metadata": {},
   "source": [
    "#### For parameter option #3\n",
    "##### The most influential features that helped predict underperformance were: \n",
    "##### wtc_ScInOper_timeon at 40%, \n",
    "##### wtc_AcWindSp_mean at 25%, \n",
    "##### BoostedRef at 11%, \n",
    "##### and WS_Thies_80m_Avg at 7%."
   ]
  },
  {
   "cell_type": "code",
   "execution_count": 40,
   "metadata": {},
   "outputs": [
    {
     "data": {
      "image/png": "[encoded data removed]",
      "text/plain": [
       "<Figure size 432x288 with 1 Axes>"
      ]
     },
     "metadata": {},
     "output_type": "display_data"
    }
   ],
   "source": [
    "# alt.Chart(clf.feature_importances_).mark_bar().encode(\n",
    "#     y='Percentage Explained',\n",
    "#     x='train[features]')\n",
    "pylab.bar (keepcols, clf.feature_importances_, 1/4)\n",
    "pylab.xticks(keepcols, rotation='vertical')\n",
    "pylab.ylabel('Importance'); pylab.xlabel('Variable'); pylab.title('Variable Importances');\n",
    "pylab.show()"
   ]
  },
  {
   "cell_type": "markdown",
   "metadata": {},
   "source": [
    "### With each parameter change, the accuracy changed significantly. \n",
    "\n",
    "#### With Parameter set 1: the random_state is 0 and the max_depth is 10. This produced an accuracy range of 87% - 97.7% using cross-fold validation.\n",
    "#### With Parameter set 2: the random_state is 5, max_depth is 10, and max_nodes is 5. This produced an accuracy range of 90% - 99% using cross-fold validation.\n",
    "#### With Parameter set 3: the random_state is 10, max_depth is 15, and max_nodes is 10. This produced an accuracy range of 88% - 98% using cross-fold validation.\n",
    "\n",
    "### In addition to accuracy changes, the important features changed and their percentage of influence changed significantly. \n"
   ]
  },
  {
   "cell_type": "markdown",
   "metadata": {},
   "source": [
    "## Regression"
   ]
  },
  {
   "cell_type": "code",
   "execution_count": 27,
   "metadata": {},
   "outputs": [
    {
     "name": "stdout",
     "output_type": "stream",
     "text": [
      "[1554.1629999999998 1027.646 689.9637 ... -27.846870000000003 -27.76335\n",
      " -27.61562]\n",
      "[[1586.6570000000002 236.7694 1769.4520000000002 ... 1097.237 551.3526\n",
      "  932.595]]\n",
      "[[2138.28 309.7698 2302.3179999999998 ... 433.6547 1971.317 319.1144]]\n",
      "[[1586.6570000000002]\n",
      " [236.7694]\n",
      " [1769.4520000000002]\n",
      " ...\n",
      " [1097.237]\n",
      " [551.3526]\n",
      " [932.595]]\n",
      "[[2138.28]\n",
      " [309.7698]\n",
      " [2302.3179999999998]\n",
      " ...\n",
      " [433.6547]\n",
      " [1971.317]\n",
      " [319.1144]]\n"
     ]
    }
   ],
   "source": [
    "#Code from https://towardsdatascience.com/random-forest-in-python-24d0893d51c0\n",
    "y_a = np.array(y, dtype=pd.Series)\n",
    "print(y_a)\n",
    "\n",
    "train_y_a, test_y_a, train_data, test_data = train_test_split(y_a, data, test_size = 0.25, random_state = 42)\n",
    "train_y_r = np.atleast_2d(train_y_a)\n",
    "test_y_r = np.atleast_2d(test_y_a)\n",
    "print(train_y_r)\n",
    "print(test_y_r)\n",
    "train_y_s = train_y_r.reshape(-1,1)\n",
    "print(train_y_s)\n",
    "test_y_s = test_y_r.reshape(-1,1)\n",
    "print(test_y_s)"
   ]
  },
  {
   "cell_type": "code",
   "execution_count": 28,
   "metadata": {},
   "outputs": [
    {
     "name": "stdout",
     "output_type": "stream",
     "text": [
      "Training Features Shape: (39348, 1)\n",
      "Training Labels Shape: (39348, 12)\n",
      "Testing Features Shape: (13116, 1)\n",
      "Testing Labels Shape: (13116, 12)\n"
     ]
    }
   ],
   "source": [
    "print('Training Features Shape:', train_y_s.shape)\n",
    "print('Training Labels Shape:', train_data.shape)\n",
    "print('Testing Features Shape:', test_y_s.shape)\n",
    "print('Testing Labels Shape:', test_data.shape)"
   ]
  },
  {
   "cell_type": "markdown",
   "metadata": {},
   "source": [
    "### Regression parameters setting 1"
   ]
  },
  {
   "cell_type": "code",
   "execution_count": 61,
   "metadata": {},
   "outputs": [],
   "source": [
    "# Using the parameters identified in the classification step as most accurate\n",
    "from sklearn.ensemble import RandomForestRegressor\n",
    "\n",
    "# Instantiate model with 10 decision tree\n",
    "rf_1 = RandomForestRegressor(n_estimators = 10, random_state = 5, max_depth = 10, max_leaf_nodes = 5)\n"
   ]
  },
  {
   "cell_type": "code",
   "execution_count": 62,
   "metadata": {},
   "outputs": [],
   "source": [
    "# Train the model on training data\n",
    "# rf.fit(train_y_s, train_data);\n",
    "rf_1.fit(train_data, train_y_a);"
   ]
  },
  {
   "cell_type": "code",
   "execution_count": 63,
   "metadata": {},
   "outputs": [
    {
     "name": "stdout",
     "output_type": "stream",
     "text": [
      "Mean Absolute Error: 177.47 kWh.\n"
     ]
    }
   ],
   "source": [
    "# Use the forest's predict method on the test data\n",
    "predictions_1 = rf_1.predict(test_data)\n",
    "\n",
    "# Calculate the absolute errors\n",
    "errors = abs(predictions_1 - test_y_a)\n",
    "\n",
    "# Print out the mean absolute error (mae)\n",
    "print('Mean Absolute Error:', round(np.mean(errors), 2), 'kWh.')"
   ]
  },
  {
   "cell_type": "code",
   "execution_count": 64,
   "metadata": {},
   "outputs": [
    {
     "name": "stdout",
     "output_type": "stream",
     "text": [
      "0.8856391028597367\n"
     ]
    }
   ],
   "source": [
    "score_1 = rf_1.score(test_data, test_y_a)\n",
    "print(score_1)\n",
    "\n",
    "# http://scikit-learn.org/stable/modules/generated/sklearn.ensemble.RandomForestRegressor.html"
   ]
  },
  {
   "cell_type": "markdown",
   "metadata": {},
   "source": [
    "##### The results from the first choice in parameters (n_estimators=10 and the rest default) had an accuracy of 88.5%. With n_estimators set at 10 the regression will use a max of 10 trees. More trees increases accuracy but slows the code down. The max depth was set at 10 and the max leaf nodes set at 5."
   ]
  },
  {
   "cell_type": "markdown",
   "metadata": {},
   "source": [
    "### Regression parameters setting 2"
   ]
  },
  {
   "cell_type": "code",
   "execution_count": 65,
   "metadata": {},
   "outputs": [],
   "source": [
    "# Instantiate model with 50 decision trees\n",
    "rf_2 = RandomForestRegressor(n_estimators = 10, random_state = 5)"
   ]
  },
  {
   "cell_type": "code",
   "execution_count": 66,
   "metadata": {},
   "outputs": [],
   "source": [
    "# Train the model on training data\n",
    "# rf.fit(train_y_s, train_data);\n",
    "rf_2.fit(train_data, train_y_a);"
   ]
  },
  {
   "cell_type": "code",
   "execution_count": 67,
   "metadata": {},
   "outputs": [
    {
     "name": "stdout",
     "output_type": "stream",
     "text": [
      "Mean Absolute Error: 58.38 kWh.\n"
     ]
    }
   ],
   "source": [
    "# Use the forest's predict method on the test data\n",
    "predictions_2 = rf_2.predict(test_data)\n",
    "\n",
    "# Calculate the absolute errors\n",
    "errors = abs(predictions_2 - test_y_a)\n",
    "\n",
    "# Print out the mean absolute error (mae)\n",
    "print('Mean Absolute Error:', round(np.mean(errors), 2), 'kWh.')"
   ]
  },
  {
   "cell_type": "code",
   "execution_count": 68,
   "metadata": {},
   "outputs": [
    {
     "name": "stdout",
     "output_type": "stream",
     "text": [
      "0.9833006225264849\n"
     ]
    }
   ],
   "source": [
    "score_2 = rf_2.score(test_data, test_y_a)\n",
    "print(score_2)"
   ]
  },
  {
   "cell_type": "markdown",
   "metadata": {},
   "source": [
    "##### The results from the second choice in parameters (n_estimators=10 and the rest default) had a slightly higher accuracy of 98.3%. With n_estimators set at 10 the regression will use 10 trees. More trees increases accuracy but slows the code down."
   ]
  },
  {
   "cell_type": "markdown",
   "metadata": {},
   "source": [
    "### Regression parameters setting 3"
   ]
  },
  {
   "cell_type": "code",
   "execution_count": 69,
   "metadata": {},
   "outputs": [],
   "source": [
    "# Instantiate model with 50 decision trees and with oob_score set to True\n",
    "rf_3 = RandomForestRegressor(n_estimators = 50, max_features = .2, oob_score=True, random_state = 5)"
   ]
  },
  {
   "cell_type": "code",
   "execution_count": 70,
   "metadata": {},
   "outputs": [],
   "source": [
    "# Train the model on training data\n",
    "# rf.fit(train_y_s, train_data);\n",
    "rf_3.fit(train_data, train_y_a);"
   ]
  },
  {
   "cell_type": "code",
   "execution_count": 71,
   "metadata": {},
   "outputs": [
    {
     "name": "stdout",
     "output_type": "stream",
     "text": [
      "Mean Absolute Error: 69.72 kWh.\n"
     ]
    }
   ],
   "source": [
    "# Use the forest's predict method on the test data\n",
    "predictions_3 = rf_3.predict(test_data)\n",
    "\n",
    "# Calculate the absolute errors\n",
    "errors = abs(predictions_3 - test_y_a)\n",
    "\n",
    "# Print out the mean absolute error (mae)\n",
    "print('Mean Absolute Error:', round(np.mean(errors), 2), 'kWh.')"
   ]
  },
  {
   "cell_type": "code",
   "execution_count": 72,
   "metadata": {},
   "outputs": [
    {
     "name": "stdout",
     "output_type": "stream",
     "text": [
      "0.9806034388577177\n"
     ]
    }
   ],
   "source": [
    "score_3 = rf_3.score(test_data, test_y_a)\n",
    "print(score_3)"
   ]
  },
  {
   "cell_type": "markdown",
   "metadata": {},
   "source": [
    "##### The results from the third choice in parameters (n_estimators=50, max_features=20%, and oob_score set to true) had a slightly lower accuracy of 98.1%. With n_estimators set at 50 the regression will use 50 trees. More trees increases accuracy but slows the code down. Max_features limits the number of feartures that are allowed to try in each tree. Setting the oob_score at true tags each observation that is in different trees. Then for every tree that doesn't use a particular observation, it finds the maximum score."
   ]
  },
  {
   "cell_type": "markdown",
   "metadata": {},
   "source": [
    "## Final model choice\n",
    "\n",
    "#### Using the parameters of the second model (which had the highest (98.3%) accuracy, we create the final random forest model choice."
   ]
  },
  {
   "cell_type": "code",
   "execution_count": 76,
   "metadata": {},
   "outputs": [
    {
     "name": "stdout",
     "output_type": "stream",
     "text": [
      "[2013.43894443  150.23189868 2013.43894443 ...  516.37932975 2013.43894443\n",
      "  150.23189868]\n",
      "Mean Absolute Error: 58.38 kWh.\n"
     ]
    }
   ],
   "source": [
    "# Rerunning the second parameters for all future efforts\n",
    "\n",
    "# Instantiate model with 50 decision trees\n",
    "rf = RandomForestRegressor(n_estimators = 10, random_state = 5)\n",
    "\n",
    "# Train the model on training data\n",
    "rf.fit(train_data, train_y_a);\n",
    "\n",
    "# Use the forest's predict method on the test data\n",
    "predictions = rf.predict(test_data)\n",
    "\n",
    "# Calculate the absolute errors\n",
    "errors = abs(predictions - test_y_a)\n",
    "\n",
    "print(predictions_1)\n",
    "\n",
    "# Print out the mean absolute error (mae)\n",
    "print('Mean Absolute Error:', round(np.mean(errors), 2), 'kWh.')"
   ]
  },
  {
   "cell_type": "code",
   "execution_count": 43,
   "metadata": {},
   "outputs": [
    {
     "name": "stdout",
     "output_type": "stream",
     "text": [
      "0.9833006225264849\n"
     ]
    }
   ],
   "source": [
    "score = rf.score(test_data, test_y_a)\n",
    "print(score)"
   ]
  },
  {
   "cell_type": "code",
   "execution_count": 44,
   "metadata": {},
   "outputs": [
    {
     "name": "stdout",
     "output_type": "stream",
     "text": [
      "Variable: wtc_AcWindSp_mean    Importance: 0.87\n",
      "Variable: BoostedRef           Importance: 0.07\n",
      "Variable: wtc_ScInOper_timeon  Importance: 0.05\n",
      "Variable: WindSheer1           Importance: 0.0\n",
      "Variable: wtc_NacelPos_mean    Importance: 0.0\n",
      "Variable: WS_Thies_80m_Avg     Importance: 0.0\n",
      "Variable: WS_Thies_60m_Avg     Importance: 0.0\n",
      "Variable: WS_ICEFREE_Avg       Importance: 0.0\n",
      "Variable: BP_mbar_76m_Avg      Importance: 0.0\n",
      "Variable: AirTC_3m_Avg         Importance: 0.0\n",
      "Variable: Icing                Importance: 0.0\n",
      "Variable: Air_density          Importance: 0.0\n"
     ]
    }
   ],
   "source": [
    "# Get numerical feature importances\n",
    "importances = list(rf.feature_importances_)\n",
    "\n",
    "# List of tuples with variable and importance\n",
    "feature_importances = [(feature, round(importance, 2)) for feature, importance in zip(keepcols, importances)]\n",
    "\n",
    "# Sort the feature importances by most important first\n",
    "feature_importances = sorted(feature_importances, key = lambda x: x[1], reverse = True)\n",
    "\n",
    "\n",
    "# Print out the feature and importances \n",
    "[print('Variable: {:20} Importance: {}'.format(*pair)) for pair in feature_importances];"
   ]
  },
  {
   "cell_type": "code",
   "execution_count": 45,
   "metadata": {},
   "outputs": [
    {
     "data": {
      "image/png": "[encoded data removed]",
      "text/plain": [
       "<Figure size 432x288 with 1 Axes>"
      ]
     },
     "metadata": {},
     "output_type": "display_data"
    }
   ],
   "source": [
    "pylab.bar (keepcols, rf.feature_importances_, 1/4)\n",
    "\n",
    "pylab.xticks(keepcols, rotation='vertical')\n",
    "pylab.ylabel('Importance'); pylab.xlabel('Variable'); pylab.title('Variable Importances');\n",
    "pylab.show()"
   ]
  },
  {
   "cell_type": "markdown",
   "metadata": {},
   "source": [
    "#### With our final random forest model, we get 98.3% accuracy that primarily depends on the mean wind speed (87%). This result makes sense as the power output of the turbine would seem to primarily depend on the wind speed."
   ]
  },
  {
   "cell_type": "code",
   "execution_count": 85,
   "metadata": {},
   "outputs": [
    {
     "data": {
      "image/png": "[encoded data removed]",
      "text/plain": [
       "<Figure size 432x288 with 1 Axes>"
      ]
     },
     "metadata": {},
     "output_type": "display_data"
    }
   ],
   "source": [
    "# REMINDERS\n",
    "# y_a = np.array(y, dtype=pd.Series)\n",
    "# print(y_a)\n",
    "\n",
    "# train_y_a, test_y_a, train_data, test_data = train_test_split(y_a, data, test_size = 0.25, \n",
    "#     random_state = 42)\n",
    "# train_y_r = np.atleast_2d(train_y_a)\n",
    "# test_y_r = np.atleast_2d(test_y_a)\n",
    "# print(train_y_r)\n",
    "# print(test_y_r)\n",
    "# train_y_s = train_y_r.reshape(-1,1)\n",
    "# print(train_y_s)\n",
    "# test_y_s = test_y_r.reshape(-1,1)\n",
    "# print(test_y_s)\n",
    "\n",
    "# # Instantiate model with 50 decision trees\n",
    "# rf = RandomForestRegressor(n_estimators = 10, random_state = 5)\n",
    "\n",
    "# # Train the model on training data\n",
    "# rf.fit(train_data, train_y_a);\n",
    "\n",
    "# # Use the forest's predict method on the test data\n",
    "# predictions = rf.predict(test_data)\n",
    "\n",
    "# # Calculate the absolute errors\n",
    "# errors = abs(predictions - test_y_a)\n",
    "# score = rf.score(test_data, test_y_a)\n",
    "\n",
    "# Plot the results\n",
    "pylab.figure()\n",
    "s = 50\n",
    "a = 0.4\n",
    "\n",
    "pylab.scatter(predictions_1, test_y_a, edgecolor='k', c=\"c\", s=s, marker=\"^\", alpha=a,\n",
    "            label=\"RF_1 score=%.2f\" % rf_1.score(test_data, test_y_a))\n",
    "pylab.xlim([0, 3000])\n",
    "pylab.ylim([0, 3000])\n",
    "pylab.xlabel(\"power output prediction 1\")\n",
    "pylab.ylabel(\"actual power output\")\n",
    "pylab.title(\"Comparing random forests\")\n",
    "pylab.legend()\n",
    "pylab.show()"
   ]
  },
  {
   "cell_type": "markdown",
   "metadata": {},
   "source": [
    "#### From this plot it is clear that the predictive accuracy of the first random forest model is not very accurate."
   ]
  },
  {
   "cell_type": "code",
   "execution_count": 84,
   "metadata": {},
   "outputs": [
    {
     "data": {
      "image/png": "[encoded data removed]",
      "text/plain": [
       "<Figure size 432x288 with 1 Axes>"
      ]
     },
     "metadata": {},
     "output_type": "display_data"
    }
   ],
   "source": [
    "# Plot the results\n",
    "pylab.figure()\n",
    "s = 50\n",
    "a = 0.4\n",
    "\n",
    "pylab.scatter(predictions_2, test_y_a, edgecolor='k', c=\"c\", s=s, marker=\"^\", alpha=a,\n",
    "            label=\"RF_2 score=%.2f\" % rf_2.score(test_data, test_y_a))\n",
    "pylab.xlim([0, 3000])\n",
    "pylab.ylim([0, 3000])\n",
    "pylab.xlabel(\"power output prediction 2\")\n",
    "pylab.ylabel(\"actual power output\")\n",
    "pylab.title(\"Comparing random forests\")\n",
    "pylab.legend()\n",
    "pylab.show()"
   ]
  },
  {
   "cell_type": "markdown",
   "metadata": {},
   "source": [
    "#### The predictive accuracy of the second random forest model is very high."
   ]
  },
  {
   "cell_type": "code",
   "execution_count": 83,
   "metadata": {},
   "outputs": [
    {
     "data": {
      "image/png": "[encoded data removed]",
      "text/plain": [
       "<Figure size 432x288 with 1 Axes>"
      ]
     },
     "metadata": {},
     "output_type": "display_data"
    }
   ],
   "source": [
    "# Plot the results\n",
    "pylab.figure()\n",
    "s = 50\n",
    "a = 0.4\n",
    "\n",
    "pylab.scatter(predictions_3, test_y_a, edgecolor='k', c=\"c\", s=s, marker=\"^\", alpha=a,\n",
    "            label=\"RF_3 score=%.2f\" % rf_3.score(test_data, test_y_a))\n",
    "pylab.xlim([0, 3000])\n",
    "pylab.ylim([0, 3000])\n",
    "pylab.xlabel(\"power output prediction 3\")\n",
    "pylab.ylabel(\"actual power output\")\n",
    "pylab.title(\"Comparing random forests\")\n",
    "pylab.legend()\n",
    "pylab.show()"
   ]
  },
  {
   "cell_type": "markdown",
   "metadata": {},
   "source": [
    "#### The third random forest model is very similar to the second model which is what we saw earlier. "
   ]
  },
  {
   "cell_type": "markdown",
   "metadata": {},
   "source": [
    "# END SHERI'S NOTEBOOK"
   ]
  },
  {
   "cell_type": "code",
   "execution_count": null,
   "metadata": {},
   "outputs": [],
   "source": []
  }
 ],
 "metadata": {
  "kernelspec": {
   "display_name": "Python 3",
   "language": "python",
   "name": "python3"
  },
  "language_info": {
   "codemirror_mode": {
    "name": "ipython",
    "version": 3
   },
   "file_extension": ".py",
   "mimetype": "text/x-python",
   "name": "python",
   "nbconvert_exporter": "python",
   "pygments_lexer": "ipython3",
   "version": "3.6.4"
  }
 },
 "nbformat": 4,
 "nbformat_minor": 2
}
